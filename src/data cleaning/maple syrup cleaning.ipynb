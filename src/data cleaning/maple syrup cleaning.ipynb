{
 "cells": [
  {
   "cell_type": "code",
   "execution_count": null,
   "metadata": {},
   "outputs": [],
   "source": [
    "import pandas as pd\n",
    "import numpy as np\n",
    "import altair as alt\n",
    "import re\n",
    "import string"
   ]
  },
  {
   "cell_type": "code",
   "execution_count": null,
   "metadata": {},
   "outputs": [],
   "source": [
    "data = pd.read_csv(\"../../data/cleaned/maple/county data.csv\")\n",
    "df = data.copy()\n",
    "df.drop(axis=1, inplace=True, columns=[\"Program\", \"Period\", \"Week Ending\", \"Geo Level\", \"State ANSI\", \"Ag District\", \"Ag District Code\", \"County ANSI\", \"Zip Code\", \"Region\", \"watershed_code\", \"Watershed\", \"Commodity\", \"Domain\", \"Domain Category\"])\n",
    "df.head(3)"
   ]
  },
  {
   "cell_type": "code",
   "execution_count": null,
   "metadata": {},
   "outputs": [],
   "source": [
    "df.dtypes"
   ]
  },
  {
   "cell_type": "code",
   "execution_count": null,
   "metadata": {},
   "outputs": [],
   "source": [
    "cleaned_data = pd.DataFrame()\n",
    "for col in \"Year\", \"State\", \"County\":\n",
    "    cleaned_data[col.upper()] = \"\"\n",
    "\n",
    "for col in df[\"Data Item\"].unique():\n",
    "    new_col = re.match(\"^(?:MAPLE SYRUP - )([^,\\n]+)\", col)\n",
    "    cleaned_data[new_col.group(1)] = \"\"\n",
    "\n",
    "cleaned_data.head()"
   ]
  },
  {
   "cell_type": "code",
   "execution_count": null,
   "metadata": {},
   "outputs": [],
   "source": [
    "new_row = dict()\n",
    "\n",
    "for index, row in df.iterrows():\n",
    "    if row[\"Year\"] in [2012, 2017]:\n",
    "        if index % 5 == 0:\n",
    "            # refresh row, this happens once every 5 rows\n",
    "            new_row = dict()\n",
    "            new_row[\"YEAR\"] = row[\"Year\"]\n",
    "            new_row[\"STATE\"] = row[\"State\"]\n",
    "            new_row[\"COUNTY\"] = row[\"County\"]\n",
    "        \n",
    "        # each data item appears once\n",
    "        if row[\"Data Item\"] == 'MAPLE SYRUP - NUMBER OF TAPS':\n",
    "            new_row[\"NUMBER OF TAPS\"] = row[\"Value\"]\n",
    "        elif row[\"Data Item\"] == 'MAPLE SYRUP - OPERATIONS WITH SALES':\n",
    "            new_row[\"OPERATIONS WITH SALES\"] = row[\"Value\"]\n",
    "        elif row[\"Data Item\"] == 'MAPLE SYRUP - OPERATIONS WITH TAPS':\n",
    "            new_row[\"OPERATIONS WITH TAPS\"] = row[\"Value\"]\n",
    "        elif row[\"Data Item\"] == 'MAPLE SYRUP - PRODUCTION, MEASURED IN GALLONS':\n",
    "            new_row[\"PRODUCTION\"] = row[\"Value\"]\n",
    "        elif row[\"Data Item\"] == 'MAPLE SYRUP - SALES, MEASURED IN $':\n",
    "            new_row[\"SALES\"] = row[\"Value\"]\n",
    "            cleaned_data = cleaned_data.append(new_row, ignore_index=True)\n",
    "    \n",
    "    elif row[\"Year\"] == 2002:\n",
    "        if index % 3 == 0:\n",
    "            # refresh row, this happens once every 3 rows\n",
    "            new_row = dict()\n",
    "            new_row[\"YEAR\"] = row[\"Year\"]\n",
    "            new_row[\"STATE\"] = row[\"State\"]\n",
    "            new_row[\"COUNTY\"] = row[\"County\"]\n",
    "\n",
    "        if row[\"Data Item\"] == 'MAPLE SYRUP - NUMBER OF TAPS':\n",
    "            #print(row[\"Value\"])\n",
    "            new_row[\"NUMBER OF TAPS\"] = row[\"Value\"]\n",
    "            print(new_row[\"NUMBER OF TAPS\"])\n",
    "        elif row[\"Data Item\"] == 'MAPLE SYRUP - OPERATIONS WITH TAPS':\n",
    "            new_row[\"OPERATIONS WITH TAPS\"] = row[\"Value\"]\n",
    "        elif row[\"Data Item\"] == 'MAPLE SYRUP - PRODUCTION, MEASURED IN GALLONS':\n",
    "            new_row[\"PRODUCTION\"] = row[\"Value\"]\n",
    "            cleaned_data = cleaned_data.append(new_row, ignore_index=True)\n",
    "    \n",
    "    elif row[\"Year\"] == 1997:\n",
    "        if index % 2 == 0:\n",
    "            # refresh row, this happens once every 2 rows\n",
    "            new_row = dict()\n",
    "            new_row[\"YEAR\"] = row[\"Year\"]\n",
    "            new_row[\"STATE\"] = row[\"State\"]\n",
    "            new_row[\"COUNTY\"] = row[\"County\"]\n",
    "\n",
    "        if row[\"Data Item\"] == 'MAPLE SYRUP - NUMBER OF TAPS':\n",
    "            new_row[\"NUMBER OF TAPS\"] = row[\"Value\"]\n",
    "        elif row[\"Data Item\"] == 'MAPLE SYRUP - OPERATIONS WITH TAPS':\n",
    "            new_row[\"OPERATIONS WITH TAPS\"] = row[\"Value\"]\n",
    "            cleaned_data = cleaned_data.append(new_row, ignore_index=True)"
   ]
  },
  {
   "cell_type": "code",
   "execution_count": null,
   "metadata": {},
   "outputs": [],
   "source": [
    "display(cleaned_data[cleaned_data[\"YEAR\"] == 2002].head())\n",
    "cleaned_data[cleaned_data[\"YEAR\"] == 2002].tail()"
   ]
  },
  {
   "cell_type": "code",
   "execution_count": null,
   "metadata": {},
   "outputs": [],
   "source": [
    "cleaned_data.to_csv(\"../../data/cleaned/maple/cleaned county data.csv\", index=False)"
   ]
  }
 ],
 "metadata": {
  "kernelspec": {
   "display_name": "Python 3.7.0 64-bit ('Capstone': conda)",
   "language": "python",
   "name": "python37064bitcapstoneconda4c011bf3812e465f9a235200dba099ea"
  },
  "language_info": {
   "codemirror_mode": {
    "name": "ipython",
    "version": 3
   },
   "file_extension": ".py",
   "mimetype": "text/x-python",
   "name": "python",
   "nbconvert_exporter": "python",
   "pygments_lexer": "ipython3",
   "version": "3.7.0-final"
  }
 },
 "nbformat": 4,
 "nbformat_minor": 4
}