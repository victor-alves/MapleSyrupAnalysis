{
 "nbformat": 4,
 "nbformat_minor": 2,
 "metadata": {
  "language_info": {
   "name": "python",
   "codemirror_mode": {
    "name": "ipython",
    "version": 3
   },
   "version": "3.7.0-final"
  },
  "orig_nbformat": 2,
  "file_extension": ".py",
  "mimetype": "text/x-python",
  "name": "python",
  "npconvert_exporter": "python",
  "pygments_lexer": "ipython3",
  "version": 3,
  "kernelspec": {
   "name": "python37064bitcapstoneconda4c011bf3812e465f9a235200dba099ea",
   "display_name": "Python 3.7.0 64-bit ('Capstone': conda)"
  }
 },
 "cells": [
  {
   "cell_type": "code",
   "execution_count": 1,
   "metadata": {},
   "outputs": [],
   "source": [
    "import pandas as pd\n",
    "import numpy as np"
   ]
  },
  {
   "cell_type": "code",
   "execution_count": 2,
   "metadata": {},
   "outputs": [],
   "source": [
    "def load_data(env, maple):\n",
    "    env_df = pd.read_csv(env).copy()\n",
    "    maple_df = pd.read_csv(maple).copy()\n",
    "\n",
    "    maple_df.drop(\"STATE\", axis=1, inplace=True)\n",
    "    env_df.rename(columns={\"DATE\": \"YEAR\"}, inplace=True)\n",
    "    env_df['COUNTY'] = env_df['COUNTY'].str.upper() \n",
    "\n",
    "    cols_to_add = set(list(maple_df.columns) + list(env_df.columns))\n",
    "    df = pd.DataFrame(columns=cols_to_add)\n",
    "\n",
    "    return env_df, maple_df, df\n",
    "\n",
    "def merge_data(env, maple, merged):\n",
    "    # group each dataframe by county and year\n",
    "    maple_groupby = maple.groupby([\"COUNTY\", \"YEAR\"])\n",
    "    env_groupby = env.groupby([\"COUNTY\", \"YEAR\"])\n",
    "    counties_groupyby = env.groupby(\"COUNTY\")\n",
    "\n",
    "    # loop through all the counties\n",
    "    for county in maple[\"COUNTY\"].unique():\n",
    "        # get the county maple data\n",
    "        county_data = maple[maple[\"COUNTY\"] == county]\n",
    "        # for each year in the maple data, find if it has env data\n",
    "        for year in county_data[\"YEAR\"].unique():\n",
    "            # check if there's env data for that county at that year\n",
    "            env_county_years = counties_groupyby.get_group(county)[\"YEAR\"].unique()\n",
    "            if county in env[\"COUNTY\"].unique() and year in env_county_years:\n",
    "                env_group = env_groupby.get_group((county.upper(), year))\n",
    "                # get the correct maple syrup data\n",
    "                maple_group = maple_groupby.get_group((county, year))\n",
    "\n",
    "                # construct the merged row\n",
    "                new_row = dict()\n",
    "                for col in env.columns:\n",
    "                    new_row[col] = env_group[col].values[0]\n",
    "                for col in maple.columns:\n",
    "                    new_row[col] = maple_group[col].values[0]\n",
    "\n",
    "                # add to the merged dataframe\n",
    "                merged = merged.append(new_row, ignore_index=True)\n",
    "    \n",
    "    return merged\n",
    "\n",
    "def reorder_columns(df):\n",
    "    cols = ['YEAR', 'COUNTY', 'OPERATIONS WITH TAPS', 'OPERATIONS WITH SALES', 'NUMBER OF TAPS', 'SALES', 'PRODUCTION', 'TAVG', 'FZF9', 'HTDD', 'DX32', 'FZF5', 'EMXP', 'SNOW', 'TMIN', 'DX70', 'FZF0', 'EMNT', 'FZF4', 'FZF6', 'FZF2', 'DX90', 'EMXT', 'CDSD', 'PRCP', 'FZF7', 'TMAX', 'FZF8', 'DT32', 'DT00', 'CLDD', 'FZF3', 'FZF1']\n",
    "    df = df[cols]\n",
    "    return df\n",
    ""
   ]
  },
  {
   "cell_type": "code",
   "execution_count": null,
   "metadata": {},
   "outputs": [],
   "source": [
    "env, maple, df = load_data(clustering_data, maple_data)"
   ]
  },
  {
   "cell_type": "code",
   "execution_count": null,
   "metadata": {},
   "outputs": [],
   "source": [
    "# group each dataframe by county and year\n",
    "maple_groupby = maple.groupby([\"COUNTY\", \"YEAR\"])\n",
    "env_groupby = env.groupby([\"COUNTY\", \"YEAR\"])\n",
    "counties_grp = env.groupby(\"COUNTY\")"
   ]
  },
  {
   "cell_type": "code",
   "execution_count": null,
   "metadata": {
    "tags": [
     "outputPrepend"
    ]
   },
   "outputs": [],
   "source": [
    "# Testing for Addison\n",
    "counties_grp = env.groupby(\"COUNTY\")\n",
    "counties = counties_grp.indices.keys()\n",
    "for year in county_data[\"YEAR\"].unique():\n",
    "    \n",
    "    for county in counties:\n",
    "    county_grp = counties_grp.get_group(county)\n",
    "    county_years = county_grp[\"YEAR\"].unique()\n",
    "\n",
    "#addison_grp[\"YEAR\"].unique()"
   ]
  },
  {
   "cell_type": "code",
   "execution_count": null,
   "metadata": {},
   "outputs": [],
   "source": [
    "# loop through all the counties\n",
    "for county in maple[\"COUNTY\"].unique():\n",
    "    # get the county maple data\n",
    "    county_data = maple[maple[\"COUNTY\"] == county]\n",
    "    # for each year in the maple data, find if it has env data\n",
    "    for year in county_data[\"YEAR\"].unique():\n",
    "        # check if there's env data for that county at that year\n",
    "        env_county_years = counties_grp.get_group(county)[\"YEAR\"].unique()\n",
    "        if county in env[\"COUNTY\"].unique() and year in env_county_years:\n",
    "            env_group = env_groupby.get_group((county.upper(), year))\n",
    "            # get the correct maple syrup data\n",
    "            maple_group = maple_groupby.get_group((county, year))"
   ]
  },
  {
   "cell_type": "code",
   "execution_count": null,
   "metadata": {},
   "outputs": [],
   "source": [
    "# loop through all the counties\n",
    "for county in maple[\"COUNTY\"].unique():\n",
    "    # get the county data\n",
    "    county_data = maple[maple[\"COUNTY\"] == county]\n",
    "    for year in county_data[\"YEAR\"].unique():\n",
    "        if county in env[\"COUNTY\"].unique() and year in env[\"YEAR\"].unique():\n",
    "            # get the related environmental data\n",
    "            env_group = env_groupby.get_group((county.upper(), year))\n",
    "            # get the correct maple syrup data\n",
    "            maple_group = maple_groupby.get_group((county, year))\n",
    "\n",
    "            # construct the merged row\n",
    "            new_row = dict()\n",
    "            for col in env.columns:\n",
    "                new_row[col] = env_group[col].values[0]\n",
    "            for col in maple.columns:\n",
    "                new_row[col] = maple_group[col].values[0]\n",
    "\n",
    "            # add to the merged dataframe\n",
    "            df = df.append(new_row, ignore_index=True)\n",
    "df"
   ]
  },
  {
   "cell_type": "code",
   "execution_count": 3,
   "metadata": {},
   "outputs": [],
   "source": [
    "# predictions_data = \"../../data/cleaned/environment/cleaned environment data - predictions.csv\"\n",
    "clustering_data = \"../../data/cleaned/environment/cleaned environment data - clustering.csv\"\n",
    "maple_data = \"../../data/cleaned/maple/cleaned county data.csv\"\n",
    "\n",
    "#merged_predictions_data = merge_data(*load_data(predictions_data, maple_data))\n",
    "#merged_predictions_data = reorder_columns(merged_predictions_data)\n",
    "#merged_predictions_data.to_csv(\"../../data/cleaned/merged data - predictions.csv\", index=False)\n",
    "\n",
    "merged_clustering_data = merge_data(*load_data(clustering_data, maple_data))\n",
    "merged_clustering_data = reorder_columns(merged_clustering_data)\n",
    "merged_clustering_data.to_csv(\"../../data/cleaned/merged data - clustering.csv\", index=False)"
   ]
  },
  {
   "cell_type": "code",
   "execution_count": 4,
   "metadata": {},
   "outputs": [
    {
     "output_type": "execute_result",
     "data": {
      "text/plain": "    YEAR   COUNTY OPERATIONS WITH TAPS  OPERATIONS WITH SALES NUMBER OF TAPS  \\\n0   2017  ADDISON                   82                   82.0        308,392   \n1   2012  ADDISON                   91                   90.0        153,050   \n2   2007  ADDISON                   92                    NaN        146,342   \n3   2002  ADDISON                   98                    NaN        100,698   \n4   1997  ADDISON                   87                    NaN        100,904   \n..   ...      ...                  ...                    ...            ...   \n65  2017  WINDSOR                  137                  137.0        247,707   \n66  2012  WINDSOR                  188                  186.0        301,451   \n67  2007  WINDSOR                  174                    NaN        301,940   \n68  2002  WINDSOR                  211                    NaN        249,619   \n69  1997  WINDSOR                  205                    NaN        232,668   \n\n        SALES PRODUCTION       TAVG       FZF9         HTDD  ...   CDSD  \\\n0   3,469,000    131,899  54.600000  11.500000  7464.000000  ...  313.5   \n1   1,290,000     34,809  58.200000   7.000000  6287.000000  ...  542.0   \n2         NaN     37,244  45.650000  10.000000  6991.000000  ...  538.5   \n3         NaN     24,681  44.854545  10.090909  7709.636364  ...  509.5   \n4         NaN        NaN  45.600000  15.000000  7038.000000  ...  375.0   \n..        ...        ...        ...        ...          ...  ...    ...   \n65  2,401,000     75,698  57.000000  13.000000  7072.000000  ...  367.0   \n66  1,936,000     52,241  59.400000   2.000000  6534.000000  ...  479.0   \n67        NaN     55,986  44.000000  14.000000  7434.000000  ...  372.0   \n68        NaN     60,530  44.382609  10.739130  7290.108696  ...  456.5   \n69        NaN        NaN  43.300000  11.500000  7667.000000  ...  228.5   \n\n         PRCP       FZF7       TMAX       FZF8   DT32  DT00   CLDD       FZF3  \\\n0   51.110000  18.000000  34.250000  11.500000  160.0  20.5  313.5  18.000000   \n1   39.540000  23.000000  37.000000  18.000000  146.0   5.0  542.0  16.000000   \n2   41.260000  24.000000  56.550000  13.000000  158.5  27.0  538.5  18.500000   \n3   43.132727  21.727273  55.790909  18.727273   97.0   9.5   85.0  17.000000   \n4   30.285000  20.000000  56.300000  20.000000  170.0  12.0  375.0  19.000000   \n..        ...        ...        ...        ...    ...   ...    ...        ...   \n65  51.125000  22.000000  34.400000  17.000000  159.0  16.0  367.0  19.000000   \n66  38.960000  23.000000  36.400000  20.000000  164.0   9.0  479.0  18.000000   \n67  45.660000  22.000000  55.800000  14.000000  181.0  28.0  372.0  19.000000   \n68  49.020000  22.782609  55.806522  17.413043   99.5  12.3   90.0  17.586957   \n69  44.420000  23.500000  54.950000  18.500000  185.5  14.5  228.5  18.500000   \n\n          FZF1  \n0    24.500000  \n1    24.000000  \n2    25.500000  \n3    24.727273  \n4    28.000000  \n..         ...  \n65   27.000000  \n66   24.000000  \n67   23.500000  \n68  280.000000  \n69   26.500000  \n\n[70 rows x 33 columns]",
      "text/html": "<div>\n<style scoped>\n    .dataframe tbody tr th:only-of-type {\n        vertical-align: middle;\n    }\n\n    .dataframe tbody tr th {\n        vertical-align: top;\n    }\n\n    .dataframe thead th {\n        text-align: right;\n    }\n</style>\n<table border=\"1\" class=\"dataframe\">\n  <thead>\n    <tr style=\"text-align: right;\">\n      <th></th>\n      <th>YEAR</th>\n      <th>COUNTY</th>\n      <th>OPERATIONS WITH TAPS</th>\n      <th>OPERATIONS WITH SALES</th>\n      <th>NUMBER OF TAPS</th>\n      <th>SALES</th>\n      <th>PRODUCTION</th>\n      <th>TAVG</th>\n      <th>FZF9</th>\n      <th>HTDD</th>\n      <th>...</th>\n      <th>CDSD</th>\n      <th>PRCP</th>\n      <th>FZF7</th>\n      <th>TMAX</th>\n      <th>FZF8</th>\n      <th>DT32</th>\n      <th>DT00</th>\n      <th>CLDD</th>\n      <th>FZF3</th>\n      <th>FZF1</th>\n    </tr>\n  </thead>\n  <tbody>\n    <tr>\n      <th>0</th>\n      <td>2017</td>\n      <td>ADDISON</td>\n      <td>82</td>\n      <td>82.0</td>\n      <td>308,392</td>\n      <td>3,469,000</td>\n      <td>131,899</td>\n      <td>54.600000</td>\n      <td>11.500000</td>\n      <td>7464.000000</td>\n      <td>...</td>\n      <td>313.5</td>\n      <td>51.110000</td>\n      <td>18.000000</td>\n      <td>34.250000</td>\n      <td>11.500000</td>\n      <td>160.0</td>\n      <td>20.5</td>\n      <td>313.5</td>\n      <td>18.000000</td>\n      <td>24.500000</td>\n    </tr>\n    <tr>\n      <th>1</th>\n      <td>2012</td>\n      <td>ADDISON</td>\n      <td>91</td>\n      <td>90.0</td>\n      <td>153,050</td>\n      <td>1,290,000</td>\n      <td>34,809</td>\n      <td>58.200000</td>\n      <td>7.000000</td>\n      <td>6287.000000</td>\n      <td>...</td>\n      <td>542.0</td>\n      <td>39.540000</td>\n      <td>23.000000</td>\n      <td>37.000000</td>\n      <td>18.000000</td>\n      <td>146.0</td>\n      <td>5.0</td>\n      <td>542.0</td>\n      <td>16.000000</td>\n      <td>24.000000</td>\n    </tr>\n    <tr>\n      <th>2</th>\n      <td>2007</td>\n      <td>ADDISON</td>\n      <td>92</td>\n      <td>NaN</td>\n      <td>146,342</td>\n      <td>NaN</td>\n      <td>37,244</td>\n      <td>45.650000</td>\n      <td>10.000000</td>\n      <td>6991.000000</td>\n      <td>...</td>\n      <td>538.5</td>\n      <td>41.260000</td>\n      <td>24.000000</td>\n      <td>56.550000</td>\n      <td>13.000000</td>\n      <td>158.5</td>\n      <td>27.0</td>\n      <td>538.5</td>\n      <td>18.500000</td>\n      <td>25.500000</td>\n    </tr>\n    <tr>\n      <th>3</th>\n      <td>2002</td>\n      <td>ADDISON</td>\n      <td>98</td>\n      <td>NaN</td>\n      <td>100,698</td>\n      <td>NaN</td>\n      <td>24,681</td>\n      <td>44.854545</td>\n      <td>10.090909</td>\n      <td>7709.636364</td>\n      <td>...</td>\n      <td>509.5</td>\n      <td>43.132727</td>\n      <td>21.727273</td>\n      <td>55.790909</td>\n      <td>18.727273</td>\n      <td>97.0</td>\n      <td>9.5</td>\n      <td>85.0</td>\n      <td>17.000000</td>\n      <td>24.727273</td>\n    </tr>\n    <tr>\n      <th>4</th>\n      <td>1997</td>\n      <td>ADDISON</td>\n      <td>87</td>\n      <td>NaN</td>\n      <td>100,904</td>\n      <td>NaN</td>\n      <td>NaN</td>\n      <td>45.600000</td>\n      <td>15.000000</td>\n      <td>7038.000000</td>\n      <td>...</td>\n      <td>375.0</td>\n      <td>30.285000</td>\n      <td>20.000000</td>\n      <td>56.300000</td>\n      <td>20.000000</td>\n      <td>170.0</td>\n      <td>12.0</td>\n      <td>375.0</td>\n      <td>19.000000</td>\n      <td>28.000000</td>\n    </tr>\n    <tr>\n      <th>...</th>\n      <td>...</td>\n      <td>...</td>\n      <td>...</td>\n      <td>...</td>\n      <td>...</td>\n      <td>...</td>\n      <td>...</td>\n      <td>...</td>\n      <td>...</td>\n      <td>...</td>\n      <td>...</td>\n      <td>...</td>\n      <td>...</td>\n      <td>...</td>\n      <td>...</td>\n      <td>...</td>\n      <td>...</td>\n      <td>...</td>\n      <td>...</td>\n      <td>...</td>\n      <td>...</td>\n    </tr>\n    <tr>\n      <th>65</th>\n      <td>2017</td>\n      <td>WINDSOR</td>\n      <td>137</td>\n      <td>137.0</td>\n      <td>247,707</td>\n      <td>2,401,000</td>\n      <td>75,698</td>\n      <td>57.000000</td>\n      <td>13.000000</td>\n      <td>7072.000000</td>\n      <td>...</td>\n      <td>367.0</td>\n      <td>51.125000</td>\n      <td>22.000000</td>\n      <td>34.400000</td>\n      <td>17.000000</td>\n      <td>159.0</td>\n      <td>16.0</td>\n      <td>367.0</td>\n      <td>19.000000</td>\n      <td>27.000000</td>\n    </tr>\n    <tr>\n      <th>66</th>\n      <td>2012</td>\n      <td>WINDSOR</td>\n      <td>188</td>\n      <td>186.0</td>\n      <td>301,451</td>\n      <td>1,936,000</td>\n      <td>52,241</td>\n      <td>59.400000</td>\n      <td>2.000000</td>\n      <td>6534.000000</td>\n      <td>...</td>\n      <td>479.0</td>\n      <td>38.960000</td>\n      <td>23.000000</td>\n      <td>36.400000</td>\n      <td>20.000000</td>\n      <td>164.0</td>\n      <td>9.0</td>\n      <td>479.0</td>\n      <td>18.000000</td>\n      <td>24.000000</td>\n    </tr>\n    <tr>\n      <th>67</th>\n      <td>2007</td>\n      <td>WINDSOR</td>\n      <td>174</td>\n      <td>NaN</td>\n      <td>301,940</td>\n      <td>NaN</td>\n      <td>55,986</td>\n      <td>44.000000</td>\n      <td>14.000000</td>\n      <td>7434.000000</td>\n      <td>...</td>\n      <td>372.0</td>\n      <td>45.660000</td>\n      <td>22.000000</td>\n      <td>55.800000</td>\n      <td>14.000000</td>\n      <td>181.0</td>\n      <td>28.0</td>\n      <td>372.0</td>\n      <td>19.000000</td>\n      <td>23.500000</td>\n    </tr>\n    <tr>\n      <th>68</th>\n      <td>2002</td>\n      <td>WINDSOR</td>\n      <td>211</td>\n      <td>NaN</td>\n      <td>249,619</td>\n      <td>NaN</td>\n      <td>60,530</td>\n      <td>44.382609</td>\n      <td>10.739130</td>\n      <td>7290.108696</td>\n      <td>...</td>\n      <td>456.5</td>\n      <td>49.020000</td>\n      <td>22.782609</td>\n      <td>55.806522</td>\n      <td>17.413043</td>\n      <td>99.5</td>\n      <td>12.3</td>\n      <td>90.0</td>\n      <td>17.586957</td>\n      <td>280.000000</td>\n    </tr>\n    <tr>\n      <th>69</th>\n      <td>1997</td>\n      <td>WINDSOR</td>\n      <td>205</td>\n      <td>NaN</td>\n      <td>232,668</td>\n      <td>NaN</td>\n      <td>NaN</td>\n      <td>43.300000</td>\n      <td>11.500000</td>\n      <td>7667.000000</td>\n      <td>...</td>\n      <td>228.5</td>\n      <td>44.420000</td>\n      <td>23.500000</td>\n      <td>54.950000</td>\n      <td>18.500000</td>\n      <td>185.5</td>\n      <td>14.5</td>\n      <td>228.5</td>\n      <td>18.500000</td>\n      <td>26.500000</td>\n    </tr>\n  </tbody>\n</table>\n<p>70 rows × 33 columns</p>\n</div>"
     },
     "metadata": {},
     "execution_count": 4
    }
   ],
   "source": [
    "merged_clustering_data"
   ]
  }
 ]
}