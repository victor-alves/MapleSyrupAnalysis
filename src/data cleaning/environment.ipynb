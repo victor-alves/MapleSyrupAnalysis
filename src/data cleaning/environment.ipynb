{
 "nbformat": 4,
 "nbformat_minor": 2,
 "metadata": {
  "language_info": {
   "name": "python",
   "codemirror_mode": {
    "name": "ipython",
    "version": 3
   },
   "version": "3.7.0-final"
  },
  "orig_nbformat": 2,
  "file_extension": ".py",
  "mimetype": "text/x-python",
  "name": "python",
  "npconvert_exporter": "python",
  "pygments_lexer": "ipython3",
  "version": 3,
  "kernelspec": {
   "name": "python37064bitcapstoneconda4c011bf3812e465f9a235200dba099ea",
   "display_name": "Python 3.7.0 64-bit ('Capstone': conda)"
  }
 },
 "cells": [
  {
   "cell_type": "code",
   "execution_count": 1,
   "metadata": {},
   "outputs": [],
   "source": [
    "import pandas as pd\n",
    "import numpy as np"
   ]
  },
  {
   "cell_type": "code",
   "execution_count": 2,
   "metadata": {},
   "outputs": [],
   "source": [
    "data = pd.read_csv(\"../../data/raw/environment data - with counties.csv\")"
   ]
  },
  {
   "cell_type": "code",
   "execution_count": 3,
   "metadata": {},
   "outputs": [],
   "source": [
    "relevant_cols = [\"NAME\", \"LATITUDE\", \"LONGITUDE\", \"COUNTY\", \"ELEVATION\", \"DATE\", \"CDSD\", \"EMXP\", \"PRCP\", \"CLDD\", \"DT00\", \"DT32\", \"DX32\", \"DX70\", \"DX90\", \"EMNT\", \"EMXT\", \"FZF0\", \"FZF1\", \"FZF2\", \"FZF3\", \"FZF4\", \"FZF5\", \"FZF6\", \"FZF7\", \"FZF8\", \"FZF9\", \"HTDD\", \"TAVG\", \"TMAX\", \"TMIN\", \"SNOW\", \"PSUN\"]\n",
    "# consider whether emnt_attribute is needed for the date down the line\n",
    "target_cols = []"
   ]
  },
  {
   "cell_type": "code",
   "execution_count": 4,
   "metadata": {},
   "outputs": [],
   "source": [
    "df = data.copy()\n",
    "relevant = df[relevant_cols].drop_duplicates()\n",
    "focused = df[target_cols]\n",
    "\n",
    "# categorize columns\n",
    "categorical_cols = list(relevant.select_dtypes(\"object\").columns)\n",
    "#id_cols = [col for col in training.columns if col.endswith(\"_id\")]\n",
    "id_cols = [\"ELEVATION\", \"DATE\"]\n",
    "target_col = []\n",
    "exclude_cols = categorical_cols + id_cols + target_col\n",
    "numerical_cols = [col for col in relevant.columns if col not in exclude_cols]"
   ]
  },
  {
   "cell_type": "code",
   "execution_count": 5,
   "metadata": {},
   "outputs": [],
   "source": [
    "relevant = relevant.sort_values(by=[\"COUNTY\", \"DATE\"]).reset_index(drop=True).drop([\"NAME\", \"LATITUDE\", \"LONGITUDE\", \"ELEVATION\"], axis=1)"
   ]
  },
  {
   "cell_type": "code",
   "execution_count": 6,
   "metadata": {},
   "outputs": [
    {
     "data": {
      "text/html": "<div>\n<style scoped>\n    .dataframe tbody tr th:only-of-type {\n        vertical-align: middle;\n    }\n\n    .dataframe tbody tr th {\n        vertical-align: top;\n    }\n\n    .dataframe thead th {\n        text-align: right;\n    }\n</style>\n<table border=\"1\" class=\"dataframe\">\n  <thead>\n    <tr style=\"text-align: right;\">\n      <th></th>\n      <th>COUNTY</th>\n      <th>DATE</th>\n      <th>CDSD</th>\n      <th>EMXP</th>\n      <th>PRCP</th>\n      <th>CLDD</th>\n      <th>DT00</th>\n      <th>DT32</th>\n      <th>DX32</th>\n      <th>DX70</th>\n      <th>...</th>\n      <th>FZF6</th>\n      <th>FZF7</th>\n      <th>FZF8</th>\n      <th>FZF9</th>\n      <th>HTDD</th>\n      <th>TAVG</th>\n      <th>TMAX</th>\n      <th>TMIN</th>\n      <th>SNOW</th>\n      <th>PSUN</th>\n    </tr>\n  </thead>\n  <tbody>\n    <tr>\n      <th>1216</th>\n      <td>Windsor</td>\n      <td>2019</td>\n      <td>NaN</td>\n      <td>2.17</td>\n      <td>47.30</td>\n      <td>NaN</td>\n      <td>NaN</td>\n      <td>NaN</td>\n      <td>NaN</td>\n      <td>NaN</td>\n      <td>...</td>\n      <td>NaN</td>\n      <td>NaN</td>\n      <td>NaN</td>\n      <td>NaN</td>\n      <td>NaN</td>\n      <td>NaN</td>\n      <td>NaN</td>\n      <td>NaN</td>\n      <td>NaN</td>\n      <td>NaN</td>\n    </tr>\n    <tr>\n      <th>1217</th>\n      <td>Windsor</td>\n      <td>2019</td>\n      <td>NaN</td>\n      <td>2.37</td>\n      <td>43.76</td>\n      <td>NaN</td>\n      <td>19.0</td>\n      <td>166.0</td>\n      <td>NaN</td>\n      <td>NaN</td>\n      <td>...</td>\n      <td>28.0</td>\n      <td>24.0</td>\n      <td>19.0</td>\n      <td>15.0</td>\n      <td>7680.0</td>\n      <td>NaN</td>\n      <td>33.0</td>\n      <td>NaN</td>\n      <td>NaN</td>\n      <td>58.6</td>\n    </tr>\n    <tr>\n      <th>1218</th>\n      <td>Windsor</td>\n      <td>2019</td>\n      <td>310.0</td>\n      <td>NaN</td>\n      <td>NaN</td>\n      <td>310.0</td>\n      <td>29.0</td>\n      <td>176.0</td>\n      <td>62.0</td>\n      <td>109.0</td>\n      <td>...</td>\n      <td>27.0</td>\n      <td>23.0</td>\n      <td>19.0</td>\n      <td>14.0</td>\n      <td>8262.0</td>\n      <td>53.8</td>\n      <td>32.2</td>\n      <td>NaN</td>\n      <td>43.0</td>\n      <td>NaN</td>\n    </tr>\n    <tr>\n      <th>1219</th>\n      <td>Windsor</td>\n      <td>2019</td>\n      <td>359.0</td>\n      <td>2.47</td>\n      <td>49.14</td>\n      <td>359.0</td>\n      <td>29.0</td>\n      <td>173.0</td>\n      <td>57.0</td>\n      <td>121.0</td>\n      <td>...</td>\n      <td>27.0</td>\n      <td>22.0</td>\n      <td>20.0</td>\n      <td>16.0</td>\n      <td>7840.0</td>\n      <td>55.7</td>\n      <td>32.2</td>\n      <td>NaN</td>\n      <td>43.9</td>\n      <td>NaN</td>\n    </tr>\n    <tr>\n      <th>1220</th>\n      <td>Windsor</td>\n      <td>2019</td>\n      <td>NaN</td>\n      <td>2.33</td>\n      <td>54.18</td>\n      <td>NaN</td>\n      <td>NaN</td>\n      <td>NaN</td>\n      <td>NaN</td>\n      <td>NaN</td>\n      <td>...</td>\n      <td>NaN</td>\n      <td>NaN</td>\n      <td>NaN</td>\n      <td>NaN</td>\n      <td>NaN</td>\n      <td>NaN</td>\n      <td>NaN</td>\n      <td>NaN</td>\n      <td>NaN</td>\n      <td>NaN</td>\n    </tr>\n    <tr>\n      <th>1221</th>\n      <td>Windsor</td>\n      <td>2019</td>\n      <td>391.0</td>\n      <td>1.45</td>\n      <td>37.19</td>\n      <td>391.0</td>\n      <td>12.0</td>\n      <td>168.0</td>\n      <td>57.0</td>\n      <td>125.0</td>\n      <td>...</td>\n      <td>26.0</td>\n      <td>22.0</td>\n      <td>19.0</td>\n      <td>15.0</td>\n      <td>7625.0</td>\n      <td>55.6</td>\n      <td>34.5</td>\n      <td>280.0</td>\n      <td>45.0</td>\n      <td>NaN</td>\n    </tr>\n  </tbody>\n</table>\n<p>6 rows × 29 columns</p>\n</div>",
      "text/plain": "       COUNTY  DATE   CDSD  EMXP   PRCP   CLDD  DT00   DT32  DX32   DX70  ...  \\\n1216  Windsor  2019    NaN  2.17  47.30    NaN   NaN    NaN   NaN    NaN  ...   \n1217  Windsor  2019    NaN  2.37  43.76    NaN  19.0  166.0   NaN    NaN  ...   \n1218  Windsor  2019  310.0   NaN    NaN  310.0  29.0  176.0  62.0  109.0  ...   \n1219  Windsor  2019  359.0  2.47  49.14  359.0  29.0  173.0  57.0  121.0  ...   \n1220  Windsor  2019    NaN  2.33  54.18    NaN   NaN    NaN   NaN    NaN  ...   \n1221  Windsor  2019  391.0  1.45  37.19  391.0  12.0  168.0  57.0  125.0  ...   \n\n      FZF6  FZF7  FZF8  FZF9    HTDD  TAVG  TMAX   TMIN  SNOW  PSUN  \n1216   NaN   NaN   NaN   NaN     NaN   NaN   NaN    NaN   NaN   NaN  \n1217  28.0  24.0  19.0  15.0  7680.0   NaN  33.0    NaN   NaN  58.6  \n1218  27.0  23.0  19.0  14.0  8262.0  53.8  32.2    NaN  43.0   NaN  \n1219  27.0  22.0  20.0  16.0  7840.0  55.7  32.2    NaN  43.9   NaN  \n1220   NaN   NaN   NaN   NaN     NaN   NaN   NaN    NaN   NaN   NaN  \n1221  26.0  22.0  19.0  15.0  7625.0  55.6  34.5  280.0  45.0   NaN  \n\n[6 rows x 29 columns]"
     },
     "metadata": {},
     "output_type": "display_data"
    }
   ],
   "source": [
    "display(relevant.tail(6))"
   ]
  },
  {
   "cell_type": "code",
   "execution_count": 10,
   "metadata": {},
   "outputs": [
    {
     "name": "stderr",
     "output_type": "stream",
     "text": "D:\\Anaconda\\envs\\Capstone\\lib\\site-packages\\pandas\\core\\frame.py:2960: SettingWithCopyWarning: \nA value is trying to be set on a copy of a slice from a DataFrame.\nTry using .loc[row_indexer,col_indexer] = value instead\n\nSee the caveats in the documentation: https://pandas.pydata.org/pandas-docs/stable/user_guide/indexing.html#returning-a-view-versus-a-copy\n  self[k1] = value[k2]\n"
    }
   ],
   "source": [
    "relevant_groupby = relevant.groupby([\"COUNTY\", \"DATE\"])\n",
    "\n",
    "for county in relevant[\"COUNTY\"].unique():\n",
    "    county_data = relevant[relevant[\"COUNTY\"] == county]\n",
    "    for year in county_data[\"DATE\"].unique():\n",
    "        # get current slice of data from that year for that county\n",
    "        current_group = relevant_groupby.get_group((county, year))\n",
    "        # get the names of the columns that are missing all their data\n",
    "        missing_cols = current_group.loc[:, current_group.isna().sum() == current_group.shape[0]].columns\n",
    "        # get the names of the columns that have some missing data but not all\n",
    "        other_cols = [col for col in current_group.columns if col not in missing_cols]\n",
    "        # fill in the missing values in the columns in other_cols with their respective medians\n",
    "        current_group[other_cols] = current_group[other_cols].fillna(current_group[other_cols].median())\n",
    "        # save values in current group back into original dataframe ('relevant')\n",
    "        relevant.update(current_group, overwrite=False)"
   ]
  },
  {
   "cell_type": "code",
   "execution_count": 15,
   "metadata": {},
   "outputs": [
    {
     "data": {
      "text/html": "<div>\n<style scoped>\n    .dataframe tbody tr th:only-of-type {\n        vertical-align: middle;\n    }\n\n    .dataframe tbody tr th {\n        vertical-align: top;\n    }\n\n    .dataframe thead th {\n        text-align: right;\n    }\n</style>\n<table border=\"1\" class=\"dataframe\">\n  <thead>\n    <tr style=\"text-align: right;\">\n      <th></th>\n      <th>COUNTY</th>\n      <th>DATE</th>\n      <th>CDSD</th>\n      <th>EMXP</th>\n      <th>PRCP</th>\n      <th>CLDD</th>\n      <th>DT00</th>\n      <th>DT32</th>\n      <th>DX32</th>\n      <th>DX70</th>\n      <th>...</th>\n      <th>FZF6</th>\n      <th>FZF7</th>\n      <th>FZF8</th>\n      <th>FZF9</th>\n      <th>HTDD</th>\n      <th>TAVG</th>\n      <th>TMAX</th>\n      <th>TMIN</th>\n      <th>SNOW</th>\n      <th>PSUN</th>\n    </tr>\n  </thead>\n  <tbody>\n    <tr>\n      <th>0</th>\n      <td>Addison</td>\n      <td>1990</td>\n      <td>NaN</td>\n      <td>2.52</td>\n      <td>54.870</td>\n      <td>NaN</td>\n      <td>2.0</td>\n      <td>136.0</td>\n      <td>55.0</td>\n      <td>107.0</td>\n      <td>...</td>\n      <td>24.0</td>\n      <td>24.0</td>\n      <td>17.0</td>\n      <td>11.0</td>\n      <td>7198.0</td>\n      <td>NaN</td>\n      <td>54.20</td>\n      <td>38.50</td>\n      <td>131.3</td>\n      <td>NaN</td>\n    </tr>\n    <tr>\n      <th>1</th>\n      <td>Addison</td>\n      <td>1990</td>\n      <td>NaN</td>\n      <td>2.60</td>\n      <td>48.940</td>\n      <td>NaN</td>\n      <td>2.0</td>\n      <td>136.0</td>\n      <td>55.0</td>\n      <td>107.0</td>\n      <td>...</td>\n      <td>24.0</td>\n      <td>24.0</td>\n      <td>17.0</td>\n      <td>11.0</td>\n      <td>7198.0</td>\n      <td>NaN</td>\n      <td>54.20</td>\n      <td>38.50</td>\n      <td>53.2</td>\n      <td>NaN</td>\n    </tr>\n    <tr>\n      <th>2</th>\n      <td>Addison</td>\n      <td>1990</td>\n      <td>NaN</td>\n      <td>2.40</td>\n      <td>46.650</td>\n      <td>NaN</td>\n      <td>2.0</td>\n      <td>136.0</td>\n      <td>55.0</td>\n      <td>107.0</td>\n      <td>...</td>\n      <td>24.0</td>\n      <td>24.0</td>\n      <td>17.0</td>\n      <td>11.0</td>\n      <td>7198.0</td>\n      <td>NaN</td>\n      <td>54.20</td>\n      <td>38.50</td>\n      <td>69.4</td>\n      <td>NaN</td>\n    </tr>\n    <tr>\n      <th>3</th>\n      <td>Addison</td>\n      <td>1991</td>\n      <td>NaN</td>\n      <td>1.90</td>\n      <td>37.150</td>\n      <td>NaN</td>\n      <td>30.0</td>\n      <td>161.0</td>\n      <td>63.0</td>\n      <td>109.0</td>\n      <td>...</td>\n      <td>27.0</td>\n      <td>20.0</td>\n      <td>20.0</td>\n      <td>11.0</td>\n      <td>NaN</td>\n      <td>42.9</td>\n      <td>53.60</td>\n      <td>32.30</td>\n      <td>89.4</td>\n      <td>NaN</td>\n    </tr>\n    <tr>\n      <th>4</th>\n      <td>Addison</td>\n      <td>1991</td>\n      <td>NaN</td>\n      <td>1.90</td>\n      <td>37.150</td>\n      <td>NaN</td>\n      <td>30.0</td>\n      <td>161.0</td>\n      <td>63.0</td>\n      <td>109.0</td>\n      <td>...</td>\n      <td>27.0</td>\n      <td>20.0</td>\n      <td>20.0</td>\n      <td>11.0</td>\n      <td>NaN</td>\n      <td>42.9</td>\n      <td>53.60</td>\n      <td>32.30</td>\n      <td>26.0</td>\n      <td>NaN</td>\n    </tr>\n    <tr>\n      <th>5</th>\n      <td>Addison</td>\n      <td>1992</td>\n      <td>66.0</td>\n      <td>1.66</td>\n      <td>34.760</td>\n      <td>66.0</td>\n      <td>42.0</td>\n      <td>190.0</td>\n      <td>75.0</td>\n      <td>84.0</td>\n      <td>...</td>\n      <td>27.0</td>\n      <td>24.0</td>\n      <td>15.0</td>\n      <td>15.0</td>\n      <td>8685.0</td>\n      <td>39.5</td>\n      <td>50.30</td>\n      <td>28.70</td>\n      <td>106.6</td>\n      <td>NaN</td>\n    </tr>\n    <tr>\n      <th>6</th>\n      <td>Addison</td>\n      <td>1992</td>\n      <td>269.0</td>\n      <td>1.67</td>\n      <td>34.510</td>\n      <td>269.0</td>\n      <td>28.0</td>\n      <td>174.0</td>\n      <td>41.0</td>\n      <td>127.0</td>\n      <td>...</td>\n      <td>26.0</td>\n      <td>24.0</td>\n      <td>13.0</td>\n      <td>13.0</td>\n      <td>7909.5</td>\n      <td>43.9</td>\n      <td>56.30</td>\n      <td>31.40</td>\n      <td>22.3</td>\n      <td>NaN</td>\n    </tr>\n    <tr>\n      <th>7</th>\n      <td>Addison</td>\n      <td>1992</td>\n      <td>209.0</td>\n      <td>1.41</td>\n      <td>33.850</td>\n      <td>209.0</td>\n      <td>12.0</td>\n      <td>146.0</td>\n      <td>58.0</td>\n      <td>105.0</td>\n      <td>...</td>\n      <td>24.0</td>\n      <td>24.0</td>\n      <td>20.0</td>\n      <td>15.0</td>\n      <td>7134.0</td>\n      <td>44.4</td>\n      <td>53.40</td>\n      <td>35.50</td>\n      <td>22.5</td>\n      <td>NaN</td>\n    </tr>\n    <tr>\n      <th>8</th>\n      <td>Addison</td>\n      <td>1993</td>\n      <td>142.0</td>\n      <td>1.85</td>\n      <td>43.760</td>\n      <td>142.0</td>\n      <td>47.0</td>\n      <td>203.0</td>\n      <td>88.0</td>\n      <td>89.0</td>\n      <td>...</td>\n      <td>28.0</td>\n      <td>22.0</td>\n      <td>20.0</td>\n      <td>9.0</td>\n      <td>9145.0</td>\n      <td>38.5</td>\n      <td>49.50</td>\n      <td>27.50</td>\n      <td>174.0</td>\n      <td>NaN</td>\n    </tr>\n    <tr>\n      <th>9</th>\n      <td>Addison</td>\n      <td>1993</td>\n      <td>387.0</td>\n      <td>2.00</td>\n      <td>34.720</td>\n      <td>387.0</td>\n      <td>37.0</td>\n      <td>181.0</td>\n      <td>53.0</td>\n      <td>122.0</td>\n      <td>...</td>\n      <td>28.0</td>\n      <td>21.0</td>\n      <td>19.0</td>\n      <td>10.0</td>\n      <td>7726.0</td>\n      <td>44.0</td>\n      <td>56.70</td>\n      <td>31.30</td>\n      <td>85.9</td>\n      <td>NaN</td>\n    </tr>\n    <tr>\n      <th>10</th>\n      <td>Addison</td>\n      <td>1994</td>\n      <td>144.0</td>\n      <td>1.36</td>\n      <td>42.230</td>\n      <td>144.0</td>\n      <td>50.0</td>\n      <td>191.0</td>\n      <td>85.0</td>\n      <td>75.0</td>\n      <td>...</td>\n      <td>25.0</td>\n      <td>24.0</td>\n      <td>18.0</td>\n      <td>8.0</td>\n      <td>10535.0</td>\n      <td>38.6</td>\n      <td>49.50</td>\n      <td>27.80</td>\n      <td>132.7</td>\n      <td>NaN</td>\n    </tr>\n    <tr>\n      <th>11</th>\n      <td>Addison</td>\n      <td>1994</td>\n      <td>325.5</td>\n      <td>1.52</td>\n      <td>40.745</td>\n      <td>325.5</td>\n      <td>42.0</td>\n      <td>180.5</td>\n      <td>69.0</td>\n      <td>102.0</td>\n      <td>...</td>\n      <td>24.5</td>\n      <td>24.0</td>\n      <td>18.5</td>\n      <td>10.0</td>\n      <td>8163.0</td>\n      <td>41.7</td>\n      <td>53.25</td>\n      <td>30.15</td>\n      <td>63.8</td>\n      <td>NaN</td>\n    </tr>\n    <tr>\n      <th>12</th>\n      <td>Addison</td>\n      <td>1994</td>\n      <td>507.0</td>\n      <td>1.68</td>\n      <td>39.260</td>\n      <td>507.0</td>\n      <td>34.0</td>\n      <td>170.0</td>\n      <td>53.0</td>\n      <td>129.0</td>\n      <td>...</td>\n      <td>24.0</td>\n      <td>24.0</td>\n      <td>19.0</td>\n      <td>12.0</td>\n      <td>8163.0</td>\n      <td>44.8</td>\n      <td>57.00</td>\n      <td>32.50</td>\n      <td>87.0</td>\n      <td>NaN</td>\n    </tr>\n    <tr>\n      <th>13</th>\n      <td>Addison</td>\n      <td>1994</td>\n      <td>325.5</td>\n      <td>1.52</td>\n      <td>40.745</td>\n      <td>325.5</td>\n      <td>42.0</td>\n      <td>180.5</td>\n      <td>69.0</td>\n      <td>102.0</td>\n      <td>...</td>\n      <td>24.5</td>\n      <td>24.0</td>\n      <td>18.5</td>\n      <td>10.0</td>\n      <td>7756.0</td>\n      <td>41.7</td>\n      <td>53.25</td>\n      <td>30.15</td>\n      <td>71.9</td>\n      <td>NaN</td>\n    </tr>\n    <tr>\n      <th>14</th>\n      <td>Addison</td>\n      <td>1995</td>\n      <td>516.0</td>\n      <td>2.94</td>\n      <td>47.880</td>\n      <td>516.0</td>\n      <td>22.0</td>\n      <td>165.0</td>\n      <td>75.0</td>\n      <td>98.0</td>\n      <td>...</td>\n      <td>22.0</td>\n      <td>22.0</td>\n      <td>17.0</td>\n      <td>15.0</td>\n      <td>8357.0</td>\n      <td>45.4</td>\n      <td>52.60</td>\n      <td>32.80</td>\n      <td>145.6</td>\n      <td>NaN</td>\n    </tr>\n    <tr>\n      <th>15</th>\n      <td>Addison</td>\n      <td>1995</td>\n      <td>516.0</td>\n      <td>3.11</td>\n      <td>38.170</td>\n      <td>516.0</td>\n      <td>22.0</td>\n      <td>165.0</td>\n      <td>55.0</td>\n      <td>132.0</td>\n      <td>...</td>\n      <td>22.0</td>\n      <td>22.0</td>\n      <td>17.0</td>\n      <td>15.0</td>\n      <td>7076.0</td>\n      <td>45.4</td>\n      <td>58.10</td>\n      <td>32.80</td>\n      <td>93.1</td>\n      <td>NaN</td>\n    </tr>\n    <tr>\n      <th>16</th>\n      <td>Addison</td>\n      <td>1996</td>\n      <td>388.0</td>\n      <td>2.27</td>\n      <td>44.190</td>\n      <td>388.0</td>\n      <td>25.0</td>\n      <td>175.0</td>\n      <td>46.0</td>\n      <td>133.0</td>\n      <td>...</td>\n      <td>27.0</td>\n      <td>23.0</td>\n      <td>19.0</td>\n      <td>16.0</td>\n      <td>7971.0</td>\n      <td>45.4</td>\n      <td>57.00</td>\n      <td>33.90</td>\n      <td>80.0</td>\n      <td>NaN</td>\n    </tr>\n    <tr>\n      <th>17</th>\n      <td>Addison</td>\n      <td>1997</td>\n      <td>375.0</td>\n      <td>1.07</td>\n      <td>25.630</td>\n      <td>375.0</td>\n      <td>12.0</td>\n      <td>170.0</td>\n      <td>59.0</td>\n      <td>113.0</td>\n      <td>...</td>\n      <td>27.0</td>\n      <td>20.0</td>\n      <td>20.0</td>\n      <td>15.0</td>\n      <td>7038.0</td>\n      <td>45.6</td>\n      <td>55.70</td>\n      <td>34.30</td>\n      <td>60.5</td>\n      <td>NaN</td>\n    </tr>\n    <tr>\n      <th>18</th>\n      <td>Addison</td>\n      <td>1997</td>\n      <td>375.0</td>\n      <td>1.73</td>\n      <td>34.940</td>\n      <td>375.0</td>\n      <td>12.0</td>\n      <td>170.0</td>\n      <td>46.0</td>\n      <td>127.0</td>\n      <td>...</td>\n      <td>27.0</td>\n      <td>20.0</td>\n      <td>20.0</td>\n      <td>15.0</td>\n      <td>7038.0</td>\n      <td>45.6</td>\n      <td>56.90</td>\n      <td>34.30</td>\n      <td>105.9</td>\n      <td>NaN</td>\n    </tr>\n    <tr>\n      <th>19</th>\n      <td>Addison</td>\n      <td>1998</td>\n      <td>480.0</td>\n      <td>3.65</td>\n      <td>60.380</td>\n      <td>480.0</td>\n      <td>5.0</td>\n      <td>146.0</td>\n      <td>28.0</td>\n      <td>148.0</td>\n      <td>...</td>\n      <td>27.0</td>\n      <td>24.0</td>\n      <td>10.0</td>\n      <td>10.0</td>\n      <td>6558.0</td>\n      <td>48.9</td>\n      <td>59.90</td>\n      <td>37.90</td>\n      <td>69.1</td>\n      <td>NaN</td>\n    </tr>\n    <tr>\n      <th>20</th>\n      <td>Addison</td>\n      <td>1998</td>\n      <td>480.0</td>\n      <td>2.75</td>\n      <td>45.500</td>\n      <td>480.0</td>\n      <td>5.0</td>\n      <td>146.0</td>\n      <td>28.0</td>\n      <td>148.0</td>\n      <td>...</td>\n      <td>27.0</td>\n      <td>24.0</td>\n      <td>10.0</td>\n      <td>10.0</td>\n      <td>6558.0</td>\n      <td>48.9</td>\n      <td>59.90</td>\n      <td>37.90</td>\n      <td>55.6</td>\n      <td>NaN</td>\n    </tr>\n    <tr>\n      <th>21</th>\n      <td>Addison</td>\n      <td>1999</td>\n      <td>301.0</td>\n      <td>3.97</td>\n      <td>42.590</td>\n      <td>301.0</td>\n      <td>25.0</td>\n      <td>165.0</td>\n      <td>64.0</td>\n      <td>110.0</td>\n      <td>...</td>\n      <td>26.0</td>\n      <td>22.0</td>\n      <td>20.0</td>\n      <td>15.0</td>\n      <td>7810.0</td>\n      <td>43.9</td>\n      <td>54.60</td>\n      <td>33.20</td>\n      <td>87.6</td>\n      <td>NaN</td>\n    </tr>\n    <tr>\n      <th>22</th>\n      <td>Addison</td>\n      <td>1999</td>\n      <td>657.0</td>\n      <td>3.81</td>\n      <td>36.370</td>\n      <td>657.0</td>\n      <td>15.0</td>\n      <td>165.0</td>\n      <td>42.0</td>\n      <td>144.0</td>\n      <td>...</td>\n      <td>27.0</td>\n      <td>22.0</td>\n      <td>19.0</td>\n      <td>16.0</td>\n      <td>6835.0</td>\n      <td>47.8</td>\n      <td>60.40</td>\n      <td>35.30</td>\n      <td>54.4</td>\n      <td>NaN</td>\n    </tr>\n    <tr>\n      <th>23</th>\n      <td>Addison</td>\n      <td>2000</td>\n      <td>286.5</td>\n      <td>2.31</td>\n      <td>54.110</td>\n      <td>286.5</td>\n      <td>29.0</td>\n      <td>163.0</td>\n      <td>58.0</td>\n      <td>121.5</td>\n      <td>...</td>\n      <td>28.0</td>\n      <td>21.5</td>\n      <td>18.5</td>\n      <td>6.0</td>\n      <td>7702.0</td>\n      <td>44.4</td>\n      <td>55.70</td>\n      <td>33.05</td>\n      <td>119.8</td>\n      <td>NaN</td>\n    </tr>\n    <tr>\n      <th>24</th>\n      <td>Addison</td>\n      <td>2000</td>\n      <td>322.0</td>\n      <td>2.01</td>\n      <td>42.960</td>\n      <td>322.0</td>\n      <td>26.0</td>\n      <td>165.0</td>\n      <td>54.0</td>\n      <td>132.0</td>\n      <td>...</td>\n      <td>28.0</td>\n      <td>22.0</td>\n      <td>18.0</td>\n      <td>6.0</td>\n      <td>7014.0</td>\n      <td>45.2</td>\n      <td>57.00</td>\n      <td>33.30</td>\n      <td>99.3</td>\n      <td>NaN</td>\n    </tr>\n  </tbody>\n</table>\n<p>25 rows × 29 columns</p>\n</div>",
      "text/plain": "     COUNTY  DATE   CDSD  EMXP    PRCP   CLDD  DT00   DT32  DX32   DX70  ...  \\\n0   Addison  1990    NaN  2.52  54.870    NaN   2.0  136.0  55.0  107.0  ...   \n1   Addison  1990    NaN  2.60  48.940    NaN   2.0  136.0  55.0  107.0  ...   \n2   Addison  1990    NaN  2.40  46.650    NaN   2.0  136.0  55.0  107.0  ...   \n3   Addison  1991    NaN  1.90  37.150    NaN  30.0  161.0  63.0  109.0  ...   \n4   Addison  1991    NaN  1.90  37.150    NaN  30.0  161.0  63.0  109.0  ...   \n5   Addison  1992   66.0  1.66  34.760   66.0  42.0  190.0  75.0   84.0  ...   \n6   Addison  1992  269.0  1.67  34.510  269.0  28.0  174.0  41.0  127.0  ...   \n7   Addison  1992  209.0  1.41  33.850  209.0  12.0  146.0  58.0  105.0  ...   \n8   Addison  1993  142.0  1.85  43.760  142.0  47.0  203.0  88.0   89.0  ...   \n9   Addison  1993  387.0  2.00  34.720  387.0  37.0  181.0  53.0  122.0  ...   \n10  Addison  1994  144.0  1.36  42.230  144.0  50.0  191.0  85.0   75.0  ...   \n11  Addison  1994  325.5  1.52  40.745  325.5  42.0  180.5  69.0  102.0  ...   \n12  Addison  1994  507.0  1.68  39.260  507.0  34.0  170.0  53.0  129.0  ...   \n13  Addison  1994  325.5  1.52  40.745  325.5  42.0  180.5  69.0  102.0  ...   \n14  Addison  1995  516.0  2.94  47.880  516.0  22.0  165.0  75.0   98.0  ...   \n15  Addison  1995  516.0  3.11  38.170  516.0  22.0  165.0  55.0  132.0  ...   \n16  Addison  1996  388.0  2.27  44.190  388.0  25.0  175.0  46.0  133.0  ...   \n17  Addison  1997  375.0  1.07  25.630  375.0  12.0  170.0  59.0  113.0  ...   \n18  Addison  1997  375.0  1.73  34.940  375.0  12.0  170.0  46.0  127.0  ...   \n19  Addison  1998  480.0  3.65  60.380  480.0   5.0  146.0  28.0  148.0  ...   \n20  Addison  1998  480.0  2.75  45.500  480.0   5.0  146.0  28.0  148.0  ...   \n21  Addison  1999  301.0  3.97  42.590  301.0  25.0  165.0  64.0  110.0  ...   \n22  Addison  1999  657.0  3.81  36.370  657.0  15.0  165.0  42.0  144.0  ...   \n23  Addison  2000  286.5  2.31  54.110  286.5  29.0  163.0  58.0  121.5  ...   \n24  Addison  2000  322.0  2.01  42.960  322.0  26.0  165.0  54.0  132.0  ...   \n\n    FZF6  FZF7  FZF8  FZF9     HTDD  TAVG   TMAX   TMIN   SNOW  PSUN  \n0   24.0  24.0  17.0  11.0   7198.0   NaN  54.20  38.50  131.3   NaN  \n1   24.0  24.0  17.0  11.0   7198.0   NaN  54.20  38.50   53.2   NaN  \n2   24.0  24.0  17.0  11.0   7198.0   NaN  54.20  38.50   69.4   NaN  \n3   27.0  20.0  20.0  11.0      NaN  42.9  53.60  32.30   89.4   NaN  \n4   27.0  20.0  20.0  11.0      NaN  42.9  53.60  32.30   26.0   NaN  \n5   27.0  24.0  15.0  15.0   8685.0  39.5  50.30  28.70  106.6   NaN  \n6   26.0  24.0  13.0  13.0   7909.5  43.9  56.30  31.40   22.3   NaN  \n7   24.0  24.0  20.0  15.0   7134.0  44.4  53.40  35.50   22.5   NaN  \n8   28.0  22.0  20.0   9.0   9145.0  38.5  49.50  27.50  174.0   NaN  \n9   28.0  21.0  19.0  10.0   7726.0  44.0  56.70  31.30   85.9   NaN  \n10  25.0  24.0  18.0   8.0  10535.0  38.6  49.50  27.80  132.7   NaN  \n11  24.5  24.0  18.5  10.0   8163.0  41.7  53.25  30.15   63.8   NaN  \n12  24.0  24.0  19.0  12.0   8163.0  44.8  57.00  32.50   87.0   NaN  \n13  24.5  24.0  18.5  10.0   7756.0  41.7  53.25  30.15   71.9   NaN  \n14  22.0  22.0  17.0  15.0   8357.0  45.4  52.60  32.80  145.6   NaN  \n15  22.0  22.0  17.0  15.0   7076.0  45.4  58.10  32.80   93.1   NaN  \n16  27.0  23.0  19.0  16.0   7971.0  45.4  57.00  33.90   80.0   NaN  \n17  27.0  20.0  20.0  15.0   7038.0  45.6  55.70  34.30   60.5   NaN  \n18  27.0  20.0  20.0  15.0   7038.0  45.6  56.90  34.30  105.9   NaN  \n19  27.0  24.0  10.0  10.0   6558.0  48.9  59.90  37.90   69.1   NaN  \n20  27.0  24.0  10.0  10.0   6558.0  48.9  59.90  37.90   55.6   NaN  \n21  26.0  22.0  20.0  15.0   7810.0  43.9  54.60  33.20   87.6   NaN  \n22  27.0  22.0  19.0  16.0   6835.0  47.8  60.40  35.30   54.4   NaN  \n23  28.0  21.5  18.5   6.0   7702.0  44.4  55.70  33.05  119.8   NaN  \n24  28.0  22.0  18.0   6.0   7014.0  45.2  57.00  33.30   99.3   NaN  \n\n[25 rows x 29 columns]"
     },
     "metadata": {},
     "output_type": "display_data"
    },
    {
     "data": {
      "text/plain": "COUNTY    False\nDATE      False\nCDSD       True\nEMXP       True\nPRCP       True\nCLDD       True\nDT00       True\nDT32       True\nDX32       True\nDX70       True\nDX90       True\nEMNT       True\nEMXT       True\nFZF0       True\nFZF1       True\nFZF2       True\nFZF3       True\nFZF4       True\nFZF5       True\nFZF6       True\nFZF7       True\nFZF8       True\nFZF9       True\nHTDD       True\nTAVG       True\nTMAX       True\nTMIN       True\nSNOW       True\nPSUN       True\ndtype: bool"
     },
     "metadata": {},
     "output_type": "display_data"
    }
   ],
   "source": [
    "display(relevant.head(25))\n",
    "display(relevant.isna().any())"
   ]
  },
  {
   "cell_type": "code",
   "execution_count": 16,
   "metadata": {},
   "outputs": [
    {
     "data": {
      "text/html": "<div>\n<style scoped>\n    .dataframe tbody tr th:only-of-type {\n        vertical-align: middle;\n    }\n\n    .dataframe tbody tr th {\n        vertical-align: top;\n    }\n\n    .dataframe thead th {\n        text-align: right;\n    }\n</style>\n<table border=\"1\" class=\"dataframe\">\n  <thead>\n    <tr style=\"text-align: right;\">\n      <th></th>\n      <th>COUNTY</th>\n      <th>DATE</th>\n      <th>CDSD</th>\n      <th>EMXP</th>\n      <th>PRCP</th>\n      <th>CLDD</th>\n      <th>DT00</th>\n      <th>DT32</th>\n      <th>DX32</th>\n      <th>DX70</th>\n      <th>...</th>\n      <th>FZF6</th>\n      <th>FZF7</th>\n      <th>FZF8</th>\n      <th>FZF9</th>\n      <th>HTDD</th>\n      <th>TAVG</th>\n      <th>TMAX</th>\n      <th>TMIN</th>\n      <th>SNOW</th>\n      <th>PSUN</th>\n    </tr>\n  </thead>\n  <tbody>\n    <tr>\n      <th>0</th>\n      <td>Addison</td>\n      <td>1990</td>\n      <td>NaN</td>\n      <td>2.52</td>\n      <td>54.870</td>\n      <td>NaN</td>\n      <td>2.0</td>\n      <td>136.0</td>\n      <td>55.0</td>\n      <td>107.0</td>\n      <td>...</td>\n      <td>24.0</td>\n      <td>24.0</td>\n      <td>17.0</td>\n      <td>11.0</td>\n      <td>7198.000000</td>\n      <td>NaN</td>\n      <td>54.20</td>\n      <td>38.50</td>\n      <td>131.3</td>\n      <td>NaN</td>\n    </tr>\n    <tr>\n      <th>1</th>\n      <td>Addison</td>\n      <td>1990</td>\n      <td>NaN</td>\n      <td>2.60</td>\n      <td>48.940</td>\n      <td>NaN</td>\n      <td>2.0</td>\n      <td>136.0</td>\n      <td>55.0</td>\n      <td>107.0</td>\n      <td>...</td>\n      <td>24.0</td>\n      <td>24.0</td>\n      <td>17.0</td>\n      <td>11.0</td>\n      <td>7198.000000</td>\n      <td>NaN</td>\n      <td>54.20</td>\n      <td>38.50</td>\n      <td>53.2</td>\n      <td>NaN</td>\n    </tr>\n    <tr>\n      <th>2</th>\n      <td>Addison</td>\n      <td>1990</td>\n      <td>NaN</td>\n      <td>2.40</td>\n      <td>46.650</td>\n      <td>NaN</td>\n      <td>2.0</td>\n      <td>136.0</td>\n      <td>55.0</td>\n      <td>107.0</td>\n      <td>...</td>\n      <td>24.0</td>\n      <td>24.0</td>\n      <td>17.0</td>\n      <td>11.0</td>\n      <td>7198.000000</td>\n      <td>NaN</td>\n      <td>54.20</td>\n      <td>38.50</td>\n      <td>69.4</td>\n      <td>NaN</td>\n    </tr>\n    <tr>\n      <th>3</th>\n      <td>Addison</td>\n      <td>1991</td>\n      <td>NaN</td>\n      <td>1.90</td>\n      <td>37.150</td>\n      <td>NaN</td>\n      <td>30.0</td>\n      <td>161.0</td>\n      <td>63.0</td>\n      <td>109.0</td>\n      <td>...</td>\n      <td>27.0</td>\n      <td>20.0</td>\n      <td>20.0</td>\n      <td>11.0</td>\n      <td>7693.666667</td>\n      <td>42.9</td>\n      <td>53.60</td>\n      <td>32.30</td>\n      <td>89.4</td>\n      <td>NaN</td>\n    </tr>\n    <tr>\n      <th>4</th>\n      <td>Addison</td>\n      <td>1991</td>\n      <td>NaN</td>\n      <td>1.90</td>\n      <td>37.150</td>\n      <td>NaN</td>\n      <td>30.0</td>\n      <td>161.0</td>\n      <td>63.0</td>\n      <td>109.0</td>\n      <td>...</td>\n      <td>27.0</td>\n      <td>20.0</td>\n      <td>20.0</td>\n      <td>11.0</td>\n      <td>8189.333333</td>\n      <td>42.9</td>\n      <td>53.60</td>\n      <td>32.30</td>\n      <td>26.0</td>\n      <td>NaN</td>\n    </tr>\n    <tr>\n      <th>5</th>\n      <td>Addison</td>\n      <td>1992</td>\n      <td>66.0</td>\n      <td>1.66</td>\n      <td>34.760</td>\n      <td>66.0</td>\n      <td>42.0</td>\n      <td>190.0</td>\n      <td>75.0</td>\n      <td>84.0</td>\n      <td>...</td>\n      <td>27.0</td>\n      <td>24.0</td>\n      <td>15.0</td>\n      <td>15.0</td>\n      <td>8685.000000</td>\n      <td>39.5</td>\n      <td>50.30</td>\n      <td>28.70</td>\n      <td>106.6</td>\n      <td>NaN</td>\n    </tr>\n    <tr>\n      <th>6</th>\n      <td>Addison</td>\n      <td>1992</td>\n      <td>269.0</td>\n      <td>1.67</td>\n      <td>34.510</td>\n      <td>269.0</td>\n      <td>28.0</td>\n      <td>174.0</td>\n      <td>41.0</td>\n      <td>127.0</td>\n      <td>...</td>\n      <td>26.0</td>\n      <td>24.0</td>\n      <td>13.0</td>\n      <td>13.0</td>\n      <td>7909.500000</td>\n      <td>43.9</td>\n      <td>56.30</td>\n      <td>31.40</td>\n      <td>22.3</td>\n      <td>NaN</td>\n    </tr>\n    <tr>\n      <th>7</th>\n      <td>Addison</td>\n      <td>1992</td>\n      <td>209.0</td>\n      <td>1.41</td>\n      <td>33.850</td>\n      <td>209.0</td>\n      <td>12.0</td>\n      <td>146.0</td>\n      <td>58.0</td>\n      <td>105.0</td>\n      <td>...</td>\n      <td>24.0</td>\n      <td>24.0</td>\n      <td>20.0</td>\n      <td>15.0</td>\n      <td>7134.000000</td>\n      <td>44.4</td>\n      <td>53.40</td>\n      <td>35.50</td>\n      <td>22.5</td>\n      <td>NaN</td>\n    </tr>\n    <tr>\n      <th>8</th>\n      <td>Addison</td>\n      <td>1993</td>\n      <td>142.0</td>\n      <td>1.85</td>\n      <td>43.760</td>\n      <td>142.0</td>\n      <td>47.0</td>\n      <td>203.0</td>\n      <td>88.0</td>\n      <td>89.0</td>\n      <td>...</td>\n      <td>28.0</td>\n      <td>22.0</td>\n      <td>20.0</td>\n      <td>9.0</td>\n      <td>9145.000000</td>\n      <td>38.5</td>\n      <td>49.50</td>\n      <td>27.50</td>\n      <td>174.0</td>\n      <td>NaN</td>\n    </tr>\n    <tr>\n      <th>9</th>\n      <td>Addison</td>\n      <td>1993</td>\n      <td>387.0</td>\n      <td>2.00</td>\n      <td>34.720</td>\n      <td>387.0</td>\n      <td>37.0</td>\n      <td>181.0</td>\n      <td>53.0</td>\n      <td>122.0</td>\n      <td>...</td>\n      <td>28.0</td>\n      <td>21.0</td>\n      <td>19.0</td>\n      <td>10.0</td>\n      <td>7726.000000</td>\n      <td>44.0</td>\n      <td>56.70</td>\n      <td>31.30</td>\n      <td>85.9</td>\n      <td>NaN</td>\n    </tr>\n    <tr>\n      <th>10</th>\n      <td>Addison</td>\n      <td>1994</td>\n      <td>144.0</td>\n      <td>1.36</td>\n      <td>42.230</td>\n      <td>144.0</td>\n      <td>50.0</td>\n      <td>191.0</td>\n      <td>85.0</td>\n      <td>75.0</td>\n      <td>...</td>\n      <td>25.0</td>\n      <td>24.0</td>\n      <td>18.0</td>\n      <td>8.0</td>\n      <td>10535.000000</td>\n      <td>38.6</td>\n      <td>49.50</td>\n      <td>27.80</td>\n      <td>132.7</td>\n      <td>NaN</td>\n    </tr>\n    <tr>\n      <th>11</th>\n      <td>Addison</td>\n      <td>1994</td>\n      <td>325.5</td>\n      <td>1.52</td>\n      <td>40.745</td>\n      <td>325.5</td>\n      <td>42.0</td>\n      <td>180.5</td>\n      <td>69.0</td>\n      <td>102.0</td>\n      <td>...</td>\n      <td>24.5</td>\n      <td>24.0</td>\n      <td>18.5</td>\n      <td>10.0</td>\n      <td>8163.000000</td>\n      <td>41.7</td>\n      <td>53.25</td>\n      <td>30.15</td>\n      <td>63.8</td>\n      <td>NaN</td>\n    </tr>\n    <tr>\n      <th>12</th>\n      <td>Addison</td>\n      <td>1994</td>\n      <td>507.0</td>\n      <td>1.68</td>\n      <td>39.260</td>\n      <td>507.0</td>\n      <td>34.0</td>\n      <td>170.0</td>\n      <td>53.0</td>\n      <td>129.0</td>\n      <td>...</td>\n      <td>24.0</td>\n      <td>24.0</td>\n      <td>19.0</td>\n      <td>12.0</td>\n      <td>8163.000000</td>\n      <td>44.8</td>\n      <td>57.00</td>\n      <td>32.50</td>\n      <td>87.0</td>\n      <td>NaN</td>\n    </tr>\n    <tr>\n      <th>13</th>\n      <td>Addison</td>\n      <td>1994</td>\n      <td>325.5</td>\n      <td>1.52</td>\n      <td>40.745</td>\n      <td>325.5</td>\n      <td>42.0</td>\n      <td>180.5</td>\n      <td>69.0</td>\n      <td>102.0</td>\n      <td>...</td>\n      <td>24.5</td>\n      <td>24.0</td>\n      <td>18.5</td>\n      <td>10.0</td>\n      <td>7756.000000</td>\n      <td>41.7</td>\n      <td>53.25</td>\n      <td>30.15</td>\n      <td>71.9</td>\n      <td>NaN</td>\n    </tr>\n    <tr>\n      <th>14</th>\n      <td>Addison</td>\n      <td>1995</td>\n      <td>516.0</td>\n      <td>2.94</td>\n      <td>47.880</td>\n      <td>516.0</td>\n      <td>22.0</td>\n      <td>165.0</td>\n      <td>75.0</td>\n      <td>98.0</td>\n      <td>...</td>\n      <td>22.0</td>\n      <td>22.0</td>\n      <td>17.0</td>\n      <td>15.0</td>\n      <td>8357.000000</td>\n      <td>45.4</td>\n      <td>52.60</td>\n      <td>32.80</td>\n      <td>145.6</td>\n      <td>NaN</td>\n    </tr>\n    <tr>\n      <th>15</th>\n      <td>Addison</td>\n      <td>1995</td>\n      <td>516.0</td>\n      <td>3.11</td>\n      <td>38.170</td>\n      <td>516.0</td>\n      <td>22.0</td>\n      <td>165.0</td>\n      <td>55.0</td>\n      <td>132.0</td>\n      <td>...</td>\n      <td>22.0</td>\n      <td>22.0</td>\n      <td>17.0</td>\n      <td>15.0</td>\n      <td>7076.000000</td>\n      <td>45.4</td>\n      <td>58.10</td>\n      <td>32.80</td>\n      <td>93.1</td>\n      <td>NaN</td>\n    </tr>\n    <tr>\n      <th>16</th>\n      <td>Addison</td>\n      <td>1996</td>\n      <td>388.0</td>\n      <td>2.27</td>\n      <td>44.190</td>\n      <td>388.0</td>\n      <td>25.0</td>\n      <td>175.0</td>\n      <td>46.0</td>\n      <td>133.0</td>\n      <td>...</td>\n      <td>27.0</td>\n      <td>23.0</td>\n      <td>19.0</td>\n      <td>16.0</td>\n      <td>7971.000000</td>\n      <td>45.4</td>\n      <td>57.00</td>\n      <td>33.90</td>\n      <td>80.0</td>\n      <td>NaN</td>\n    </tr>\n    <tr>\n      <th>17</th>\n      <td>Addison</td>\n      <td>1997</td>\n      <td>375.0</td>\n      <td>1.07</td>\n      <td>25.630</td>\n      <td>375.0</td>\n      <td>12.0</td>\n      <td>170.0</td>\n      <td>59.0</td>\n      <td>113.0</td>\n      <td>...</td>\n      <td>27.0</td>\n      <td>20.0</td>\n      <td>20.0</td>\n      <td>15.0</td>\n      <td>7038.000000</td>\n      <td>45.6</td>\n      <td>55.70</td>\n      <td>34.30</td>\n      <td>60.5</td>\n      <td>NaN</td>\n    </tr>\n    <tr>\n      <th>18</th>\n      <td>Addison</td>\n      <td>1997</td>\n      <td>375.0</td>\n      <td>1.73</td>\n      <td>34.940</td>\n      <td>375.0</td>\n      <td>12.0</td>\n      <td>170.0</td>\n      <td>46.0</td>\n      <td>127.0</td>\n      <td>...</td>\n      <td>27.0</td>\n      <td>20.0</td>\n      <td>20.0</td>\n      <td>15.0</td>\n      <td>7038.000000</td>\n      <td>45.6</td>\n      <td>56.90</td>\n      <td>34.30</td>\n      <td>105.9</td>\n      <td>NaN</td>\n    </tr>\n    <tr>\n      <th>19</th>\n      <td>Addison</td>\n      <td>1998</td>\n      <td>480.0</td>\n      <td>3.65</td>\n      <td>60.380</td>\n      <td>480.0</td>\n      <td>5.0</td>\n      <td>146.0</td>\n      <td>28.0</td>\n      <td>148.0</td>\n      <td>...</td>\n      <td>27.0</td>\n      <td>24.0</td>\n      <td>10.0</td>\n      <td>10.0</td>\n      <td>6558.000000</td>\n      <td>48.9</td>\n      <td>59.90</td>\n      <td>37.90</td>\n      <td>69.1</td>\n      <td>NaN</td>\n    </tr>\n    <tr>\n      <th>20</th>\n      <td>Addison</td>\n      <td>1998</td>\n      <td>480.0</td>\n      <td>2.75</td>\n      <td>45.500</td>\n      <td>480.0</td>\n      <td>5.0</td>\n      <td>146.0</td>\n      <td>28.0</td>\n      <td>148.0</td>\n      <td>...</td>\n      <td>27.0</td>\n      <td>24.0</td>\n      <td>10.0</td>\n      <td>10.0</td>\n      <td>6558.000000</td>\n      <td>48.9</td>\n      <td>59.90</td>\n      <td>37.90</td>\n      <td>55.6</td>\n      <td>NaN</td>\n    </tr>\n    <tr>\n      <th>21</th>\n      <td>Addison</td>\n      <td>1999</td>\n      <td>301.0</td>\n      <td>3.97</td>\n      <td>42.590</td>\n      <td>301.0</td>\n      <td>25.0</td>\n      <td>165.0</td>\n      <td>64.0</td>\n      <td>110.0</td>\n      <td>...</td>\n      <td>26.0</td>\n      <td>22.0</td>\n      <td>20.0</td>\n      <td>15.0</td>\n      <td>7810.000000</td>\n      <td>43.9</td>\n      <td>54.60</td>\n      <td>33.20</td>\n      <td>87.6</td>\n      <td>NaN</td>\n    </tr>\n    <tr>\n      <th>22</th>\n      <td>Addison</td>\n      <td>1999</td>\n      <td>657.0</td>\n      <td>3.81</td>\n      <td>36.370</td>\n      <td>657.0</td>\n      <td>15.0</td>\n      <td>165.0</td>\n      <td>42.0</td>\n      <td>144.0</td>\n      <td>...</td>\n      <td>27.0</td>\n      <td>22.0</td>\n      <td>19.0</td>\n      <td>16.0</td>\n      <td>6835.000000</td>\n      <td>47.8</td>\n      <td>60.40</td>\n      <td>35.30</td>\n      <td>54.4</td>\n      <td>NaN</td>\n    </tr>\n    <tr>\n      <th>23</th>\n      <td>Addison</td>\n      <td>2000</td>\n      <td>286.5</td>\n      <td>2.31</td>\n      <td>54.110</td>\n      <td>286.5</td>\n      <td>29.0</td>\n      <td>163.0</td>\n      <td>58.0</td>\n      <td>121.5</td>\n      <td>...</td>\n      <td>28.0</td>\n      <td>21.5</td>\n      <td>18.5</td>\n      <td>6.0</td>\n      <td>7702.000000</td>\n      <td>44.4</td>\n      <td>55.70</td>\n      <td>33.05</td>\n      <td>119.8</td>\n      <td>NaN</td>\n    </tr>\n    <tr>\n      <th>24</th>\n      <td>Addison</td>\n      <td>2000</td>\n      <td>322.0</td>\n      <td>2.01</td>\n      <td>42.960</td>\n      <td>322.0</td>\n      <td>26.0</td>\n      <td>165.0</td>\n      <td>54.0</td>\n      <td>132.0</td>\n      <td>...</td>\n      <td>28.0</td>\n      <td>22.0</td>\n      <td>18.0</td>\n      <td>6.0</td>\n      <td>7014.000000</td>\n      <td>45.2</td>\n      <td>57.00</td>\n      <td>33.30</td>\n      <td>99.3</td>\n      <td>NaN</td>\n    </tr>\n  </tbody>\n</table>\n<p>25 rows × 29 columns</p>\n</div>",
      "text/plain": "     COUNTY  DATE   CDSD  EMXP    PRCP   CLDD  DT00   DT32  DX32   DX70  ...  \\\n0   Addison  1990    NaN  2.52  54.870    NaN   2.0  136.0  55.0  107.0  ...   \n1   Addison  1990    NaN  2.60  48.940    NaN   2.0  136.0  55.0  107.0  ...   \n2   Addison  1990    NaN  2.40  46.650    NaN   2.0  136.0  55.0  107.0  ...   \n3   Addison  1991    NaN  1.90  37.150    NaN  30.0  161.0  63.0  109.0  ...   \n4   Addison  1991    NaN  1.90  37.150    NaN  30.0  161.0  63.0  109.0  ...   \n5   Addison  1992   66.0  1.66  34.760   66.0  42.0  190.0  75.0   84.0  ...   \n6   Addison  1992  269.0  1.67  34.510  269.0  28.0  174.0  41.0  127.0  ...   \n7   Addison  1992  209.0  1.41  33.850  209.0  12.0  146.0  58.0  105.0  ...   \n8   Addison  1993  142.0  1.85  43.760  142.0  47.0  203.0  88.0   89.0  ...   \n9   Addison  1993  387.0  2.00  34.720  387.0  37.0  181.0  53.0  122.0  ...   \n10  Addison  1994  144.0  1.36  42.230  144.0  50.0  191.0  85.0   75.0  ...   \n11  Addison  1994  325.5  1.52  40.745  325.5  42.0  180.5  69.0  102.0  ...   \n12  Addison  1994  507.0  1.68  39.260  507.0  34.0  170.0  53.0  129.0  ...   \n13  Addison  1994  325.5  1.52  40.745  325.5  42.0  180.5  69.0  102.0  ...   \n14  Addison  1995  516.0  2.94  47.880  516.0  22.0  165.0  75.0   98.0  ...   \n15  Addison  1995  516.0  3.11  38.170  516.0  22.0  165.0  55.0  132.0  ...   \n16  Addison  1996  388.0  2.27  44.190  388.0  25.0  175.0  46.0  133.0  ...   \n17  Addison  1997  375.0  1.07  25.630  375.0  12.0  170.0  59.0  113.0  ...   \n18  Addison  1997  375.0  1.73  34.940  375.0  12.0  170.0  46.0  127.0  ...   \n19  Addison  1998  480.0  3.65  60.380  480.0   5.0  146.0  28.0  148.0  ...   \n20  Addison  1998  480.0  2.75  45.500  480.0   5.0  146.0  28.0  148.0  ...   \n21  Addison  1999  301.0  3.97  42.590  301.0  25.0  165.0  64.0  110.0  ...   \n22  Addison  1999  657.0  3.81  36.370  657.0  15.0  165.0  42.0  144.0  ...   \n23  Addison  2000  286.5  2.31  54.110  286.5  29.0  163.0  58.0  121.5  ...   \n24  Addison  2000  322.0  2.01  42.960  322.0  26.0  165.0  54.0  132.0  ...   \n\n    FZF6  FZF7  FZF8  FZF9          HTDD  TAVG   TMAX   TMIN   SNOW  PSUN  \n0   24.0  24.0  17.0  11.0   7198.000000   NaN  54.20  38.50  131.3   NaN  \n1   24.0  24.0  17.0  11.0   7198.000000   NaN  54.20  38.50   53.2   NaN  \n2   24.0  24.0  17.0  11.0   7198.000000   NaN  54.20  38.50   69.4   NaN  \n3   27.0  20.0  20.0  11.0   7693.666667  42.9  53.60  32.30   89.4   NaN  \n4   27.0  20.0  20.0  11.0   8189.333333  42.9  53.60  32.30   26.0   NaN  \n5   27.0  24.0  15.0  15.0   8685.000000  39.5  50.30  28.70  106.6   NaN  \n6   26.0  24.0  13.0  13.0   7909.500000  43.9  56.30  31.40   22.3   NaN  \n7   24.0  24.0  20.0  15.0   7134.000000  44.4  53.40  35.50   22.5   NaN  \n8   28.0  22.0  20.0   9.0   9145.000000  38.5  49.50  27.50  174.0   NaN  \n9   28.0  21.0  19.0  10.0   7726.000000  44.0  56.70  31.30   85.9   NaN  \n10  25.0  24.0  18.0   8.0  10535.000000  38.6  49.50  27.80  132.7   NaN  \n11  24.5  24.0  18.5  10.0   8163.000000  41.7  53.25  30.15   63.8   NaN  \n12  24.0  24.0  19.0  12.0   8163.000000  44.8  57.00  32.50   87.0   NaN  \n13  24.5  24.0  18.5  10.0   7756.000000  41.7  53.25  30.15   71.9   NaN  \n14  22.0  22.0  17.0  15.0   8357.000000  45.4  52.60  32.80  145.6   NaN  \n15  22.0  22.0  17.0  15.0   7076.000000  45.4  58.10  32.80   93.1   NaN  \n16  27.0  23.0  19.0  16.0   7971.000000  45.4  57.00  33.90   80.0   NaN  \n17  27.0  20.0  20.0  15.0   7038.000000  45.6  55.70  34.30   60.5   NaN  \n18  27.0  20.0  20.0  15.0   7038.000000  45.6  56.90  34.30  105.9   NaN  \n19  27.0  24.0  10.0  10.0   6558.000000  48.9  59.90  37.90   69.1   NaN  \n20  27.0  24.0  10.0  10.0   6558.000000  48.9  59.90  37.90   55.6   NaN  \n21  26.0  22.0  20.0  15.0   7810.000000  43.9  54.60  33.20   87.6   NaN  \n22  27.0  22.0  19.0  16.0   6835.000000  47.8  60.40  35.30   54.4   NaN  \n23  28.0  21.5  18.5   6.0   7702.000000  44.4  55.70  33.05  119.8   NaN  \n24  28.0  22.0  18.0   6.0   7014.000000  45.2  57.00  33.30   99.3   NaN  \n\n[25 rows x 29 columns]"
     },
     "metadata": {},
     "output_type": "display_data"
    }
   ],
   "source": [
    "display(relevant.interpolate(method=\"linear\", limit_direction=\"forward\").head(25))\n",
    "#relevant.head(25)"
   ]
  },
  {
   "cell_type": "code",
   "execution_count": 9,
   "metadata": {},
   "outputs": [
    {
     "data": {
      "text/plain": "Index(['CDSD', 'CLDD', 'TAVG', 'PSUN'], dtype='object')"
     },
     "metadata": {},
     "output_type": "display_data"
    },
    {
     "data": {
      "text/plain": "['COUNTY',\n 'DATE',\n 'EMXP',\n 'PRCP',\n 'DT00',\n 'DT32',\n 'DX32',\n 'DX70',\n 'DX90',\n 'EMNT',\n 'EMXT',\n 'FZF0',\n 'FZF1',\n 'FZF2',\n 'FZF3',\n 'FZF4',\n 'FZF5',\n 'FZF6',\n 'FZF7',\n 'FZF8',\n 'FZF9',\n 'HTDD',\n 'TMAX',\n 'TMIN',\n 'SNOW']"
     },
     "metadata": {},
     "output_type": "display_data"
    }
   ],
   "source": [
    "tst_grpby = relevant.groupby([\"COUNTY\", \"DATE\"])\n",
    "\n",
    "test1 = tst_grpby.get_group((\"Addison\", 1990))\n",
    "#display(test1.isna().sum().unique())\n",
    "missing_val_cols = test1.loc[:, test1.isna().sum() == test1.shape[0]].columns\n",
    "other_cols = [col for col in test1.columns if col not in missing_val_cols]\n",
    "display(missing_val_cols, other_cols)\n",
    "#display(other_cols)\n",
    "#test1 = test1.loc[:, test1.isna().sum() == test1.shape[0]]\n",
    "#display(test1)\n",
    "#test1[other_cols] = test1[other_cols].fillna(test1[other_cols].median())"
   ]
  },
  {
   "cell_type": "code",
   "execution_count": null,
   "metadata": {},
   "outputs": [],
   "source": [
    "test3 = relevant.copy()\n",
    "test3"
   ]
  },
  {
   "cell_type": "code",
   "execution_count": null,
   "metadata": {},
   "outputs": [],
   "source": [
    "test3.update(test1)\n",
    "test3"
   ]
  },
  {
   "cell_type": "code",
   "execution_count": null,
   "metadata": {},
   "outputs": [],
   "source": [
    "test = relevant[(relevant[\"DATE\"] == 2009) & (relevant[\"COUNTY\"] == \"Addison\")].drop_duplicates()\n",
    "#test = test.loc[:, test.isna().sum() == 4]\n",
    "test\n",
    "# 4 vals per year\n",
    "# - missing 1: fill with median of that county at that year\n",
    "# - missing 2: fill with median of that county at that year\n",
    "# - missing 3: fill with median of that county at that year\n",
    "# - missing all: fill with median of entire column after all other years/counties have been filled in\n",
    "# median over mean:\n",
    "# - the median is less affected by outliers and skewed data than the mean"
   ]
  },
  {
   "cell_type": "code",
   "execution_count": null,
   "metadata": {},
   "outputs": [],
   "source": [
    "test.equals(test1)"
   ]
  },
  {
   "cell_type": "code",
   "execution_count": null,
   "metadata": {},
   "outputs": [],
   "source": [
    "test_col = \"EMXP\"\n",
    "display(test[test_col].mean())\n",
    "display(test[test_col].median())\n",
    "test"
   ]
  },
  {
   "cell_type": "code",
   "execution_count": null,
   "metadata": {},
   "outputs": [],
   "source": [
    "#test[test_col].interpolate(method=\"linear\", limit_direction=\"forward\")\n",
    "test[test_col].fillna(test[test_col].median(), inplace=True)"
   ]
  },
  {
   "cell_type": "code",
   "execution_count": null,
   "metadata": {},
   "outputs": [],
   "source": [
    "test[\"HTDD\"].mean()"
   ]
  }
 ]
}