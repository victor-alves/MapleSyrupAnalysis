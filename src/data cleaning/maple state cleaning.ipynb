{
 "nbformat": 4,
 "nbformat_minor": 2,
 "metadata": {
  "language_info": {
   "name": "python",
   "codemirror_mode": {
    "name": "ipython",
    "version": 3
   },
   "version": "3.7.6-final"
  },
  "orig_nbformat": 2,
  "file_extension": ".py",
  "mimetype": "text/x-python",
  "name": "python",
  "npconvert_exporter": "python",
  "pygments_lexer": "ipython3",
  "version": 3,
  "kernelspec": {
   "name": "python37664bit3a32ba8d681b4addb99b559ac26700a9",
   "display_name": "Python 3.7.6 64-bit"
  }
 },
 "cells": [
  {
   "cell_type": "code",
   "execution_count": 1,
   "metadata": {},
   "outputs": [],
   "source": [
    "import pandas as pd\n",
    "import re\n",
    "import math"
   ]
  },
  {
   "cell_type": "code",
   "execution_count": 2,
   "metadata": {},
   "outputs": [
    {
     "data": {
      "text/html": "<div>\n<style scoped>\n    .dataframe tbody tr th:only-of-type {\n        vertical-align: middle;\n    }\n\n    .dataframe tbody tr th {\n        vertical-align: top;\n    }\n\n    .dataframe thead th {\n        text-align: right;\n    }\n</style>\n<table border=\"1\" class=\"dataframe\">\n  <thead>\n    <tr style=\"text-align: right;\">\n      <th></th>\n      <th>index</th>\n      <th>Year</th>\n      <th>State</th>\n      <th>Data Item</th>\n      <th>Value</th>\n    </tr>\n  </thead>\n  <tbody>\n    <tr>\n      <td>0</td>\n      <td>0</td>\n      <td>2019</td>\n      <td>VERMONT</td>\n      <td>MAPLE SYRUP - LENGTH OF SEASON, AVG, MEASURED ...</td>\n      <td>34</td>\n    </tr>\n    <tr>\n      <td>1</td>\n      <td>1</td>\n      <td>2019</td>\n      <td>VERMONT</td>\n      <td>MAPLE SYRUP - NUMBER OF TAPS</td>\n      <td>6,000,000</td>\n    </tr>\n    <tr>\n      <td>2</td>\n      <td>2</td>\n      <td>2019</td>\n      <td>VERMONT</td>\n      <td>MAPLE SYRUP - PRODUCTION, MEASURED IN GALLONS</td>\n      <td>2,070,000</td>\n    </tr>\n    <tr>\n      <td>3</td>\n      <td>3</td>\n      <td>2019</td>\n      <td>VERMONT</td>\n      <td>MAPLE SYRUP - YIELD, MEASURED IN GALLONS / TAP</td>\n      <td>0.345</td>\n    </tr>\n    <tr>\n      <td>4</td>\n      <td>4</td>\n      <td>2019</td>\n      <td>VERMONT</td>\n      <td>MAPLE SYRUP, HARVEST - END DATE, AVG, MEASURED...</td>\n      <td>Apr 15</td>\n    </tr>\n    <tr>\n      <td>5</td>\n      <td>5</td>\n      <td>2019</td>\n      <td>VERMONT</td>\n      <td>MAPLE SYRUP, HARVEST - END DATE, AVG, MEASURED...</td>\n      <td>105</td>\n    </tr>\n    <tr>\n      <td>6</td>\n      <td>6</td>\n      <td>2019</td>\n      <td>VERMONT</td>\n      <td>MAPLE SYRUP, HARVEST - END DATE, MAX, MEASURED...</td>\n      <td>May 3</td>\n    </tr>\n    <tr>\n      <td>7</td>\n      <td>7</td>\n      <td>2019</td>\n      <td>VERMONT</td>\n      <td>MAPLE SYRUP, HARVEST - END DATE, MAX, MEASURED...</td>\n      <td>123</td>\n    </tr>\n    <tr>\n      <td>8</td>\n      <td>8</td>\n      <td>2019</td>\n      <td>VERMONT</td>\n      <td>MAPLE SYRUP, HARVEST - START DATE, AVG, MEASUR...</td>\n      <td>Mar 12</td>\n    </tr>\n    <tr>\n      <td>9</td>\n      <td>9</td>\n      <td>2019</td>\n      <td>VERMONT</td>\n      <td>MAPLE SYRUP, HARVEST - START DATE, AVG, MEASUR...</td>\n      <td>71</td>\n    </tr>\n    <tr>\n      <td>10</td>\n      <td>10</td>\n      <td>2019</td>\n      <td>VERMONT</td>\n      <td>MAPLE SYRUP, HARVEST - START DATE, MIN, MEASUR...</td>\n      <td>Jan 9</td>\n    </tr>\n    <tr>\n      <td>11</td>\n      <td>11</td>\n      <td>2019</td>\n      <td>VERMONT</td>\n      <td>MAPLE SYRUP, HARVEST - START DATE, MIN, MEASUR...</td>\n      <td>9</td>\n    </tr>\n    <tr>\n      <td>12</td>\n      <td>28</td>\n      <td>2018</td>\n      <td>VERMONT</td>\n      <td>MAPLE SYRUP - LENGTH OF SEASON, AVG, MEASURED ...</td>\n      <td>52</td>\n    </tr>\n    <tr>\n      <td>13</td>\n      <td>29</td>\n      <td>2018</td>\n      <td>VERMONT</td>\n      <td>MAPLE SYRUP - NUMBER OF TAPS</td>\n      <td>5,670,000</td>\n    </tr>\n    <tr>\n      <td>14</td>\n      <td>30</td>\n      <td>2018</td>\n      <td>VERMONT</td>\n      <td>MAPLE SYRUP - PRODUCTION, MEASURED IN $</td>\n      <td>54,320,000</td>\n    </tr>\n    <tr>\n      <td>15</td>\n      <td>31</td>\n      <td>2018</td>\n      <td>VERMONT</td>\n      <td>MAPLE SYRUP - PRODUCTION, MEASURED IN GALLONS</td>\n      <td>1,940,000</td>\n    </tr>\n    <tr>\n      <td>16</td>\n      <td>32</td>\n      <td>2018</td>\n      <td>VERMONT</td>\n      <td>MAPLE SYRUP - YIELD, MEASURED IN GALLONS / TAP</td>\n      <td>0.342</td>\n    </tr>\n    <tr>\n      <td>17</td>\n      <td>33</td>\n      <td>2018</td>\n      <td>VERMONT</td>\n      <td>MAPLE SYRUP, HARVEST - END DATE, AVG, MEASURED...</td>\n      <td>Apr 16</td>\n    </tr>\n    <tr>\n      <td>18</td>\n      <td>34</td>\n      <td>2018</td>\n      <td>VERMONT</td>\n      <td>MAPLE SYRUP, HARVEST - END DATE, AVG, MEASURED...</td>\n      <td>106</td>\n    </tr>\n    <tr>\n      <td>19</td>\n      <td>35</td>\n      <td>2018</td>\n      <td>VERMONT</td>\n      <td>MAPLE SYRUP, HARVEST - END DATE, MAX, MEASURED...</td>\n      <td>May 3</td>\n    </tr>\n    <tr>\n      <td>20</td>\n      <td>36</td>\n      <td>2018</td>\n      <td>VERMONT</td>\n      <td>MAPLE SYRUP, HARVEST - END DATE, MAX, MEASURED...</td>\n      <td>123</td>\n    </tr>\n    <tr>\n      <td>21</td>\n      <td>37</td>\n      <td>2018</td>\n      <td>VERMONT</td>\n      <td>MAPLE SYRUP, HARVEST - START DATE, AVG, MEASUR...</td>\n      <td>Feb 23</td>\n    </tr>\n    <tr>\n      <td>22</td>\n      <td>38</td>\n      <td>2018</td>\n      <td>VERMONT</td>\n      <td>MAPLE SYRUP, HARVEST - START DATE, AVG, MEASUR...</td>\n      <td>54</td>\n    </tr>\n    <tr>\n      <td>23</td>\n      <td>39</td>\n      <td>2018</td>\n      <td>VERMONT</td>\n      <td>MAPLE SYRUP, HARVEST - START DATE, MIN, MEASUR...</td>\n      <td>Jan 12</td>\n    </tr>\n    <tr>\n      <td>24</td>\n      <td>40</td>\n      <td>2018</td>\n      <td>VERMONT</td>\n      <td>MAPLE SYRUP, HARVEST - START DATE, MIN, MEASUR...</td>\n      <td>12</td>\n    </tr>\n    <tr>\n      <td>25</td>\n      <td>57</td>\n      <td>2017</td>\n      <td>VERMONT</td>\n      <td>MAPLE SYRUP - LENGTH OF SEASON, AVG, MEASURED ...</td>\n      <td>46</td>\n    </tr>\n    <tr>\n      <td>26</td>\n      <td>58</td>\n      <td>2017</td>\n      <td>VERMONT</td>\n      <td>MAPLE SYRUP - NUMBER OF TAPS</td>\n      <td>5,900,000</td>\n    </tr>\n    <tr>\n      <td>27</td>\n      <td>59</td>\n      <td>2017</td>\n      <td>VERMONT</td>\n      <td>MAPLE SYRUP - PRODUCTION, MEASURED IN $</td>\n      <td>54,000,000</td>\n    </tr>\n    <tr>\n      <td>28</td>\n      <td>60</td>\n      <td>2017</td>\n      <td>VERMONT</td>\n      <td>MAPLE SYRUP - PRODUCTION, MEASURED IN GALLONS</td>\n      <td>2,000,000</td>\n    </tr>\n    <tr>\n      <td>29</td>\n      <td>61</td>\n      <td>2017</td>\n      <td>VERMONT</td>\n      <td>MAPLE SYRUP - YIELD, MEASURED IN GALLONS / TAP</td>\n      <td>0.339</td>\n    </tr>\n    <tr>\n      <td>30</td>\n      <td>62</td>\n      <td>2017</td>\n      <td>VERMONT</td>\n      <td>MAPLE SYRUP, HARVEST - END DATE, AVG, MEASURED...</td>\n      <td>Apr 10</td>\n    </tr>\n    <tr>\n      <td>31</td>\n      <td>63</td>\n      <td>2017</td>\n      <td>VERMONT</td>\n      <td>MAPLE SYRUP, HARVEST - END DATE, AVG, MEASURED...</td>\n      <td>100</td>\n    </tr>\n    <tr>\n      <td>32</td>\n      <td>64</td>\n      <td>2017</td>\n      <td>VERMONT</td>\n      <td>MAPLE SYRUP, HARVEST - END DATE, MAX, MEASURED...</td>\n      <td>May 14</td>\n    </tr>\n    <tr>\n      <td>33</td>\n      <td>65</td>\n      <td>2017</td>\n      <td>VERMONT</td>\n      <td>MAPLE SYRUP, HARVEST - END DATE, MAX, MEASURED...</td>\n      <td>134</td>\n    </tr>\n    <tr>\n      <td>34</td>\n      <td>66</td>\n      <td>2017</td>\n      <td>VERMONT</td>\n      <td>MAPLE SYRUP, HARVEST - START DATE, AVG, MEASUR...</td>\n      <td>Feb 23</td>\n    </tr>\n    <tr>\n      <td>35</td>\n      <td>67</td>\n      <td>2017</td>\n      <td>VERMONT</td>\n      <td>MAPLE SYRUP, HARVEST - START DATE, AVG, MEASUR...</td>\n      <td>54</td>\n    </tr>\n    <tr>\n      <td>36</td>\n      <td>68</td>\n      <td>2017</td>\n      <td>VERMONT</td>\n      <td>MAPLE SYRUP, HARVEST - START DATE, MIN, MEASUR...</td>\n      <td>Jan 1</td>\n    </tr>\n    <tr>\n      <td>37</td>\n      <td>69</td>\n      <td>2017</td>\n      <td>VERMONT</td>\n      <td>MAPLE SYRUP, HARVEST - START DATE, MIN, MEASUR...</td>\n      <td>1</td>\n    </tr>\n    <tr>\n      <td>38</td>\n      <td>86</td>\n      <td>2016</td>\n      <td>VERMONT</td>\n      <td>MAPLE SYRUP - LENGTH OF SEASON, AVG, MEASURED ...</td>\n      <td>44</td>\n    </tr>\n    <tr>\n      <td>39</td>\n      <td>87</td>\n      <td>2016</td>\n      <td>VERMONT</td>\n      <td>MAPLE SYRUP - NUMBER OF TAPS</td>\n      <td>4,900,000</td>\n    </tr>\n  </tbody>\n</table>\n</div>",
      "text/plain": "    index  Year    State                                          Data Item  \\\n0       0  2019  VERMONT  MAPLE SYRUP - LENGTH OF SEASON, AVG, MEASURED ...   \n1       1  2019  VERMONT                       MAPLE SYRUP - NUMBER OF TAPS   \n2       2  2019  VERMONT      MAPLE SYRUP - PRODUCTION, MEASURED IN GALLONS   \n3       3  2019  VERMONT     MAPLE SYRUP - YIELD, MEASURED IN GALLONS / TAP   \n4       4  2019  VERMONT  MAPLE SYRUP, HARVEST - END DATE, AVG, MEASURED...   \n5       5  2019  VERMONT  MAPLE SYRUP, HARVEST - END DATE, AVG, MEASURED...   \n6       6  2019  VERMONT  MAPLE SYRUP, HARVEST - END DATE, MAX, MEASURED...   \n7       7  2019  VERMONT  MAPLE SYRUP, HARVEST - END DATE, MAX, MEASURED...   \n8       8  2019  VERMONT  MAPLE SYRUP, HARVEST - START DATE, AVG, MEASUR...   \n9       9  2019  VERMONT  MAPLE SYRUP, HARVEST - START DATE, AVG, MEASUR...   \n10     10  2019  VERMONT  MAPLE SYRUP, HARVEST - START DATE, MIN, MEASUR...   \n11     11  2019  VERMONT  MAPLE SYRUP, HARVEST - START DATE, MIN, MEASUR...   \n12     28  2018  VERMONT  MAPLE SYRUP - LENGTH OF SEASON, AVG, MEASURED ...   \n13     29  2018  VERMONT                       MAPLE SYRUP - NUMBER OF TAPS   \n14     30  2018  VERMONT            MAPLE SYRUP - PRODUCTION, MEASURED IN $   \n15     31  2018  VERMONT      MAPLE SYRUP - PRODUCTION, MEASURED IN GALLONS   \n16     32  2018  VERMONT     MAPLE SYRUP - YIELD, MEASURED IN GALLONS / TAP   \n17     33  2018  VERMONT  MAPLE SYRUP, HARVEST - END DATE, AVG, MEASURED...   \n18     34  2018  VERMONT  MAPLE SYRUP, HARVEST - END DATE, AVG, MEASURED...   \n19     35  2018  VERMONT  MAPLE SYRUP, HARVEST - END DATE, MAX, MEASURED...   \n20     36  2018  VERMONT  MAPLE SYRUP, HARVEST - END DATE, MAX, MEASURED...   \n21     37  2018  VERMONT  MAPLE SYRUP, HARVEST - START DATE, AVG, MEASUR...   \n22     38  2018  VERMONT  MAPLE SYRUP, HARVEST - START DATE, AVG, MEASUR...   \n23     39  2018  VERMONT  MAPLE SYRUP, HARVEST - START DATE, MIN, MEASUR...   \n24     40  2018  VERMONT  MAPLE SYRUP, HARVEST - START DATE, MIN, MEASUR...   \n25     57  2017  VERMONT  MAPLE SYRUP - LENGTH OF SEASON, AVG, MEASURED ...   \n26     58  2017  VERMONT                       MAPLE SYRUP - NUMBER OF TAPS   \n27     59  2017  VERMONT            MAPLE SYRUP - PRODUCTION, MEASURED IN $   \n28     60  2017  VERMONT      MAPLE SYRUP - PRODUCTION, MEASURED IN GALLONS   \n29     61  2017  VERMONT     MAPLE SYRUP - YIELD, MEASURED IN GALLONS / TAP   \n30     62  2017  VERMONT  MAPLE SYRUP, HARVEST - END DATE, AVG, MEASURED...   \n31     63  2017  VERMONT  MAPLE SYRUP, HARVEST - END DATE, AVG, MEASURED...   \n32     64  2017  VERMONT  MAPLE SYRUP, HARVEST - END DATE, MAX, MEASURED...   \n33     65  2017  VERMONT  MAPLE SYRUP, HARVEST - END DATE, MAX, MEASURED...   \n34     66  2017  VERMONT  MAPLE SYRUP, HARVEST - START DATE, AVG, MEASUR...   \n35     67  2017  VERMONT  MAPLE SYRUP, HARVEST - START DATE, AVG, MEASUR...   \n36     68  2017  VERMONT  MAPLE SYRUP, HARVEST - START DATE, MIN, MEASUR...   \n37     69  2017  VERMONT  MAPLE SYRUP, HARVEST - START DATE, MIN, MEASUR...   \n38     86  2016  VERMONT  MAPLE SYRUP - LENGTH OF SEASON, AVG, MEASURED ...   \n39     87  2016  VERMONT                       MAPLE SYRUP - NUMBER OF TAPS   \n\n         Value  \n0           34  \n1    6,000,000  \n2    2,070,000  \n3        0.345  \n4       Apr 15  \n5          105  \n6        May 3  \n7          123  \n8       Mar 12  \n9           71  \n10       Jan 9  \n11           9  \n12          52  \n13   5,670,000  \n14  54,320,000  \n15   1,940,000  \n16       0.342  \n17      Apr 16  \n18         106  \n19       May 3  \n20         123  \n21      Feb 23  \n22          54  \n23      Jan 12  \n24          12  \n25          46  \n26   5,900,000  \n27  54,000,000  \n28   2,000,000  \n29       0.339  \n30      Apr 10  \n31         100  \n32      May 14  \n33         134  \n34      Feb 23  \n35          54  \n36       Jan 1  \n37           1  \n38          44  \n39   4,900,000  "
     },
     "metadata": {},
     "output_type": "display_data"
    }
   ],
   "source": [
    "data = pd.read_csv('../../data/cleaned/maple/state data - julian converted.csv')\n",
    "df = data.copy()\n",
    "df = df[df[\"Period\"] == \"YEAR\"]\n",
    "df = df.reset_index()\n",
    "df.drop(axis=1, inplace=True, columns=[\"Program\", \"Period\", \"Week Ending\", \"Geo Level\", \"State ANSI\", \"Ag District\", \"Ag District Code\", \"County ANSI\", \"County\", \"Zip Code\", \"Region\", \"watershed_code\", \"Watershed\", \"Commodity\", \"Domain\", \"Domain Category\", \"CV (%)\"])\n",
    "display(df.head(40))"
   ]
  },
  {
   "cell_type": "code",
   "execution_count": 3,
   "metadata": {},
   "outputs": [
    {
     "data": {
      "text/plain": "2019    6\n2018    6\n2017    6\n2016    6\n2015    6\n2014    5\n2013    4\n2012    3\n2011    3\n2010    3\n2009    3\n2008    3\n2007    3\n2006    2\n2005    2\n2004    2\n2003    2\n2002    2\n2001    2\n2000    1\n1999    1\n1998    1\n1997    1\n1996    1\n1995    1\n1994    1\n1993    1\n1992    1\nName: Year, dtype: int64"
     },
     "metadata": {},
     "output_type": "display_data"
    }
   ],
   "source": [
    "data_columns = [\"MAPLE SYRUP - YIELD, MEASURED IN GALLONS / TAP\", \"MAPLE SYRUP - PRODUCTION, MEASURED IN GALLONS\", \"MAPLE SYRUP - NUMBER OF TAPS\", \"MAPLE SYRUP - LENGTH OF SEASON, AVG, MEASURED IN DAYS\", \"MAPLE SYRUP, HARVEST - END DATE, AVG, MEASURED IN JULIAN DATE\", \"MAPLE SYRUP, HARVEST - START DATE, AVG, MEASURED IN JULIAN DATE\"]\n",
    "df = df[df[\"Data Item\"].isin(data_columns)]\n",
    "df = df.reset_index()\n",
    "display(df[\"Year\"].value_counts().sort_index(ascending=False))"
   ]
  },
  {
   "cell_type": "code",
   "execution_count": null,
   "metadata": {},
   "outputs": [],
   "source": [
    "display(df.head(40))"
   ]
  },
  {
   "cell_type": "code",
   "execution_count": 4,
   "metadata": {},
   "outputs": [
    {
     "data": {
      "text/html": "<div>\n<style scoped>\n    .dataframe tbody tr th:only-of-type {\n        vertical-align: middle;\n    }\n\n    .dataframe tbody tr th {\n        vertical-align: top;\n    }\n\n    .dataframe thead th {\n        text-align: right;\n    }\n</style>\n<table border=\"1\" class=\"dataframe\">\n  <thead>\n    <tr style=\"text-align: right;\">\n      <th></th>\n      <th>YEAR</th>\n      <th>STATE</th>\n      <th>YIELD</th>\n      <th>PRODUCTION</th>\n      <th>NUMBER OF TAPS</th>\n      <th>LENGTH OF SEASON</th>\n      <th>HARVEST - END DATE</th>\n      <th>HARVEST - START DATE</th>\n    </tr>\n  </thead>\n  <tbody>\n  </tbody>\n</table>\n</div>",
      "text/plain": "Empty DataFrame\nColumns: [YEAR, STATE, YIELD, PRODUCTION, NUMBER OF TAPS, LENGTH OF SEASON, HARVEST - END DATE, HARVEST - START DATE]\nIndex: []"
     },
     "execution_count": 4,
     "metadata": {},
     "output_type": "execute_result"
    }
   ],
   "source": [
    "cleaned_data = pd.DataFrame()\n",
    "for col in \"Year\", \"State\":\n",
    "    cleaned_data[col.upper()] = \"\"\n",
    "\n",
    "for col in data_columns:\n",
    "    new_col = re.match(\"^(?:MAPLE SYRUP(?: -|,) )([^,\\n]+)\", col)\n",
    "    cleaned_data[new_col.group(1)] = \"\"\n",
    "\n",
    "cleaned_data.head()"
   ]
  },
  {
   "cell_type": "code",
   "execution_count": 5,
   "metadata": {},
   "outputs": [],
   "source": [
    "new_row = dict()\n",
    "\n",
    "entered = False\n",
    "\n",
    "for index, row in df.iterrows():\n",
    "\n",
    "    if not entered:\n",
    "        new_row = dict()\n",
    "        new_row[\"YEAR\"] = row[\"Year\"]\n",
    "        new_row[\"STATE\"] = row[\"State\"]\n",
    "        entered = True\n",
    "\n",
    "    if row[\"Year\"] in [2019, 2018, 2017, 2016, 2015]:\n",
    "        if row[\"Data Item\"] == \"MAPLE SYRUP - YIELD, MEASURED IN GALLONS / TAP\":\n",
    "            new_row[\"YIELD\"] = row[\"Value\"]\n",
    "        elif row[\"Data Item\"] == \"MAPLE SYRUP - PRODUCTION, MEASURED IN GALLONS\":\n",
    "            new_row[\"PRODUCTION\"] = row[\"Value\"]\n",
    "        elif row[\"Data Item\"] == \"MAPLE SYRUP - NUMBER OF TAPS\":\n",
    "            new_row[\"NUMBER OF TAPS\"] = row[\"Value\"]\n",
    "        elif row[\"Data Item\"] == \"MAPLE SYRUP - LENGTH OF SEASON, AVG, MEASURED IN DAYS\":\n",
    "            new_row[\"LENGTH OF SEASON\"] = row[\"Value\"]\n",
    "        elif row[\"Data Item\"] == \"MAPLE SYRUP, HARVEST - END DATE, AVG, MEASURED IN JULIAN DATE\":\n",
    "            new_row[\"HARVEST - END DATE\"] = row[\"Value\"]\n",
    "        elif row[\"Data Item\"] == \"MAPLE SYRUP, HARVEST - START DATE, AVG, MEASURED IN JULIAN DATE\":\n",
    "            new_row[\"HARVEST - START DATE\"] = row[\"Value\"]\n",
    "            cleaned_data = cleaned_data.append(new_row, ignore_index=True)\n",
    "            entered = False\n",
    "\n",
    "    elif row[\"Year\"] == 2014:\n",
    "        if row[\"Data Item\"] == \"MAPLE SYRUP - YIELD, MEASURED IN GALLONS / TAP\":\n",
    "            new_row[\"YIELD\"] = row[\"Value\"]\n",
    "        elif row[\"Data Item\"] == \"MAPLE SYRUP - PRODUCTION, MEASURED IN GALLONS\":\n",
    "            new_row[\"PRODUCTION\"] = row[\"Value\"]\n",
    "        elif row[\"Data Item\"] == \"MAPLE SYRUP - NUMBER OF TAPS\":\n",
    "            new_row[\"NUMBER OF TAPS\"] = row[\"Value\"]\n",
    "        elif row[\"Data Item\"] == \"MAPLE SYRUP - LENGTH OF SEASON, AVG, MEASURED IN DAYS\":\n",
    "            new_row[\"LENGTH OF SEASON\"] = row[\"Value\"]\n",
    "        elif row[\"Data Item\"] == \"MAPLE SYRUP, HARVEST - END DATE, AVG, MEASURED IN JULIAN DATE\":\n",
    "            new_row[\"HARVEST - END DATE\"] = row[\"Value\"]\n",
    "            cleaned_data = cleaned_data.append(new_row, ignore_index=True)\n",
    "            entered = False\n",
    "\n",
    "    elif row[\"Year\"] == 2013:\n",
    "        if row[\"Data Item\"] == \"MAPLE SYRUP - LENGTH OF SEASON, AVG, MEASURED IN DAYS\":\n",
    "            new_row[\"LENGTH OF SEASON\"] = row[\"Value\"]\n",
    "        elif row[\"Data Item\"] == \"MAPLE SYRUP - PRODUCTION, MEASURED IN GALLONS\":\n",
    "            new_row[\"PRODUCTION\"] = row[\"Value\"]\n",
    "        elif row[\"Data Item\"] == \"MAPLE SYRUP - NUMBER OF TAPS\":\n",
    "            new_row[\"NUMBER OF TAPS\"] = row[\"Value\"]\n",
    "        elif row[\"Data Item\"] == \"MAPLE SYRUP - YIELD, MEASURED IN GALLONS / TAP\":\n",
    "            new_row[\"YIELD\"] = row[\"Value\"]\n",
    "            cleaned_data = cleaned_data.append(new_row, ignore_index=True)\n",
    "            entered = False\n",
    "    \n",
    "    elif row[\"Year\"] in [2012, 2011, 2010, 2009, 2008, 2007]:\n",
    "        if row[\"Data Item\"] == \"MAPLE SYRUP - PRODUCTION, MEASURED IN GALLONS\":\n",
    "            new_row[\"PRODUCTION\"] = row[\"Value\"]\n",
    "        elif row[\"Data Item\"] == \"MAPLE SYRUP - NUMBER OF TAPS\":\n",
    "            new_row[\"NUMBER OF TAPS\"] = row[\"Value\"]\n",
    "        elif row[\"Data Item\"] == \"MAPLE SYRUP - YIELD, MEASURED IN GALLONS / TAP\":\n",
    "            new_row[\"YIELD\"] = row[\"Value\"]\n",
    "            cleaned_data = cleaned_data.append(new_row, ignore_index=True)\n",
    "            entered = False\n",
    "\n",
    "    elif row[\"Year\"] in [2006, 2005, 2004, 2003, 2002, 2001]:\n",
    "        if row[\"Data Item\"] == \"MAPLE SYRUP - PRODUCTION, MEASURED IN GALLONS\":\n",
    "            new_row[\"PRODUCTION\"] = row[\"Value\"]\n",
    "        elif row[\"Data Item\"] == \"MAPLE SYRUP - YIELD, MEASURED IN GALLONS / TAP\":\n",
    "            new_row[\"YIELD\"] = row[\"Value\"]\n",
    "            num_taps = int(round(int(new_row[\"PRODUCTION\"].replace(',', '')) / float(new_row[\"YIELD\"].replace(',', '')), -4))\n",
    "            num_taps = \"{:,d}\".format(num_taps)\n",
    "            new_row[\"NUMBER OF TAPS\"] = num_taps\n",
    "            cleaned_data = cleaned_data.append(new_row, ignore_index=True)\n",
    "            entered = False\n",
    "\n",
    "    else:\n",
    "        if row[\"Data Item\"] == \"MAPLE SYRUP - PRODUCTION, MEASURED IN GALLONS\":\n",
    "            new_row[\"PRODUCTION\"] = row[\"Value\"]\n",
    "            cleaned_data = cleaned_data.append(new_row, ignore_index=True)\n",
    "            entered = False\n",
    "\n"
   ]
  },
  {
   "cell_type": "code",
   "execution_count": null,
   "metadata": {},
   "outputs": [],
   "source": [
    "cleaned_data"
   ]
  },
  {
   "cell_type": "code",
   "execution_count": null,
   "metadata": {},
   "outputs": [],
   "source": [
    "cleaned_data.to_csv(\"../../data/cleaned/maple/cleaned state data - julian converted.csv\")"
   ]
  }
 ]
}