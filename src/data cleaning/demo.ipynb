{
 "nbformat": 4,
 "nbformat_minor": 2,
 "metadata": {
  "language_info": {
   "name": "python",
   "codemirror_mode": {
    "name": "ipython",
    "version": 3
   },
   "version": "3.7.0-final"
  },
  "orig_nbformat": 2,
  "file_extension": ".py",
  "mimetype": "text/x-python",
  "name": "python",
  "npconvert_exporter": "python",
  "pygments_lexer": "ipython3",
  "version": 3,
  "kernelspec": {
   "name": "python37064bitfcde8f5681344d079959018a3393bc83",
   "display_name": "Python 3.7.0 64-bit"
  }
 },
 "cells": [
  {
   "cell_type": "code",
   "execution_count": 1,
   "metadata": {},
   "outputs": [],
   "source": [
    "import pandas as pd\n",
    "import numpy as np\n",
    "import time\n",
    "import requests"
   ]
  },
  {
   "cell_type": "code",
   "execution_count": 2,
   "metadata": {},
   "outputs": [],
   "source": [
    "cleaning_time_start = time.time()\n",
    "\n",
    "# Load the data\n",
    "data = pd.read_csv(\"../../data/raw/environment data.csv\")\n",
    "# Strip extra spaces from column names\n",
    "data.rename(columns=lambda x: x.strip(), inplace=True)\n",
    "new_data = data.copy()\n",
    "\n",
    "# Insert column \"COUNTY\" into 4th index with no values and allowing duplicates\n",
    "new_data.insert(4, \"COUNTY\", None, True)"
   ]
  },
  {
   "cell_type": "code",
   "execution_count": 3,
   "metadata": {},
   "outputs": [
    {
     "name": "stdout",
     "output_type": "stream",
     "text": "County names generated in 17.299970388412476 seconds.\n"
    }
   ],
   "source": [
    "# CONVERT LAT AND LONG --> COUNTY NAME\n",
    "stations = new_data.STATION.unique()\n",
    "start = time.time()\n",
    "for station in stations:\n",
    "    # get lat and long values from the new data for that station\n",
    "    latitude, longitude = new_data[new_data['STATION'] == station].values[0][2:4]\n",
    "    # create json payload with corresponding lat long values\n",
    "    payload = { 'latitude': latitude, 'longitude': longitude, 'format': 'json' }\n",
    "    r = requests.get('https://geo.fcc.gov/api/census/area', params=payload).json()\n",
    "    # get county names for each lat long and fill in new_data\n",
    "    county = r['County']['name']\n",
    "    new_data.loc[new_data['STATION'] == station, 'COUNTY'] = county\n",
    "print(\"County names generated in {} seconds.\".format(time.time() - start))\n",
    "\n",
    "# Write to file\n",
    "new_data.to_csv(\"../../data/raw/environment data - with counties.csv\", index=False)"
   ]
  },
  {
   "cell_type": "code",
   "execution_count": 4,
   "metadata": {},
   "outputs": [
    {
     "data": {
      "text/html": "<div>\n<style scoped>\n    .dataframe tbody tr th:only-of-type {\n        vertical-align: middle;\n    }\n\n    .dataframe tbody tr th {\n        vertical-align: top;\n    }\n\n    .dataframe thead th {\n        text-align: right;\n    }\n</style>\n<table border=\"1\" class=\"dataframe\">\n  <thead>\n    <tr style=\"text-align: right;\">\n      <th></th>\n      <th>COUNTY</th>\n      <th>DATE</th>\n      <th>CDSD</th>\n      <th>EMXP</th>\n      <th>PRCP</th>\n      <th>CLDD</th>\n      <th>DT00</th>\n      <th>DT32</th>\n      <th>DX32</th>\n      <th>DX70</th>\n      <th>...</th>\n      <th>FZF6</th>\n      <th>FZF7</th>\n      <th>FZF8</th>\n      <th>FZF9</th>\n      <th>HTDD</th>\n      <th>TAVG</th>\n      <th>TMAX</th>\n      <th>TMIN</th>\n      <th>SNOW</th>\n      <th>PSUN</th>\n    </tr>\n  </thead>\n  <tbody>\n    <tr>\n      <th>0</th>\n      <td>Addison</td>\n      <td>1990</td>\n      <td>NaN</td>\n      <td>2.52</td>\n      <td>54.87</td>\n      <td>NaN</td>\n      <td>NaN</td>\n      <td>NaN</td>\n      <td>55.0</td>\n      <td>107.0</td>\n      <td>...</td>\n      <td>NaN</td>\n      <td>NaN</td>\n      <td>NaN</td>\n      <td>NaN</td>\n      <td>NaN</td>\n      <td>NaN</td>\n      <td>54.2</td>\n      <td>NaN</td>\n      <td>131.3</td>\n      <td>NaN</td>\n    </tr>\n    <tr>\n      <th>1</th>\n      <td>Addison</td>\n      <td>1990</td>\n      <td>NaN</td>\n      <td>2.60</td>\n      <td>48.94</td>\n      <td>NaN</td>\n      <td>NaN</td>\n      <td>NaN</td>\n      <td>NaN</td>\n      <td>NaN</td>\n      <td>...</td>\n      <td>NaN</td>\n      <td>NaN</td>\n      <td>NaN</td>\n      <td>NaN</td>\n      <td>NaN</td>\n      <td>NaN</td>\n      <td>NaN</td>\n      <td>NaN</td>\n      <td>53.2</td>\n      <td>NaN</td>\n    </tr>\n    <tr>\n      <th>2</th>\n      <td>Addison</td>\n      <td>1990</td>\n      <td>NaN</td>\n      <td>2.40</td>\n      <td>46.65</td>\n      <td>NaN</td>\n      <td>2.0</td>\n      <td>136.0</td>\n      <td>NaN</td>\n      <td>NaN</td>\n      <td>...</td>\n      <td>24.0</td>\n      <td>24.0</td>\n      <td>17.0</td>\n      <td>11.0</td>\n      <td>7198.0</td>\n      <td>NaN</td>\n      <td>NaN</td>\n      <td>38.5</td>\n      <td>69.4</td>\n      <td>NaN</td>\n    </tr>\n  </tbody>\n</table>\n<p>3 rows × 29 columns</p>\n</div>",
      "text/plain": "    COUNTY  DATE  CDSD  EMXP   PRCP  CLDD  DT00   DT32  DX32   DX70  ...  \\\n0  Addison  1990   NaN  2.52  54.87   NaN   NaN    NaN  55.0  107.0  ...   \n1  Addison  1990   NaN  2.60  48.94   NaN   NaN    NaN   NaN    NaN  ...   \n2  Addison  1990   NaN  2.40  46.65   NaN   2.0  136.0   NaN    NaN  ...   \n\n   FZF6  FZF7  FZF8  FZF9    HTDD  TAVG  TMAX  TMIN   SNOW  PSUN  \n0   NaN   NaN   NaN   NaN     NaN   NaN  54.2   NaN  131.3   NaN  \n1   NaN   NaN   NaN   NaN     NaN   NaN   NaN   NaN   53.2   NaN  \n2  24.0  24.0  17.0  11.0  7198.0   NaN   NaN  38.5   69.4   NaN  \n\n[3 rows x 29 columns]"
     },
     "execution_count": 4,
     "metadata": {},
     "output_type": "execute_result"
    }
   ],
   "source": [
    "# CLEANING THE DATA FURTHER\n",
    "# load the data\n",
    "data = pd.read_csv(\"../../data/raw/environment data - with counties.csv\")\n",
    "# replace cells with only spaces with NaN\n",
    "df = data.copy().replace(r'^\\s*$', np.nan, regex=True)\n",
    "\n",
    "# Isolate relevant columns\n",
    "relevant_cols = [\"NAME\", \"LATITUDE\", \"LONGITUDE\", \"COUNTY\", \"ELEVATION\", \"DATE\", \"CDSD\", \"EMXP\", \"PRCP\", \"CLDD\", \"DT00\", \"DT32\", \"DX32\", \"DX70\", \"DX90\", \"EMNT\", \"EMXT\", \"FZF0\", \"FZF1\", \"FZF2\", \"FZF3\", \"FZF4\", \"FZF5\", \"FZF6\", \"FZF7\", \"FZF8\", \"FZF9\", \"HTDD\", \"TAVG\", \"TMAX\", \"TMIN\", \"SNOW\", \"PSUN\"]\n",
    "\n",
    "# Isolate data from relevant columns and drop duplicate rows\n",
    "relevant = df[relevant_cols].drop_duplicates()\n",
    "# drop columns with no null values / we don't care about for cleaning\n",
    "relevant = relevant.sort_values(by=[\"COUNTY\", \"DATE\"]).reset_index(drop=True).drop([\"NAME\", \"LATITUDE\", \"LONGITUDE\", \"ELEVATION\"], axis=1)\n",
    "relevant.head(3)"
   ]
  },
  {
   "cell_type": "code",
   "execution_count": 5,
   "metadata": {},
   "outputs": [
    {
     "data": {
      "text/html": "<div>\n<style scoped>\n    .dataframe tbody tr th:only-of-type {\n        vertical-align: middle;\n    }\n\n    .dataframe tbody tr th {\n        vertical-align: top;\n    }\n\n    .dataframe thead th {\n        text-align: right;\n    }\n</style>\n<table border=\"1\" class=\"dataframe\">\n  <thead>\n    <tr style=\"text-align: right;\">\n      <th></th>\n      <th>COUNTY</th>\n      <th>DATE</th>\n      <th>CDSD</th>\n      <th>EMXP</th>\n      <th>PRCP</th>\n      <th>CLDD</th>\n      <th>DT00</th>\n      <th>DT32</th>\n      <th>DX32</th>\n      <th>DX70</th>\n      <th>...</th>\n      <th>FZF6</th>\n      <th>FZF7</th>\n      <th>FZF8</th>\n      <th>FZF9</th>\n      <th>HTDD</th>\n      <th>TAVG</th>\n      <th>TMAX</th>\n      <th>TMIN</th>\n      <th>SNOW</th>\n      <th>PSUN</th>\n    </tr>\n  </thead>\n  <tbody>\n    <tr>\n      <th>0</th>\n      <td>Addison</td>\n      <td>1990</td>\n      <td>NaN</td>\n      <td>2.52</td>\n      <td>54.87</td>\n      <td>NaN</td>\n      <td>NaN</td>\n      <td>NaN</td>\n      <td>55.0</td>\n      <td>107.0</td>\n      <td>...</td>\n      <td>NaN</td>\n      <td>NaN</td>\n      <td>NaN</td>\n      <td>NaN</td>\n      <td>NaN</td>\n      <td>NaN</td>\n      <td>54.2</td>\n      <td>NaN</td>\n      <td>131.3</td>\n      <td>NaN</td>\n    </tr>\n    <tr>\n      <th>1</th>\n      <td>Addison</td>\n      <td>1990</td>\n      <td>NaN</td>\n      <td>2.60</td>\n      <td>48.94</td>\n      <td>NaN</td>\n      <td>NaN</td>\n      <td>NaN</td>\n      <td>NaN</td>\n      <td>NaN</td>\n      <td>...</td>\n      <td>NaN</td>\n      <td>NaN</td>\n      <td>NaN</td>\n      <td>NaN</td>\n      <td>NaN</td>\n      <td>NaN</td>\n      <td>NaN</td>\n      <td>NaN</td>\n      <td>53.2</td>\n      <td>NaN</td>\n    </tr>\n    <tr>\n      <th>2</th>\n      <td>Addison</td>\n      <td>1990</td>\n      <td>NaN</td>\n      <td>2.40</td>\n      <td>46.65</td>\n      <td>NaN</td>\n      <td>2.0</td>\n      <td>136.0</td>\n      <td>NaN</td>\n      <td>NaN</td>\n      <td>...</td>\n      <td>24.0</td>\n      <td>24.0</td>\n      <td>17.0</td>\n      <td>11.0</td>\n      <td>7198.0</td>\n      <td>NaN</td>\n      <td>NaN</td>\n      <td>38.5</td>\n      <td>69.4</td>\n      <td>NaN</td>\n    </tr>\n    <tr>\n      <th>3</th>\n      <td>Addison</td>\n      <td>1991</td>\n      <td>NaN</td>\n      <td>1.90</td>\n      <td>37.15</td>\n      <td>NaN</td>\n      <td>30.0</td>\n      <td>161.0</td>\n      <td>63.0</td>\n      <td>109.0</td>\n      <td>...</td>\n      <td>27.0</td>\n      <td>20.0</td>\n      <td>20.0</td>\n      <td>11.0</td>\n      <td>NaN</td>\n      <td>42.9</td>\n      <td>53.6</td>\n      <td>32.3</td>\n      <td>89.4</td>\n      <td>NaN</td>\n    </tr>\n    <tr>\n      <th>4</th>\n      <td>Addison</td>\n      <td>1991</td>\n      <td>NaN</td>\n      <td>NaN</td>\n      <td>NaN</td>\n      <td>NaN</td>\n      <td>NaN</td>\n      <td>NaN</td>\n      <td>NaN</td>\n      <td>NaN</td>\n      <td>...</td>\n      <td>NaN</td>\n      <td>NaN</td>\n      <td>NaN</td>\n      <td>NaN</td>\n      <td>NaN</td>\n      <td>NaN</td>\n      <td>NaN</td>\n      <td>NaN</td>\n      <td>26.0</td>\n      <td>NaN</td>\n    </tr>\n    <tr>\n      <th>...</th>\n      <td>...</td>\n      <td>...</td>\n      <td>...</td>\n      <td>...</td>\n      <td>...</td>\n      <td>...</td>\n      <td>...</td>\n      <td>...</td>\n      <td>...</td>\n      <td>...</td>\n      <td>...</td>\n      <td>...</td>\n      <td>...</td>\n      <td>...</td>\n      <td>...</td>\n      <td>...</td>\n      <td>...</td>\n      <td>...</td>\n      <td>...</td>\n      <td>...</td>\n      <td>...</td>\n    </tr>\n    <tr>\n      <th>1216</th>\n      <td>Windsor</td>\n      <td>2019</td>\n      <td>NaN</td>\n      <td>2.17</td>\n      <td>47.30</td>\n      <td>NaN</td>\n      <td>NaN</td>\n      <td>NaN</td>\n      <td>NaN</td>\n      <td>NaN</td>\n      <td>...</td>\n      <td>NaN</td>\n      <td>NaN</td>\n      <td>NaN</td>\n      <td>NaN</td>\n      <td>NaN</td>\n      <td>NaN</td>\n      <td>NaN</td>\n      <td>NaN</td>\n      <td>NaN</td>\n      <td>NaN</td>\n    </tr>\n    <tr>\n      <th>1217</th>\n      <td>Windsor</td>\n      <td>2019</td>\n      <td>NaN</td>\n      <td>2.37</td>\n      <td>43.76</td>\n      <td>NaN</td>\n      <td>19.0</td>\n      <td>166.0</td>\n      <td>NaN</td>\n      <td>NaN</td>\n      <td>...</td>\n      <td>28.0</td>\n      <td>24.0</td>\n      <td>19.0</td>\n      <td>15.0</td>\n      <td>7680.0</td>\n      <td>NaN</td>\n      <td>33.0</td>\n      <td>NaN</td>\n      <td>NaN</td>\n      <td>58.6</td>\n    </tr>\n    <tr>\n      <th>1218</th>\n      <td>Windsor</td>\n      <td>2019</td>\n      <td>310.0</td>\n      <td>NaN</td>\n      <td>NaN</td>\n      <td>310.0</td>\n      <td>29.0</td>\n      <td>176.0</td>\n      <td>62.0</td>\n      <td>109.0</td>\n      <td>...</td>\n      <td>27.0</td>\n      <td>23.0</td>\n      <td>19.0</td>\n      <td>14.0</td>\n      <td>8262.0</td>\n      <td>53.8</td>\n      <td>32.2</td>\n      <td>NaN</td>\n      <td>43.0</td>\n      <td>NaN</td>\n    </tr>\n    <tr>\n      <th>1219</th>\n      <td>Windsor</td>\n      <td>2019</td>\n      <td>359.0</td>\n      <td>2.47</td>\n      <td>49.14</td>\n      <td>359.0</td>\n      <td>29.0</td>\n      <td>173.0</td>\n      <td>57.0</td>\n      <td>121.0</td>\n      <td>...</td>\n      <td>27.0</td>\n      <td>22.0</td>\n      <td>20.0</td>\n      <td>16.0</td>\n      <td>7840.0</td>\n      <td>55.7</td>\n      <td>32.2</td>\n      <td>NaN</td>\n      <td>43.9</td>\n      <td>NaN</td>\n    </tr>\n    <tr>\n      <th>1220</th>\n      <td>Windsor</td>\n      <td>2019</td>\n      <td>NaN</td>\n      <td>2.33</td>\n      <td>54.18</td>\n      <td>NaN</td>\n      <td>NaN</td>\n      <td>NaN</td>\n      <td>NaN</td>\n      <td>NaN</td>\n      <td>...</td>\n      <td>NaN</td>\n      <td>NaN</td>\n      <td>NaN</td>\n      <td>NaN</td>\n      <td>NaN</td>\n      <td>NaN</td>\n      <td>NaN</td>\n      <td>NaN</td>\n      <td>NaN</td>\n      <td>NaN</td>\n    </tr>\n  </tbody>\n</table>\n<p>1103 rows × 29 columns</p>\n</div>",
      "text/plain": "       COUNTY  DATE   CDSD  EMXP   PRCP   CLDD  DT00   DT32  DX32   DX70  ...  \\\n0     Addison  1990    NaN  2.52  54.87    NaN   NaN    NaN  55.0  107.0  ...   \n1     Addison  1990    NaN  2.60  48.94    NaN   NaN    NaN   NaN    NaN  ...   \n2     Addison  1990    NaN  2.40  46.65    NaN   2.0  136.0   NaN    NaN  ...   \n3     Addison  1991    NaN  1.90  37.15    NaN  30.0  161.0  63.0  109.0  ...   \n4     Addison  1991    NaN   NaN    NaN    NaN   NaN    NaN   NaN    NaN  ...   \n...       ...   ...    ...   ...    ...    ...   ...    ...   ...    ...  ...   \n1216  Windsor  2019    NaN  2.17  47.30    NaN   NaN    NaN   NaN    NaN  ...   \n1217  Windsor  2019    NaN  2.37  43.76    NaN  19.0  166.0   NaN    NaN  ...   \n1218  Windsor  2019  310.0   NaN    NaN  310.0  29.0  176.0  62.0  109.0  ...   \n1219  Windsor  2019  359.0  2.47  49.14  359.0  29.0  173.0  57.0  121.0  ...   \n1220  Windsor  2019    NaN  2.33  54.18    NaN   NaN    NaN   NaN    NaN  ...   \n\n      FZF6  FZF7  FZF8  FZF9    HTDD  TAVG  TMAX  TMIN   SNOW  PSUN  \n0      NaN   NaN   NaN   NaN     NaN   NaN  54.2   NaN  131.3   NaN  \n1      NaN   NaN   NaN   NaN     NaN   NaN   NaN   NaN   53.2   NaN  \n2     24.0  24.0  17.0  11.0  7198.0   NaN   NaN  38.5   69.4   NaN  \n3     27.0  20.0  20.0  11.0     NaN  42.9  53.6  32.3   89.4   NaN  \n4      NaN   NaN   NaN   NaN     NaN   NaN   NaN   NaN   26.0   NaN  \n...    ...   ...   ...   ...     ...   ...   ...   ...    ...   ...  \n1216   NaN   NaN   NaN   NaN     NaN   NaN   NaN   NaN    NaN   NaN  \n1217  28.0  24.0  19.0  15.0  7680.0   NaN  33.0   NaN    NaN  58.6  \n1218  27.0  23.0  19.0  14.0  8262.0  53.8  32.2   NaN   43.0   NaN  \n1219  27.0  22.0  20.0  16.0  7840.0  55.7  32.2   NaN   43.9   NaN  \n1220   NaN   NaN   NaN   NaN     NaN   NaN   NaN   NaN    NaN   NaN  \n\n[1103 rows x 29 columns]"
     },
     "execution_count": 5,
     "metadata": {},
     "output_type": "execute_result"
    }
   ],
   "source": [
    "# group the data by county and date\n",
    "relevant_groupby = relevant.groupby([\"COUNTY\", \"DATE\"])\n",
    "relevant_groupby.head()"
   ]
  },
  {
   "cell_type": "code",
   "execution_count": 6,
   "metadata": {},
   "outputs": [],
   "source": [
    "# CLEAN UP NULL VALUES IN DATA\n",
    "for county in relevant[\"COUNTY\"].unique():\n",
    "    # slice dataframe to only have data from a single county\n",
    "    county_data = relevant[relevant[\"COUNTY\"] == county]\n",
    "    for year in county_data[\"DATE\"].unique():\n",
    "        # get current slice of data from that year for that county\n",
    "        current_group = relevant_groupby.get_group((county, year))\n",
    "        # get the names of the columns that are missing all their data\n",
    "        missing_cols = current_group.loc[:, current_group.isna().sum() == current_group.shape[0]].columns\n",
    "        # get the names of the columns that have some missing data but not all\n",
    "        other_cols = [col for col in current_group.columns if col not in missing_cols]\n",
    "        # fill in the missing values in the columns in other_cols with their respective medians\n",
    "        current_group[other_cols] = current_group[other_cols].fillna(current_group[other_cols].median())\n",
    "        # save values in current group back into original dataframe ('relevant')\n",
    "        relevant.update(current_group, overwrite=False)"
   ]
  },
  {
   "cell_type": "code",
   "execution_count": 7,
   "metadata": {},
   "outputs": [
    {
     "data": {
      "text/plain": "COUNTY    False\nDATE      False\nCDSD       True\nEMXP       True\nPRCP       True\nCLDD       True\nDT00       True\nDT32       True\nDX32       True\nDX70       True\nDX90       True\nEMNT       True\nEMXT       True\nFZF0       True\nFZF1       True\nFZF2       True\nFZF3       True\nFZF4       True\nFZF5       True\nFZF6       True\nFZF7       True\nFZF8       True\nFZF9       True\nHTDD       True\nTAVG       True\nTMAX       True\nTMIN       True\nSNOW       True\nPSUN       True\ndtype: bool"
     },
     "metadata": {},
     "output_type": "display_data"
    },
    {
     "data": {
      "text/html": "<div>\n<style scoped>\n    .dataframe tbody tr th:only-of-type {\n        vertical-align: middle;\n    }\n\n    .dataframe tbody tr th {\n        vertical-align: top;\n    }\n\n    .dataframe thead th {\n        text-align: right;\n    }\n</style>\n<table border=\"1\" class=\"dataframe\">\n  <thead>\n    <tr style=\"text-align: right;\">\n      <th></th>\n      <th>COUNTY</th>\n      <th>DATE</th>\n      <th>CDSD</th>\n      <th>EMXP</th>\n      <th>PRCP</th>\n      <th>CLDD</th>\n      <th>DT00</th>\n      <th>DT32</th>\n      <th>DX32</th>\n      <th>DX70</th>\n      <th>...</th>\n      <th>FZF6</th>\n      <th>FZF7</th>\n      <th>FZF8</th>\n      <th>FZF9</th>\n      <th>HTDD</th>\n      <th>TAVG</th>\n      <th>TMAX</th>\n      <th>TMIN</th>\n      <th>SNOW</th>\n      <th>PSUN</th>\n    </tr>\n  </thead>\n  <tbody>\n    <tr>\n      <th>0</th>\n      <td>Addison</td>\n      <td>1990</td>\n      <td>NaN</td>\n      <td>2.52</td>\n      <td>54.87</td>\n      <td>NaN</td>\n      <td>2.0</td>\n      <td>136.0</td>\n      <td>55.0</td>\n      <td>107.0</td>\n      <td>...</td>\n      <td>24.0</td>\n      <td>24.0</td>\n      <td>17.0</td>\n      <td>11.0</td>\n      <td>7198.0</td>\n      <td>NaN</td>\n      <td>54.2</td>\n      <td>38.5</td>\n      <td>131.3</td>\n      <td>NaN</td>\n    </tr>\n    <tr>\n      <th>1</th>\n      <td>Addison</td>\n      <td>1990</td>\n      <td>NaN</td>\n      <td>2.60</td>\n      <td>48.94</td>\n      <td>NaN</td>\n      <td>2.0</td>\n      <td>136.0</td>\n      <td>55.0</td>\n      <td>107.0</td>\n      <td>...</td>\n      <td>24.0</td>\n      <td>24.0</td>\n      <td>17.0</td>\n      <td>11.0</td>\n      <td>7198.0</td>\n      <td>NaN</td>\n      <td>54.2</td>\n      <td>38.5</td>\n      <td>53.2</td>\n      <td>NaN</td>\n    </tr>\n    <tr>\n      <th>2</th>\n      <td>Addison</td>\n      <td>1990</td>\n      <td>NaN</td>\n      <td>2.40</td>\n      <td>46.65</td>\n      <td>NaN</td>\n      <td>2.0</td>\n      <td>136.0</td>\n      <td>55.0</td>\n      <td>107.0</td>\n      <td>...</td>\n      <td>24.0</td>\n      <td>24.0</td>\n      <td>17.0</td>\n      <td>11.0</td>\n      <td>7198.0</td>\n      <td>NaN</td>\n      <td>54.2</td>\n      <td>38.5</td>\n      <td>69.4</td>\n      <td>NaN</td>\n    </tr>\n    <tr>\n      <th>3</th>\n      <td>Addison</td>\n      <td>1991</td>\n      <td>NaN</td>\n      <td>1.90</td>\n      <td>37.15</td>\n      <td>NaN</td>\n      <td>30.0</td>\n      <td>161.0</td>\n      <td>63.0</td>\n      <td>109.0</td>\n      <td>...</td>\n      <td>27.0</td>\n      <td>20.0</td>\n      <td>20.0</td>\n      <td>11.0</td>\n      <td>NaN</td>\n      <td>42.9</td>\n      <td>53.6</td>\n      <td>32.3</td>\n      <td>89.4</td>\n      <td>NaN</td>\n    </tr>\n    <tr>\n      <th>4</th>\n      <td>Addison</td>\n      <td>1991</td>\n      <td>NaN</td>\n      <td>1.90</td>\n      <td>37.15</td>\n      <td>NaN</td>\n      <td>30.0</td>\n      <td>161.0</td>\n      <td>63.0</td>\n      <td>109.0</td>\n      <td>...</td>\n      <td>27.0</td>\n      <td>20.0</td>\n      <td>20.0</td>\n      <td>11.0</td>\n      <td>NaN</td>\n      <td>42.9</td>\n      <td>53.6</td>\n      <td>32.3</td>\n      <td>26.0</td>\n      <td>NaN</td>\n    </tr>\n  </tbody>\n</table>\n<p>5 rows × 29 columns</p>\n</div>",
      "text/plain": "    COUNTY  DATE  CDSD  EMXP   PRCP  CLDD  DT00   DT32  DX32   DX70  ...  \\\n0  Addison  1990   NaN  2.52  54.87   NaN   2.0  136.0  55.0  107.0  ...   \n1  Addison  1990   NaN  2.60  48.94   NaN   2.0  136.0  55.0  107.0  ...   \n2  Addison  1990   NaN  2.40  46.65   NaN   2.0  136.0  55.0  107.0  ...   \n3  Addison  1991   NaN  1.90  37.15   NaN  30.0  161.0  63.0  109.0  ...   \n4  Addison  1991   NaN  1.90  37.15   NaN  30.0  161.0  63.0  109.0  ...   \n\n   FZF6  FZF7  FZF8  FZF9    HTDD  TAVG  TMAX  TMIN   SNOW  PSUN  \n0  24.0  24.0  17.0  11.0  7198.0   NaN  54.2  38.5  131.3   NaN  \n1  24.0  24.0  17.0  11.0  7198.0   NaN  54.2  38.5   53.2   NaN  \n2  24.0  24.0  17.0  11.0  7198.0   NaN  54.2  38.5   69.4   NaN  \n3  27.0  20.0  20.0  11.0     NaN  42.9  53.6  32.3   89.4   NaN  \n4  27.0  20.0  20.0  11.0     NaN  42.9  53.6  32.3   26.0   NaN  \n\n[5 rows x 29 columns]"
     },
     "execution_count": 7,
     "metadata": {},
     "output_type": "execute_result"
    }
   ],
   "source": [
    "display(relevant.isna().any())\n",
    "relevant.head()"
   ]
  },
  {
   "cell_type": "code",
   "execution_count": 8,
   "metadata": {},
   "outputs": [
    {
     "data": {
      "text/plain": "COUNTY    False\nDATE      False\nCDSD      False\nEMXP      False\nPRCP      False\nCLDD      False\nDT00      False\nDT32      False\nDX32      False\nDX70      False\nDX90      False\nEMNT      False\nEMXT      False\nFZF0      False\nFZF1      False\nFZF2      False\nFZF3      False\nFZF4      False\nFZF5      False\nFZF6      False\nFZF7      False\nFZF8      False\nFZF9      False\nHTDD      False\nTAVG      False\nTMAX      False\nTMIN      False\nSNOW      False\nPSUN      False\ndtype: bool"
     },
     "metadata": {},
     "output_type": "display_data"
    },
    {
     "data": {
      "text/html": "<div>\n<style scoped>\n    .dataframe tbody tr th:only-of-type {\n        vertical-align: middle;\n    }\n\n    .dataframe tbody tr th {\n        vertical-align: top;\n    }\n\n    .dataframe thead th {\n        text-align: right;\n    }\n</style>\n<table border=\"1\" class=\"dataframe\">\n  <thead>\n    <tr style=\"text-align: right;\">\n      <th></th>\n      <th>COUNTY</th>\n      <th>DATE</th>\n      <th>CDSD</th>\n      <th>EMXP</th>\n      <th>PRCP</th>\n      <th>CLDD</th>\n      <th>DT00</th>\n      <th>DT32</th>\n      <th>DX32</th>\n      <th>DX70</th>\n      <th>...</th>\n      <th>FZF6</th>\n      <th>FZF7</th>\n      <th>FZF8</th>\n      <th>FZF9</th>\n      <th>HTDD</th>\n      <th>TAVG</th>\n      <th>TMAX</th>\n      <th>TMIN</th>\n      <th>SNOW</th>\n      <th>PSUN</th>\n    </tr>\n  </thead>\n  <tbody>\n    <tr>\n      <th>0</th>\n      <td>Addison</td>\n      <td>1990</td>\n      <td>314.0</td>\n      <td>2.52</td>\n      <td>54.87</td>\n      <td>314.0</td>\n      <td>2.0</td>\n      <td>136.0</td>\n      <td>55.0</td>\n      <td>107.0</td>\n      <td>...</td>\n      <td>24.0</td>\n      <td>24.0</td>\n      <td>17.0</td>\n      <td>11.0</td>\n      <td>7198.000000</td>\n      <td>47.0</td>\n      <td>54.2</td>\n      <td>38.5</td>\n      <td>131.3</td>\n      <td>99.72</td>\n    </tr>\n    <tr>\n      <th>1</th>\n      <td>Addison</td>\n      <td>1990</td>\n      <td>314.0</td>\n      <td>2.60</td>\n      <td>48.94</td>\n      <td>314.0</td>\n      <td>2.0</td>\n      <td>136.0</td>\n      <td>55.0</td>\n      <td>107.0</td>\n      <td>...</td>\n      <td>24.0</td>\n      <td>24.0</td>\n      <td>17.0</td>\n      <td>11.0</td>\n      <td>7198.000000</td>\n      <td>47.0</td>\n      <td>54.2</td>\n      <td>38.5</td>\n      <td>53.2</td>\n      <td>99.72</td>\n    </tr>\n    <tr>\n      <th>2</th>\n      <td>Addison</td>\n      <td>1990</td>\n      <td>314.0</td>\n      <td>2.40</td>\n      <td>46.65</td>\n      <td>314.0</td>\n      <td>2.0</td>\n      <td>136.0</td>\n      <td>55.0</td>\n      <td>107.0</td>\n      <td>...</td>\n      <td>24.0</td>\n      <td>24.0</td>\n      <td>17.0</td>\n      <td>11.0</td>\n      <td>7198.000000</td>\n      <td>47.0</td>\n      <td>54.2</td>\n      <td>38.5</td>\n      <td>69.4</td>\n      <td>99.72</td>\n    </tr>\n    <tr>\n      <th>3</th>\n      <td>Addison</td>\n      <td>1991</td>\n      <td>314.0</td>\n      <td>1.90</td>\n      <td>37.15</td>\n      <td>314.0</td>\n      <td>30.0</td>\n      <td>161.0</td>\n      <td>63.0</td>\n      <td>109.0</td>\n      <td>...</td>\n      <td>27.0</td>\n      <td>20.0</td>\n      <td>20.0</td>\n      <td>11.0</td>\n      <td>7693.666667</td>\n      <td>42.9</td>\n      <td>53.6</td>\n      <td>32.3</td>\n      <td>89.4</td>\n      <td>99.72</td>\n    </tr>\n    <tr>\n      <th>4</th>\n      <td>Addison</td>\n      <td>1991</td>\n      <td>314.0</td>\n      <td>1.90</td>\n      <td>37.15</td>\n      <td>314.0</td>\n      <td>30.0</td>\n      <td>161.0</td>\n      <td>63.0</td>\n      <td>109.0</td>\n      <td>...</td>\n      <td>27.0</td>\n      <td>20.0</td>\n      <td>20.0</td>\n      <td>11.0</td>\n      <td>8189.333333</td>\n      <td>42.9</td>\n      <td>53.6</td>\n      <td>32.3</td>\n      <td>26.0</td>\n      <td>99.72</td>\n    </tr>\n  </tbody>\n</table>\n<p>5 rows × 29 columns</p>\n</div>",
      "text/plain": "    COUNTY  DATE   CDSD  EMXP   PRCP   CLDD  DT00   DT32  DX32   DX70  ...  \\\n0  Addison  1990  314.0  2.52  54.87  314.0   2.0  136.0  55.0  107.0  ...   \n1  Addison  1990  314.0  2.60  48.94  314.0   2.0  136.0  55.0  107.0  ...   \n2  Addison  1990  314.0  2.40  46.65  314.0   2.0  136.0  55.0  107.0  ...   \n3  Addison  1991  314.0  1.90  37.15  314.0  30.0  161.0  63.0  109.0  ...   \n4  Addison  1991  314.0  1.90  37.15  314.0  30.0  161.0  63.0  109.0  ...   \n\n   FZF6  FZF7  FZF8  FZF9         HTDD  TAVG  TMAX  TMIN   SNOW   PSUN  \n0  24.0  24.0  17.0  11.0  7198.000000  47.0  54.2  38.5  131.3  99.72  \n1  24.0  24.0  17.0  11.0  7198.000000  47.0  54.2  38.5   53.2  99.72  \n2  24.0  24.0  17.0  11.0  7198.000000  47.0  54.2  38.5   69.4  99.72  \n3  27.0  20.0  20.0  11.0  7693.666667  42.9  53.6  32.3   89.4  99.72  \n4  27.0  20.0  20.0  11.0  8189.333333  42.9  53.6  32.3   26.0  99.72  \n\n[5 rows x 29 columns]"
     },
     "execution_count": 8,
     "metadata": {},
     "output_type": "execute_result"
    }
   ],
   "source": [
    "# CLEAN UP REMAINING NULL VALUES\n",
    "relevant = relevant.interpolate(method=\"linear\", limit_direction=\"forward\")\n",
    "relevant = relevant.fillna(relevant.median())    \n",
    "display(relevant.isna().any())\n",
    "relevant.head()"
   ]
  },
  {
   "cell_type": "code",
   "execution_count": 9,
   "metadata": {},
   "outputs": [
    {
     "name": "stdout",
     "output_type": "stream",
     "text": "Data cleaned in 27.90343976020813 seconds.\n"
    }
   ],
   "source": [
    "# Write cleaned data to file\n",
    "relevant.to_csv(\"../../data/cleaned/environment/cleaned environment data.csv\", index=False)\n",
    "print(\"Data cleaned in {} seconds.\".format(time.time() - cleaning_time_start))"
   ]
  }
 ]
}