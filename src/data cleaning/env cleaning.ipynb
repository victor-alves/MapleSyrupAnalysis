{
 "cells": [
  {
   "cell_type": "code",
   "execution_count": 1,
   "metadata": {},
   "outputs": [],
   "source": [
    "import pandas as pd\n",
    "import numpy as np\n",
    "import altair as alt\n",
    "import time\n",
    "import requests"
   ]
  },
  {
   "cell_type": "code",
   "execution_count": 17,
   "metadata": {},
   "outputs": [],
   "source": [
    "data = pd.read_csv(\"../../data/raw/environment data.csv\")"
   ]
  },
  {
   "cell_type": "code",
   "execution_count": 18,
   "metadata": {},
   "outputs": [
    {
     "data": {
      "text/plain": "(1318, 94)"
     },
     "metadata": {},
     "output_type": "display_data"
    },
    {
     "data": {
      "text/html": "<div>\n<style scoped>\n    .dataframe tbody tr th:only-of-type {\n        vertical-align: middle;\n    }\n\n    .dataframe tbody tr th {\n        vertical-align: top;\n    }\n\n    .dataframe thead th {\n        text-align: right;\n    }\n</style>\n<table border=\"1\" class=\"dataframe\">\n  <thead>\n    <tr style=\"text-align: right;\">\n      <th></th>\n      <th>STATION</th>\n      <th>NAME</th>\n      <th>LATITUDE</th>\n      <th>LONGITUDE</th>\n      <th>ELEVATION</th>\n      <th>DATE</th>\n      <th>AWND</th>\n      <th>AWND_ATTRIBUTES</th>\n      <th>CDSD</th>\n      <th>CDSD_ATTRIBUTES</th>\n      <th>...</th>\n      <th>WSFG</th>\n      <th>WSFG_ATTRIBUTES</th>\n      <th></th>\n      <th></th>\n      <th>.1</th>\n      <th>.1</th>\n      <th>.2</th>\n      <th>.2</th>\n      <th>.3</th>\n      <th>Unnamed: 93</th>\n    </tr>\n  </thead>\n  <tbody>\n    <tr>\n      <th>0</th>\n      <td>USC00437612</td>\n      <td>SOUTH LINCOLN, VT US</td>\n      <td>44.0725</td>\n      <td>-72.9736</td>\n      <td>408.7</td>\n      <td>1990</td>\n      <td></td>\n      <td></td>\n      <td></td>\n      <td></td>\n      <td>...</td>\n      <td></td>\n      <td></td>\n      <td></td>\n      <td></td>\n      <td></td>\n      <td></td>\n      <td></td>\n      <td></td>\n      <td></td>\n      <td>NaN</td>\n    </tr>\n    <tr>\n      <th>1</th>\n      <td>USC00437612</td>\n      <td>SOUTH LINCOLN, VT US</td>\n      <td>44.0725</td>\n      <td>-72.9736</td>\n      <td>408.7</td>\n      <td>1991</td>\n      <td></td>\n      <td></td>\n      <td></td>\n      <td></td>\n      <td>...</td>\n      <td></td>\n      <td></td>\n      <td></td>\n      <td></td>\n      <td></td>\n      <td></td>\n      <td></td>\n      <td></td>\n      <td></td>\n      <td>NaN</td>\n    </tr>\n    <tr>\n      <th>2</th>\n      <td>USC00437612</td>\n      <td>SOUTH LINCOLN, VT US</td>\n      <td>44.0725</td>\n      <td>-72.9736</td>\n      <td>408.7</td>\n      <td>1992</td>\n      <td></td>\n      <td></td>\n      <td>66</td>\n      <td></td>\n      <td>...</td>\n      <td></td>\n      <td></td>\n      <td></td>\n      <td></td>\n      <td></td>\n      <td></td>\n      <td></td>\n      <td></td>\n      <td></td>\n      <td>NaN</td>\n    </tr>\n    <tr>\n      <th>3</th>\n      <td>USC00437612</td>\n      <td>SOUTH LINCOLN, VT US</td>\n      <td>44.0725</td>\n      <td>-72.9736</td>\n      <td>408.7</td>\n      <td>1993</td>\n      <td></td>\n      <td></td>\n      <td>142</td>\n      <td></td>\n      <td>...</td>\n      <td></td>\n      <td></td>\n      <td></td>\n      <td></td>\n      <td></td>\n      <td></td>\n      <td></td>\n      <td></td>\n      <td></td>\n      <td>NaN</td>\n    </tr>\n    <tr>\n      <th>4</th>\n      <td>USC00437612</td>\n      <td>SOUTH LINCOLN, VT US</td>\n      <td>44.0725</td>\n      <td>-72.9736</td>\n      <td>408.7</td>\n      <td>1994</td>\n      <td></td>\n      <td></td>\n      <td>144</td>\n      <td></td>\n      <td>...</td>\n      <td></td>\n      <td></td>\n      <td></td>\n      <td></td>\n      <td></td>\n      <td></td>\n      <td></td>\n      <td></td>\n      <td></td>\n      <td>NaN</td>\n    </tr>\n  </tbody>\n</table>\n<p>5 rows × 94 columns</p>\n</div>",
      "text/plain": "   STATION      NAME                                            LATITUDE      \\\n0  USC00437612    SOUTH LINCOLN, VT US                               44.0725   \n1  USC00437612    SOUTH LINCOLN, VT US                               44.0725   \n2  USC00437612    SOUTH LINCOLN, VT US                               44.0725   \n3  USC00437612    SOUTH LINCOLN, VT US                               44.0725   \n4  USC00437612    SOUTH LINCOLN, VT US                               44.0725   \n\n   LONGITUDE      ELEVATION   DATE   AWND   AWND_ATTRIBUTES   CDSD   \\\n0       -72.9736       408.7   1990                                   \n1       -72.9736       408.7   1991                                   \n2       -72.9736       408.7   1992                           66      \n3       -72.9736       408.7   1993                           142     \n4       -72.9736       408.7   1994                           144     \n\n   CDSD_ATTRIBUTES   ...  WSFG   WSFG_ATTRIBUTES                  .1   .1  \\\n0                    ...                                                    \n1                    ...                                                    \n2                    ...                                                    \n3                    ...                                                    \n4                    ...                                                    \n\n       .2   .2      .3 Unnamed: 93  \n0                              NaN  \n1                              NaN  \n2                              NaN  \n3                              NaN  \n4                              NaN  \n\n[5 rows x 94 columns]"
     },
     "execution_count": 18,
     "metadata": {},
     "output_type": "execute_result"
    }
   ],
   "source": [
    "display(data.shape)\n",
    "data.head()"
   ]
  },
  {
   "cell_type": "code",
   "execution_count": 19,
   "metadata": {},
   "outputs": [],
   "source": [
    "data.rename(columns=lambda x: x.strip(), inplace=True)"
   ]
  },
  {
   "cell_type": "markdown",
   "metadata": {},
   "source": [
    "- STATION (11 characters) is the station identification code. \n",
    "- STATION_NAME (max 50 characters) is the name of the station (usually city/airport name). This is an optional output field.\n",
    "- LATITUDE (8 characters) is the latitude (decimated degrees w/Northern Hemisphere values > 0). This is an optional output field.\n",
    "- LONGITUDE (9 characters) is the longitude (decimated degrees w/Western Hemisphere values < 0 and Eastern Hemisphere values > 0). This is an optional output field.\n",
    "- ELEVATION (13 characters) is the elevation above mean sea level in meters (to nearest thousandth of a meter). This is an optional output field.\n",
    "- DATE is the year of the record (4 digits). \n"
   ]
  },
  {
   "cell_type": "code",
   "execution_count": 20,
   "metadata": {},
   "outputs": [],
   "source": [
    "new_data = data.copy(deep=True)"
   ]
  },
  {
   "cell_type": "code",
   "execution_count": 21,
   "metadata": {},
   "outputs": [
    {
     "name": "stdout",
     "output_type": "stream",
     "text": "['Addison', 'Addison', 'Addison', 'Addison', 'Addison', 'Addison', 'Addison', 'Orleans', 'Orleans', 'Windham', 'Windham', 'Windham', 'Windham', 'Windham', 'Windham', 'Bennington', 'Bennington', 'Bennington', 'Bennington', 'Bennington', 'Windsor', 'Windsor', 'Windsor', 'Windsor', 'Windsor', 'Orleans', 'Orleans', 'Orleans', 'Orleans', 'Orleans', 'Orleans', 'Orange', 'Orange', 'Orange', 'Orange', 'Essex', 'Essex', 'Rutland', 'Rutland', 'Rutland', 'Rutland', 'Rutland', 'Rutland', 'Orange', 'Orange', 'Orange', 'Orange', 'Orange', 'Orange', 'Orange', 'Orange', 'Orange', 'Orange', 'Orange', 'Orange', 'Washington', 'Washington', 'Grand Isle', 'Grand Isle', 'Grand Isle', 'Grand Isle', 'Grand Isle', 'Grand Isle', 'Coos', 'Coos', 'Coos', 'Coos', 'Windham', 'Windham', 'Windham', 'Windham', 'Windham', 'Chittenden', 'Chittenden', 'Chittenden', 'Chittenden', 'Chittenden', 'Chittenden', 'Washington', 'Washington', 'Washington', 'Washington', 'Washington', 'Washington', 'Franklin', 'Franklin', 'Franklin', 'Franklin', 'Franklin', 'Franklin', 'Windsor', 'Windsor', 'Windsor', 'Windsor', 'Windsor', 'Windham', 'Windham', 'Windham', 'Windham', 'Rutland', 'Rutland', 'Rutland', 'Rutland', 'Rutland', 'Chittenden', 'Chittenden', 'Chittenden', 'Chittenden', 'Chittenden', 'Chittenden', 'Orange', 'Orange', 'Orange', 'Orange', 'Orange', 'Orange', 'Caledonia', 'Caledonia', 'Caledonia', 'Caledonia', 'Caledonia', 'Caledonia', 'Addison', 'Addison', 'Addison', 'Addison', 'Addison', 'Windsor', 'Windsor', 'Windsor', 'Windsor', 'Windsor', 'Windsor', 'Bennington', 'Bennington', 'Bennington', 'Bennington', 'Bennington', 'Orleans', 'Orleans', 'Orleans', 'Lamoille', 'Lamoille', 'Windham', 'Windham', 'Windham', 'Windham', 'Windham', 'Windham', 'Bennington', 'Bennington', 'Bennington', 'Bennington', 'Bennington', 'Essex', 'Essex', 'Essex', 'Essex', 'Essex', 'Windham', 'Windham', 'Windham', 'Windham', 'Windham', 'Windham', 'Caledonia', 'Caledonia', 'Caledonia', 'Washington', 'Washington', 'Windham', 'Franklin', 'Franklin', 'Windsor', 'Windsor', 'Windsor', 'Windsor', 'Windsor', 'Windsor', 'Orange', 'Bennington', 'Bennington', 'Bennington', 'Bennington', 'Bennington', 'Addison', 'Addison', 'Addison', 'Addison', 'Chittenden', 'Chittenden', 'Washington', 'Washington', 'Washington', 'Washington', 'Washington', 'Washington', 'Bennington', 'Bennington', 'Bennington', 'Bennington', 'Bennington', 'Bennington', 'Essex', 'Essex', 'Essex', 'Essex', 'Essex', 'Essex', 'Caledonia', 'Caledonia', 'Caledonia', 'Caledonia', 'Caledonia', 'Caledonia', 'Lamoille', 'Lamoille', 'Lamoille', 'Lamoille', 'Lamoille', 'Lamoille', 'Windham', 'Windham', 'Windham', 'Windham', 'Windham', 'Windham', 'Franklin', 'Franklin', 'Franklin', 'Franklin', 'Franklin', 'Addison', 'Addison', 'Addison', 'Addison', 'Addison', 'Lamoille', 'Washington', 'Chittenden', 'Orleans', 'Orleans', 'Windham', 'Bennington', 'Bennington', 'Bennington', 'Windsor', 'Windsor', 'Windsor', 'Windsor', 'Orleans', 'Orleans', 'Orleans', 'Orleans', 'Orleans', 'Orleans', 'Essex', 'Essex', 'Essex', 'Rutland', 'Rutland', 'Rutland', 'Rutland', 'Rutland', 'Rutland', 'Orange', 'Orange', 'Orange', 'Orange', 'Orange', 'Caledonia', 'Caledonia', 'Orange', 'Orange', 'Orange', 'Orange', 'Orange', 'Orange', 'Grand Isle', 'Grand Isle', 'Grand Isle', 'Grand Isle', 'Grand Isle', 'Grand Isle', 'Coos', 'Coos', 'Windham', 'Chittenden', 'Chittenden', 'Chittenden', 'Chittenden', 'Chittenden', 'Chittenden', 'Washington', 'Washington', 'Washington', 'Washington', 'Washington', 'Franklin', 'Franklin', 'Franklin', 'Franklin', 'Franklin', 'Franklin', 'Windsor', 'Windsor', 'Windsor', 'Windsor', 'Windsor', 'Windham', 'Windham', 'Windham', 'Windham', 'Rutland', 'Rutland', 'Rutland', 'Rutland', 'Rutland', 'Rutland', 'Chittenden', 'Chittenden', 'Chittenden', 'Chittenden', 'Chittenden', 'Chittenden', 'Orange', 'Orange', 'Orange', 'Orange', 'Orange', 'Orange', 'Caledonia', 'Caledonia', 'Caledonia', 'Caledonia', 'Caledonia', 'Caledonia', 'Addison', 'Addison', 'Addison', 'Addison', 'Addison', 'Addison', 'Windsor', 'Windsor', 'Windsor', 'Windsor', 'Windsor', 'Windsor', 'Bennington', 'Bennington', 'Orleans', 'Orleans', 'Orleans', 'Orleans', 'Orleans', 'Lamoille', 'Lamoille', 'Lamoille', 'Lamoille', 'Windham', 'Windham', 'Bennington', 'Bennington', 'Bennington', 'Essex', 'Essex', 'Essex', 'Essex', 'Essex', 'Essex', 'Windham', 'Windham', 'Caledonia', 'Washington', 'Caledonia', 'Caledonia', 'Caledonia', 'Caledonia', 'Washington', 'Washington', 'Washington', 'Lamoille', 'Lamoille', 'Lamoille', 'Lamoille', 'Lamoille', 'Lamoille', 'Lamoille', 'Franklin', 'Franklin', 'Franklin', 'Windsor', 'Windsor', 'Windsor', 'Windsor', 'Windsor', 'Windsor', 'Windsor', 'Windsor', 'Orange', 'Bennington', 'Bennington', 'Addison', 'Washington', 'Washington', 'Washington', 'Washington', 'Washington', 'Bennington', 'Bennington', 'Bennington', 'Bennington', 'Bennington', 'Essex', 'Essex', 'Essex', 'Essex', 'Essex', 'Essex', 'Caledonia', 'Caledonia', 'Caledonia', 'Caledonia', 'Bennington', 'Bennington', 'Lamoille', 'Lamoille', 'Lamoille', 'Lamoille', 'Lamoille', 'Lamoille', 'Windham', 'Windham', 'Franklin', 'Franklin', 'Franklin', 'Franklin', 'Franklin', 'Franklin', 'Washington', 'Washington', 'Washington', 'Washington', 'Washington', 'Windsor', 'Windsor', 'Windsor', 'Windsor', 'Caledonia', 'Caledonia', 'Addison', 'Addison', 'Addison', 'Addison', 'Addison', 'Lamoille', 'Lamoille', 'Lamoille', 'Lamoille', 'Lamoille', 'Lamoille', 'Washington', 'Washington', 'Washington', 'Washington', 'Washington', 'Rutland', 'Rutland', 'Rutland', 'Rutland', 'Rutland', 'Rutland', 'Rutland', 'Rutland', 'Rutland', 'Rutland', 'Chittenden', 'Chittenden', 'Chittenden', 'Chittenden', 'Essex', 'Essex', 'Essex', 'Washington', 'Addison', 'Windsor', 'Windsor', 'Windsor', 'Windsor', 'Windsor', 'Orleans', 'Orleans', 'Orleans', 'Orleans', 'Orleans', 'Orleans', 'Windsor', 'Windsor', 'Windsor', 'Essex', 'Essex', 'Essex', 'Essex', 'Essex', 'Essex', 'Rutland', 'Rutland', 'Rutland', 'Rutland', 'Rutland', 'Rutland', 'Chittenden', 'Orange', 'Orange', 'Orange', 'Washington', 'Washington', 'Washington', 'Washington', 'Washington', 'Washington', 'Grand Isle', 'Grand Isle', 'Grand Isle', 'Grand Isle', 'Grand Isle', 'Grand Isle', 'Windham', 'Windham', 'Windham', 'Windham', 'Windham', 'Windham', 'Chittenden', 'Chittenden', 'Chittenden', 'Chittenden', 'Chittenden', 'Chittenden', 'Washington', 'Washington', 'Washington', 'Washington', 'Washington', 'Washington', 'Orange', 'Orange', 'Franklin', 'Franklin', 'Franklin', 'Franklin', 'Franklin', 'Windham', 'Windham', 'Windham', 'Windham', 'Windham', 'Windham', 'Rutland', 'Rutland', 'Rutland', 'Rutland', 'Rutland', 'Rutland', 'Chittenden', 'Chittenden', 'Chittenden', 'Chittenden', 'Chittenden', 'Chittenden', 'Orange', 'Caledonia', 'Caledonia', 'Caledonia', 'Caledonia', 'Caledonia', 'Caledonia', 'Addison', 'Addison', 'Addison', 'Addison', 'Addison', 'Windsor', 'Windsor', 'Windsor', 'Windsor', 'Windsor', 'Windsor', 'Orleans', 'Orleans', 'Orleans', 'Lamoille', 'Lamoille', 'Lamoille', 'Lamoille', 'Bennington', 'Essex', 'Essex', 'Essex', 'Essex', 'Essex', 'Essex', 'Chittenden', 'Lamoille', 'Lamoille', 'Lamoille', 'Lamoille', 'Lamoille', 'Lamoille', 'Caledonia', 'Caledonia', 'Caledonia', 'Caledonia', 'Washington', 'Washington', 'Washington', 'Washington', 'Washington', 'Lamoille', 'Lamoille', 'Lamoille', 'Lamoille', 'Lamoille', 'Lamoille', 'Lamoille', 'Lamoille', 'Lamoille', 'Lamoille', 'Lamoille', 'Lamoille', 'Orange', 'Orange', 'Orange', 'Orange', 'Franklin', 'Franklin', 'Franklin', 'Franklin', 'Caledonia', 'Windsor', 'Windsor', 'Windsor', 'Windsor', 'Windsor', 'Windsor', 'Windsor', 'Windsor', 'Windsor', 'Windsor', 'Windsor', 'Orange', 'Orange', 'Orange', 'Orange', 'Orange', 'Orange', 'Bennington', 'Addison', 'Addison', 'Addison', 'Addison', 'Addison', 'Addison', 'Windsor', 'Washington', 'Washington', 'Washington', 'Caledonia', 'Caledonia', 'Chittenden', 'Chittenden', 'Chittenden', 'Chittenden', 'Chittenden', 'Chittenden', 'Essex', 'Essex', 'Essex', 'Essex', 'Essex', 'Essex', 'Bennington', 'Bennington', 'Bennington', 'Bennington', 'Bennington', 'Bennington', 'Washington', 'Essex', 'Essex', 'Bennington', 'Bennington', 'Bennington', 'Bennington', 'Bennington', 'Bennington', 'Lamoille', 'Lamoille', 'Lamoille', 'Lamoille', 'Lamoille', 'Lamoille', 'Franklin', 'Franklin', 'Franklin', 'Franklin', 'Washington', 'Washington', 'Washington', 'Washington', 'Washington', 'Washington', 'Windsor', 'Windsor', 'Windsor', 'Windsor', 'Windsor', 'Windsor', 'Caledonia', 'Caledonia', 'Caledonia', 'Caledonia', 'Caledonia', 'Caledonia', 'Caledonia', 'Caledonia', 'Caledonia', 'Addison', 'Addison', 'Addison', 'Addison', 'Addison', 'Addison', 'Addison', 'Lamoille', 'Lamoille', 'Lamoille', 'Lamoille', 'Lamoille', 'Washington', 'Washington', 'Washington', 'Washington', 'Washington', 'Washington', 'Windham', 'Washington', 'Washington', 'Washington', 'Washington', 'Washington', 'Washington', 'Addison', 'Rutland', 'Rutland', 'Rutland', 'Rutland', 'Rutland', 'Rutland', 'Rutland', 'Chittenden', 'Essex', 'Essex', 'Essex', 'Essex', 'Washington', 'Washington', 'Washington', 'Washington', 'Washington', 'Washington', 'Washington', 'Washington', 'Washington', 'Addison', 'Windsor', 'Windsor', 'Windsor', 'Essex', 'Orleans', 'Orleans', 'Orleans', 'Orleans', 'Orleans', 'Orleans', 'Windsor', 'Windsor', 'Windsor', 'Windsor', 'Windsor', 'Windsor', 'Essex', 'Essex', 'Essex', 'Essex', 'Essex', 'Essex', 'Essex', 'Essex', 'Essex', 'Rutland', 'Rutland', 'Rutland', 'Rutland', 'Rutland', 'Rutland', 'Chittenden', 'Chittenden', 'Chittenden', 'Chittenden', 'Chittenden', 'Chittenden', 'Orange', 'Orange', 'Washington', 'Washington', 'Washington', 'Washington', 'Washington', 'Washington', 'Grand Isle', 'Grand Isle', 'Grand Isle', 'Grand Isle', 'Grand Isle', 'Grand Isle', 'Orange', 'Windham', 'Windham', 'Windham', 'Chittenden', 'Chittenden', 'Chittenden', 'Chittenden', 'Chittenden', 'Chittenden', 'Washington', 'Washington', 'Washington', 'Washington', 'Washington', 'Washington', 'Orange', 'Franklin', 'Windsor', 'Windsor', 'Windham', 'Windham', 'Rutland', 'Rutland', 'Rutland', 'Rutland', 'Rutland', 'Chittenden', 'Chittenden', 'Chittenden', 'Chittenden', 'Caledonia', 'Caledonia', 'Caledonia', 'Caledonia', 'Caledonia', 'Caledonia', 'Addison', 'Addison', 'Addison', 'Addison', 'Washington', 'Windsor', 'Windsor', 'Windsor', 'Windsor', 'Windsor', 'Orleans', 'Bennington', 'Bennington', 'Bennington', 'Essex', 'Essex', 'Essex', 'Essex', 'Essex', 'Essex', 'Chittenden', 'Chittenden', 'Chittenden', 'Chittenden', 'Chittenden', 'Chittenden', 'Chittenden', 'Chittenden', 'Rutland', 'Rutland', 'Rutland', 'Rutland', 'Chittenden', 'Lamoille', 'Lamoille', 'Lamoille', 'Lamoille', 'Lamoille', 'Lamoille', 'Caledonia', 'Caledonia', 'Caledonia', 'Caledonia', 'Caledonia', 'Washington', 'Washington', 'Washington', 'Washington', 'Washington', 'Orange', 'Orange', 'Orange', 'Orange', 'Orange', 'Windsor', 'Windsor', 'Windsor', 'Windsor', 'Windsor', 'Lamoille', 'Lamoille', 'Lamoille', 'Lamoille', 'Lamoille', 'Lamoille', 'Lamoille', 'Lamoille', 'Orange', 'Orange', 'Orange', 'Orange', 'Orleans', 'Franklin', 'Franklin', 'Franklin', 'Franklin', 'Franklin', 'Caledonia', 'Caledonia', 'Caledonia', 'Caledonia', 'Caledonia', 'Caledonia', 'Windsor', 'Windsor', 'Windsor', 'Windsor', 'Windsor', 'Windsor', 'Windsor', 'Windsor', 'Windsor', 'Windsor', 'Orleans', 'Orleans', 'Orleans', 'Orange', 'Orange', 'Orange', 'Orange', 'Orange', 'Orange', 'Bennington', 'Orleans', 'Addison', 'Addison', 'Addison', 'Addison', 'Addison', 'Addison', 'Franklin', 'Windsor', 'Windsor', 'Windsor', 'Windsor', 'Windsor', 'Washington', 'Caledonia', 'Lamoille', 'Lamoille', 'Lamoille', 'Caledonia', 'Lamoille', 'Lamoille', 'Lamoille', 'Lamoille', 'Lamoille', 'Lamoille', 'Lamoille', 'Lamoille', 'Caledonia', 'Chittenden', 'Chittenden', 'Chittenden', 'Chittenden', 'Chittenden', 'Essex', 'Essex', 'Essex', 'Essex', 'Essex', 'Essex', 'Bennington', 'Bennington', 'Windsor', 'Washington', 'Washington', 'Bennington', 'Bennington', 'Bennington', 'Bennington', 'Bennington', 'Bennington', 'Lamoille', 'Lamoille', 'Lamoille', 'Lamoille', 'Lamoille', 'Lamoille', 'Windham', 'Franklin', 'Washington', 'Washington', 'Washington', 'Washington', 'Windsor', 'Windsor', 'Windsor', 'Windsor', 'Windsor', 'Windsor', 'Washington', 'Washington', 'Washington', 'Orleans', 'Orleans', 'Orleans', 'Orleans', 'Caledonia', 'Caledonia', 'Caledonia', 'Caledonia', 'Caledonia', 'Caledonia', 'Caledonia', 'Caledonia', 'Caledonia', 'Caledonia', 'Caledonia', 'Caledonia', 'Orleans', 'Orleans', 'Orleans', 'Addison', 'Addison', 'Addison', 'Addison', 'Addison', 'Windsor', 'Lamoille', 'Lamoille', 'Lamoille', 'Lamoille', 'Washington', 'Washington', 'Washington', 'Washington', 'Washington', 'Franklin', 'Franklin', 'Washington', 'Washington', 'Washington', 'Washington', 'Windsor', 'Windsor', 'Windsor', 'Caledonia', 'Rutland', 'Rutland', 'Rutland', 'Rutland', 'Rutland', 'Windsor', 'Essex', 'Essex', 'Essex', 'Washington', 'Washington', 'Washington', 'Washington', 'Washington', 'Washington', 'Addison', 'Addison', 'Addison', 'Windsor', 'Windsor', 'Windsor', 'Essex', 'Essex', 'Essex', 'Essex', 'Orleans', 'Orleans', 'Orleans', 'Orleans', 'Windsor', 'Windsor', 'Windsor', 'Windsor', 'Windsor', 'Essex', 'Essex', 'Essex', 'Essex', 'Essex', 'Essex', 'Essex', 'Essex', 'Rutland', 'Rutland', 'Rutland', 'Rutland', 'Rutland', 'Chittenden', 'Chittenden', 'Chittenden', 'Chittenden', 'Chittenden', 'Washington', 'Washington', 'Grand Isle', 'Grand Isle', 'Grand Isle', 'Grand Isle', 'Grand Isle', 'Caledonia', 'Caledonia', 'Caledonia', 'Caledonia', 'Caledonia', 'Chittenden', 'Chittenden', 'Chittenden', 'Chittenden', 'Chittenden', 'Washington', 'Washington', 'Washington', 'Washington', 'Washington', 'Windsor', 'Windsor', 'Windsor', 'Rutland', 'Rutland', 'Rutland', 'Caledonia', 'Caledonia', 'Caledonia', 'Caledonia', 'Caledonia', 'Essex', 'Essex', 'Essex', 'Essex', 'Essex', 'Essex', 'Chittenden', 'Chittenden', 'Chittenden', 'Chittenden', 'Chittenden', 'Chittenden', 'Chittenden', 'Chittenden', 'Chittenden', 'Rutland', 'Rutland', 'Rutland', 'Chittenden', 'Chittenden', 'Chittenden', 'Chittenden', 'Lamoille', 'Lamoille', 'Lamoille', 'Lamoille', 'Caledonia', 'Caledonia', 'Washington', 'Washington', 'Washington', 'Washington', 'Washington', 'Orange', 'Orange', 'Orange', 'Orange', 'Orange', 'Windsor', 'Windsor', 'Windsor', 'Windsor', 'Windsor', 'Lamoille', 'Lamoille', 'Lamoille', 'Lamoille', 'Lamoille', 'Windham', 'Franklin', 'Franklin', 'Franklin', 'Franklin', 'Franklin', 'Caledonia', 'Caledonia', 'Caledonia', 'Washington', 'Windsor', 'Windsor', 'Windsor', 'Windsor', 'Windsor', 'Orleans', 'Orleans', 'Orange', 'Orange', 'Orange', 'Orange', 'Orange', 'Bennington', 'Bennington', 'Bennington', 'Orleans', 'Orleans', 'Orleans', 'Orleans', 'Orleans', 'Addison', 'Addison', 'Addison', 'Addison', 'Addison', 'Windsor', 'Windsor', 'Windsor', 'Windsor', 'Windsor', 'Windsor', 'Lamoille', 'Lamoille', 'Lamoille', 'Lamoille', 'Lamoille', 'Lamoille', 'Lamoille', 'Lamoille', 'Lamoille', 'Lamoille', 'Lamoille', 'Lamoille', 'Rutland', 'Rutland', 'Chittenden', 'Chittenden', 'Chittenden', 'Chittenden', 'Chittenden', 'Essex', 'Essex', 'Essex', 'Essex', 'Orleans', 'Orleans', 'Orleans', 'Windsor', 'Windsor', 'Bennington', 'Bennington', 'Bennington', 'Bennington', 'Bennington', 'Lamoille', 'Lamoille', 'Lamoille', 'Lamoille', 'Franklin', 'Windsor', 'Windsor', 'Windsor', 'Windsor', 'Windsor', 'Windsor', 'Washington', 'Washington', 'Washington', 'Washington', 'Windham', 'Windham', 'Windham', 'Windham', 'Caledonia', 'Caledonia', 'Caledonia', 'Caledonia', 'Caledonia', 'Caledonia', 'Caledonia', 'Caledonia', 'Caledonia', 'Caledonia']\n287.7383301258087\n"
    }
   ],
   "source": [
    "lat, long = None, None\n",
    "counties = []\n",
    "start = time.time()\n",
    "for i, j in new_data.iterrows():\n",
    "    lat, long = j.loc[['LATITUDE', 'LONGITUDE']]\n",
    "    payload = {'latitude': lat, 'longitude': long, 'format': 'json'}\n",
    "    r = requests.get('https://geo.fcc.gov/api/census/area', params=payload).json()\n",
    "    county = r['County']['name']\n",
    "    counties.append(county)\n",
    "print(counties)\n",
    "new_data.insert(4, \"COUNTY\", counties, True)\n",
    "new_data.head()\n",
    "print(time.time() - start)"
   ]
  },
  {
   "cell_type": "code",
   "execution_count": 22,
   "metadata": {},
   "outputs": [],
   "source": [
    "new_data.to_csv(\"../../data/raw/environment data - with counties.csv\", index=False)"
   ]
  }
 ],
 "metadata": {
  "file_extension": ".py",
  "kernelspec": {
   "display_name": "Python 3.7.0 64-bit ('Capstone': conda)",
   "language": "python",
   "name": "python37064bitcapstoneconda4c011bf3812e465f9a235200dba099ea"
  },
  "language_info": {
   "codemirror_mode": {
    "name": "ipython",
    "version": 3
   },
   "file_extension": ".py",
   "mimetype": "text/x-python",
   "name": "python",
   "nbconvert_exporter": "python",
   "pygments_lexer": "ipython3",
   "version": "3.7.0-final"
  },
  "mimetype": "text/x-python",
  "name": "python",
  "npconvert_exporter": "python",
  "pygments_lexer": "ipython3",
  "version": 3
 },
 "nbformat": 4,
 "nbformat_minor": 2
}