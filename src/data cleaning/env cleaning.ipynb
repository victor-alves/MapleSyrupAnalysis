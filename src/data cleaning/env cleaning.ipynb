{
 "cells": [
  {
   "cell_type": "code",
   "execution_count": 29,
   "metadata": {},
   "outputs": [],
   "source": [
    "import pandas as pd\n",
    "import numpy as np\n",
    "import altair as alt\n",
    "import time\n",
    "import requests"
   ]
  },
  {
   "cell_type": "code",
   "execution_count": 30,
   "metadata": {},
   "outputs": [],
   "source": [
    "data = pd.read_csv(\"../../data/raw/environment data.csv\")"
   ]
  },
  {
   "cell_type": "code",
   "execution_count": 31,
   "metadata": {},
   "outputs": [
    {
     "data": {
      "text/plain": "(1318, 94)"
     },
     "metadata": {},
     "output_type": "display_data"
    },
    {
     "data": {
      "text/html": "<div>\n<style scoped>\n    .dataframe tbody tr th:only-of-type {\n        vertical-align: middle;\n    }\n\n    .dataframe tbody tr th {\n        vertical-align: top;\n    }\n\n    .dataframe thead th {\n        text-align: right;\n    }\n</style>\n<table border=\"1\" class=\"dataframe\">\n  <thead>\n    <tr style=\"text-align: right;\">\n      <th></th>\n      <th>STATION</th>\n      <th>NAME</th>\n      <th>LATITUDE</th>\n      <th>LONGITUDE</th>\n      <th>ELEVATION</th>\n      <th>DATE</th>\n      <th>AWND</th>\n      <th>AWND_ATTRIBUTES</th>\n      <th>CDSD</th>\n      <th>CDSD_ATTRIBUTES</th>\n      <th>...</th>\n      <th>WSFG</th>\n      <th>WSFG_ATTRIBUTES</th>\n      <th>Unnamed: 86</th>\n      <th>Unnamed: 87</th>\n      <th>Unnamed: 88</th>\n      <th>Unnamed: 89</th>\n      <th>Unnamed: 90</th>\n      <th>Unnamed: 91</th>\n      <th>Unnamed: 92</th>\n      <th>Unnamed: 93</th>\n    </tr>\n  </thead>\n  <tbody>\n    <tr>\n      <td>0</td>\n      <td>USC00437612</td>\n      <td>SOUTH LINCOLN, VT US</td>\n      <td>44.0725</td>\n      <td>-72.9736</td>\n      <td>408.7</td>\n      <td>1990</td>\n      <td>NaN</td>\n      <td>NaN</td>\n      <td>NaN</td>\n      <td>NaN</td>\n      <td>...</td>\n      <td>NaN</td>\n      <td>NaN</td>\n      <td>NaN</td>\n      <td>NaN</td>\n      <td>NaN</td>\n      <td>NaN</td>\n      <td>NaN</td>\n      <td>NaN</td>\n      <td>NaN</td>\n      <td>NaN</td>\n    </tr>\n    <tr>\n      <td>1</td>\n      <td>USC00437612</td>\n      <td>SOUTH LINCOLN, VT US</td>\n      <td>44.0725</td>\n      <td>-72.9736</td>\n      <td>408.7</td>\n      <td>1991</td>\n      <td>NaN</td>\n      <td>NaN</td>\n      <td>NaN</td>\n      <td>NaN</td>\n      <td>...</td>\n      <td>NaN</td>\n      <td>NaN</td>\n      <td>NaN</td>\n      <td>NaN</td>\n      <td>NaN</td>\n      <td>NaN</td>\n      <td>NaN</td>\n      <td>NaN</td>\n      <td>NaN</td>\n      <td>NaN</td>\n    </tr>\n    <tr>\n      <td>2</td>\n      <td>USC00437612</td>\n      <td>SOUTH LINCOLN, VT US</td>\n      <td>44.0725</td>\n      <td>-72.9736</td>\n      <td>408.7</td>\n      <td>1992</td>\n      <td>NaN</td>\n      <td>NaN</td>\n      <td>66.0</td>\n      <td>NaN</td>\n      <td>...</td>\n      <td>NaN</td>\n      <td>NaN</td>\n      <td>NaN</td>\n      <td>NaN</td>\n      <td>NaN</td>\n      <td>NaN</td>\n      <td>NaN</td>\n      <td>NaN</td>\n      <td>NaN</td>\n      <td>NaN</td>\n    </tr>\n    <tr>\n      <td>3</td>\n      <td>USC00437612</td>\n      <td>SOUTH LINCOLN, VT US</td>\n      <td>44.0725</td>\n      <td>-72.9736</td>\n      <td>408.7</td>\n      <td>1993</td>\n      <td>NaN</td>\n      <td>NaN</td>\n      <td>142.0</td>\n      <td>NaN</td>\n      <td>...</td>\n      <td>NaN</td>\n      <td>NaN</td>\n      <td>NaN</td>\n      <td>NaN</td>\n      <td>NaN</td>\n      <td>NaN</td>\n      <td>NaN</td>\n      <td>NaN</td>\n      <td>NaN</td>\n      <td>NaN</td>\n    </tr>\n    <tr>\n      <td>4</td>\n      <td>USC00437612</td>\n      <td>SOUTH LINCOLN, VT US</td>\n      <td>44.0725</td>\n      <td>-72.9736</td>\n      <td>408.7</td>\n      <td>1994</td>\n      <td>NaN</td>\n      <td>NaN</td>\n      <td>144.0</td>\n      <td>NaN</td>\n      <td>...</td>\n      <td>NaN</td>\n      <td>NaN</td>\n      <td>NaN</td>\n      <td>NaN</td>\n      <td>NaN</td>\n      <td>NaN</td>\n      <td>NaN</td>\n      <td>NaN</td>\n      <td>NaN</td>\n      <td>NaN</td>\n    </tr>\n  </tbody>\n</table>\n<p>5 rows × 94 columns</p>\n</div>",
      "text/plain": "       STATION                  NAME  LATITUDE  LONGITUDE  ELEVATION  DATE  \\\n0  USC00437612  SOUTH LINCOLN, VT US   44.0725   -72.9736      408.7  1990   \n1  USC00437612  SOUTH LINCOLN, VT US   44.0725   -72.9736      408.7  1991   \n2  USC00437612  SOUTH LINCOLN, VT US   44.0725   -72.9736      408.7  1992   \n3  USC00437612  SOUTH LINCOLN, VT US   44.0725   -72.9736      408.7  1993   \n4  USC00437612  SOUTH LINCOLN, VT US   44.0725   -72.9736      408.7  1994   \n\n   AWND AWND_ATTRIBUTES   CDSD  CDSD_ATTRIBUTES  ...  WSFG WSFG_ATTRIBUTES  \\\n0   NaN             NaN    NaN              NaN  ...   NaN             NaN   \n1   NaN             NaN    NaN              NaN  ...   NaN             NaN   \n2   NaN             NaN   66.0              NaN  ...   NaN             NaN   \n3   NaN             NaN  142.0              NaN  ...   NaN             NaN   \n4   NaN             NaN  144.0              NaN  ...   NaN             NaN   \n\n   Unnamed: 86 Unnamed: 87  Unnamed: 88 Unnamed: 89  Unnamed: 90  Unnamed: 91  \\\n0          NaN         NaN          NaN         NaN          NaN          NaN   \n1          NaN         NaN          NaN         NaN          NaN          NaN   \n2          NaN         NaN          NaN         NaN          NaN          NaN   \n3          NaN         NaN          NaN         NaN          NaN          NaN   \n4          NaN         NaN          NaN         NaN          NaN          NaN   \n\n   Unnamed: 92 Unnamed: 93  \n0          NaN         NaN  \n1          NaN         NaN  \n2          NaN         NaN  \n3          NaN         NaN  \n4          NaN         NaN  \n\n[5 rows x 94 columns]"
     },
     "execution_count": 31,
     "metadata": {},
     "output_type": "execute_result"
    }
   ],
   "source": [
    "display(data.shape)\n",
    "data.head()"
   ]
  },
  {
   "cell_type": "markdown",
   "metadata": {},
   "source": [
    "- STATION (11 characters) is the station identification code. \n",
    "- STATION_NAME (max 50 characters) is the name of the station (usually city/airport name). This is an optional output field.\n",
    "- LATITUDE (8 characters) is the latitude (decimated degrees w/Northern Hemisphere values > 0). This is an optional output field.\n",
    "- LONGITUDE (9 characters) is the longitude (decimated degrees w/Western Hemisphere values < 0 and Eastern Hemisphere values > 0). This is an optional output field.\n",
    "- ELEVATION (13 characters) is the elevation above mean sea level in meters (to nearest thousandth of a meter). This is an optional output field.\n",
    "- DATE is the year of the record (4 digits). \n"
   ]
  },
  {
   "cell_type": "code",
   "execution_count": 75,
   "metadata": {},
   "outputs": [
    {
     "data": {
      "text/html": "<div>\n<style scoped>\n    .dataframe tbody tr th:only-of-type {\n        vertical-align: middle;\n    }\n\n    .dataframe tbody tr th {\n        vertical-align: top;\n    }\n\n    .dataframe thead th {\n        text-align: right;\n    }\n</style>\n<table border=\"1\" class=\"dataframe\">\n  <thead>\n    <tr style=\"text-align: right;\">\n      <th></th>\n      <th>STATION</th>\n      <th>NAME</th>\n      <th>LATITUDE</th>\n      <th>LONGITUDE</th>\n      <th>COUNTY</th>\n      <th>ELEVATION</th>\n      <th>DATE</th>\n      <th>AWND</th>\n      <th>AWND_ATTRIBUTES</th>\n      <th>CDSD</th>\n      <th>...</th>\n      <th>WSFG</th>\n      <th>WSFG_ATTRIBUTES</th>\n      <th>Unnamed: 86</th>\n      <th>Unnamed: 87</th>\n      <th>Unnamed: 88</th>\n      <th>Unnamed: 89</th>\n      <th>Unnamed: 90</th>\n      <th>Unnamed: 91</th>\n      <th>Unnamed: 92</th>\n      <th>Unnamed: 93</th>\n    </tr>\n  </thead>\n  <tbody>\n    <tr>\n      <td>0</td>\n      <td>USC00437612</td>\n      <td>SOUTH LINCOLN, VT US</td>\n      <td>44.0725</td>\n      <td>-72.9736</td>\n      <td>None</td>\n      <td>408.7</td>\n      <td>1990</td>\n      <td>NaN</td>\n      <td>NaN</td>\n      <td>NaN</td>\n      <td>...</td>\n      <td>NaN</td>\n      <td>NaN</td>\n      <td>NaN</td>\n      <td>NaN</td>\n      <td>NaN</td>\n      <td>NaN</td>\n      <td>NaN</td>\n      <td>NaN</td>\n      <td>NaN</td>\n      <td>NaN</td>\n    </tr>\n    <tr>\n      <td>1</td>\n      <td>USC00437612</td>\n      <td>SOUTH LINCOLN, VT US</td>\n      <td>44.0725</td>\n      <td>-72.9736</td>\n      <td>None</td>\n      <td>408.7</td>\n      <td>1991</td>\n      <td>NaN</td>\n      <td>NaN</td>\n      <td>NaN</td>\n      <td>...</td>\n      <td>NaN</td>\n      <td>NaN</td>\n      <td>NaN</td>\n      <td>NaN</td>\n      <td>NaN</td>\n      <td>NaN</td>\n      <td>NaN</td>\n      <td>NaN</td>\n      <td>NaN</td>\n      <td>NaN</td>\n    </tr>\n    <tr>\n      <td>2</td>\n      <td>USC00437612</td>\n      <td>SOUTH LINCOLN, VT US</td>\n      <td>44.0725</td>\n      <td>-72.9736</td>\n      <td>None</td>\n      <td>408.7</td>\n      <td>1992</td>\n      <td>NaN</td>\n      <td>NaN</td>\n      <td>66.0</td>\n      <td>...</td>\n      <td>NaN</td>\n      <td>NaN</td>\n      <td>NaN</td>\n      <td>NaN</td>\n      <td>NaN</td>\n      <td>NaN</td>\n      <td>NaN</td>\n      <td>NaN</td>\n      <td>NaN</td>\n      <td>NaN</td>\n    </tr>\n    <tr>\n      <td>3</td>\n      <td>USC00437612</td>\n      <td>SOUTH LINCOLN, VT US</td>\n      <td>44.0725</td>\n      <td>-72.9736</td>\n      <td>None</td>\n      <td>408.7</td>\n      <td>1993</td>\n      <td>NaN</td>\n      <td>NaN</td>\n      <td>142.0</td>\n      <td>...</td>\n      <td>NaN</td>\n      <td>NaN</td>\n      <td>NaN</td>\n      <td>NaN</td>\n      <td>NaN</td>\n      <td>NaN</td>\n      <td>NaN</td>\n      <td>NaN</td>\n      <td>NaN</td>\n      <td>NaN</td>\n    </tr>\n    <tr>\n      <td>4</td>\n      <td>USC00437612</td>\n      <td>SOUTH LINCOLN, VT US</td>\n      <td>44.0725</td>\n      <td>-72.9736</td>\n      <td>None</td>\n      <td>408.7</td>\n      <td>1994</td>\n      <td>NaN</td>\n      <td>NaN</td>\n      <td>144.0</td>\n      <td>...</td>\n      <td>NaN</td>\n      <td>NaN</td>\n      <td>NaN</td>\n      <td>NaN</td>\n      <td>NaN</td>\n      <td>NaN</td>\n      <td>NaN</td>\n      <td>NaN</td>\n      <td>NaN</td>\n      <td>NaN</td>\n    </tr>\n  </tbody>\n</table>\n<p>5 rows × 95 columns</p>\n</div>",
      "text/plain": "       STATION                  NAME  LATITUDE  LONGITUDE COUNTY  ELEVATION  \\\n0  USC00437612  SOUTH LINCOLN, VT US   44.0725   -72.9736   None      408.7   \n1  USC00437612  SOUTH LINCOLN, VT US   44.0725   -72.9736   None      408.7   \n2  USC00437612  SOUTH LINCOLN, VT US   44.0725   -72.9736   None      408.7   \n3  USC00437612  SOUTH LINCOLN, VT US   44.0725   -72.9736   None      408.7   \n4  USC00437612  SOUTH LINCOLN, VT US   44.0725   -72.9736   None      408.7   \n\n   DATE  AWND AWND_ATTRIBUTES   CDSD  ...  WSFG  WSFG_ATTRIBUTES Unnamed: 86  \\\n0  1990   NaN             NaN    NaN  ...   NaN              NaN         NaN   \n1  1991   NaN             NaN    NaN  ...   NaN              NaN         NaN   \n2  1992   NaN             NaN   66.0  ...   NaN              NaN         NaN   \n3  1993   NaN             NaN  142.0  ...   NaN              NaN         NaN   \n4  1994   NaN             NaN  144.0  ...   NaN              NaN         NaN   \n\n   Unnamed: 87 Unnamed: 88  Unnamed: 89 Unnamed: 90  Unnamed: 91  Unnamed: 92  \\\n0          NaN         NaN          NaN         NaN          NaN          NaN   \n1          NaN         NaN          NaN         NaN          NaN          NaN   \n2          NaN         NaN          NaN         NaN          NaN          NaN   \n3          NaN         NaN          NaN         NaN          NaN          NaN   \n4          NaN         NaN          NaN         NaN          NaN          NaN   \n\n   Unnamed: 93  \n0          NaN  \n1          NaN  \n2          NaN  \n3          NaN  \n4          NaN  \n\n[5 rows x 95 columns]"
     },
     "execution_count": 75,
     "metadata": {},
     "output_type": "execute_result"
    }
   ],
   "source": [
    "new_data = data.copy(deep=True)\n",
    "new_data.insert(4, \"COUNTY\", None, True)\n",
    "new_data.head()"
   ]
  },
  {
   "cell_type": "code",
   "execution_count": 79,
   "metadata": {},
   "outputs": [
    {
     "data": {
      "text/plain": "25.68068790435791"
     },
     "metadata": {},
     "output_type": "display_data"
    }
   ],
   "source": [
    "stations = new_data.STATION.unique()\n",
    "start = time.time()\n",
    "for station in stations:\n",
    "    latitude, longitude = new_data[new_data['STATION'] == station].values[0][2:4]\n",
    "    payload = { 'latitude': latitude, 'longitude': longitude, 'format': 'json' }\n",
    "    r = requests.get('https://geo.fcc.gov/api/census/area', params=payload).json()\n",
    "    county = r['County']['name']\n",
    "    new_data.loc[new_data['STATION'] == station, 'COUNTY'] = county\n",
    "display(time.time() - start)"
   ]
  },
  {
   "cell_type": "code",
   "execution_count": 80,
   "metadata": {},
   "outputs": [
    {
     "data": {
      "text/html": "<div>\n<style scoped>\n    .dataframe tbody tr th:only-of-type {\n        vertical-align: middle;\n    }\n\n    .dataframe tbody tr th {\n        vertical-align: top;\n    }\n\n    .dataframe thead th {\n        text-align: right;\n    }\n</style>\n<table border=\"1\" class=\"dataframe\">\n  <thead>\n    <tr style=\"text-align: right;\">\n      <th></th>\n      <th>STATION</th>\n      <th>NAME</th>\n      <th>LATITUDE</th>\n      <th>LONGITUDE</th>\n      <th>COUNTY</th>\n      <th>ELEVATION</th>\n      <th>DATE</th>\n      <th>AWND</th>\n      <th>AWND_ATTRIBUTES</th>\n      <th>CDSD</th>\n      <th>...</th>\n      <th>WSFG</th>\n      <th>WSFG_ATTRIBUTES</th>\n      <th>Unnamed: 86</th>\n      <th>Unnamed: 87</th>\n      <th>Unnamed: 88</th>\n      <th>Unnamed: 89</th>\n      <th>Unnamed: 90</th>\n      <th>Unnamed: 91</th>\n      <th>Unnamed: 92</th>\n      <th>Unnamed: 93</th>\n    </tr>\n  </thead>\n  <tbody>\n    <tr>\n      <td>0</td>\n      <td>USC00437612</td>\n      <td>SOUTH LINCOLN, VT US</td>\n      <td>44.0725</td>\n      <td>-72.9736</td>\n      <td>Addison</td>\n      <td>408.7</td>\n      <td>1990</td>\n      <td>NaN</td>\n      <td>NaN</td>\n      <td>NaN</td>\n      <td>...</td>\n      <td>NaN</td>\n      <td>NaN</td>\n      <td>NaN</td>\n      <td>NaN</td>\n      <td>NaN</td>\n      <td>NaN</td>\n      <td>NaN</td>\n      <td>NaN</td>\n      <td>NaN</td>\n      <td>NaN</td>\n    </tr>\n    <tr>\n      <td>1</td>\n      <td>USC00437612</td>\n      <td>SOUTH LINCOLN, VT US</td>\n      <td>44.0725</td>\n      <td>-72.9736</td>\n      <td>Addison</td>\n      <td>408.7</td>\n      <td>1991</td>\n      <td>NaN</td>\n      <td>NaN</td>\n      <td>NaN</td>\n      <td>...</td>\n      <td>NaN</td>\n      <td>NaN</td>\n      <td>NaN</td>\n      <td>NaN</td>\n      <td>NaN</td>\n      <td>NaN</td>\n      <td>NaN</td>\n      <td>NaN</td>\n      <td>NaN</td>\n      <td>NaN</td>\n    </tr>\n    <tr>\n      <td>2</td>\n      <td>USC00437612</td>\n      <td>SOUTH LINCOLN, VT US</td>\n      <td>44.0725</td>\n      <td>-72.9736</td>\n      <td>Addison</td>\n      <td>408.7</td>\n      <td>1992</td>\n      <td>NaN</td>\n      <td>NaN</td>\n      <td>66.0</td>\n      <td>...</td>\n      <td>NaN</td>\n      <td>NaN</td>\n      <td>NaN</td>\n      <td>NaN</td>\n      <td>NaN</td>\n      <td>NaN</td>\n      <td>NaN</td>\n      <td>NaN</td>\n      <td>NaN</td>\n      <td>NaN</td>\n    </tr>\n    <tr>\n      <td>3</td>\n      <td>USC00437612</td>\n      <td>SOUTH LINCOLN, VT US</td>\n      <td>44.0725</td>\n      <td>-72.9736</td>\n      <td>Addison</td>\n      <td>408.7</td>\n      <td>1993</td>\n      <td>NaN</td>\n      <td>NaN</td>\n      <td>142.0</td>\n      <td>...</td>\n      <td>NaN</td>\n      <td>NaN</td>\n      <td>NaN</td>\n      <td>NaN</td>\n      <td>NaN</td>\n      <td>NaN</td>\n      <td>NaN</td>\n      <td>NaN</td>\n      <td>NaN</td>\n      <td>NaN</td>\n    </tr>\n    <tr>\n      <td>4</td>\n      <td>USC00437612</td>\n      <td>SOUTH LINCOLN, VT US</td>\n      <td>44.0725</td>\n      <td>-72.9736</td>\n      <td>Addison</td>\n      <td>408.7</td>\n      <td>1994</td>\n      <td>NaN</td>\n      <td>NaN</td>\n      <td>144.0</td>\n      <td>...</td>\n      <td>NaN</td>\n      <td>NaN</td>\n      <td>NaN</td>\n      <td>NaN</td>\n      <td>NaN</td>\n      <td>NaN</td>\n      <td>NaN</td>\n      <td>NaN</td>\n      <td>NaN</td>\n      <td>NaN</td>\n    </tr>\n    <tr>\n      <td>...</td>\n      <td>...</td>\n      <td>...</td>\n      <td>...</td>\n      <td>...</td>\n      <td>...</td>\n      <td>...</td>\n      <td>...</td>\n      <td>...</td>\n      <td>...</td>\n      <td>...</td>\n      <td>...</td>\n      <td>...</td>\n      <td>...</td>\n      <td>...</td>\n      <td>...</td>\n      <td>...</td>\n      <td>...</td>\n      <td>...</td>\n      <td>...</td>\n      <td>...</td>\n      <td>...</td>\n    </tr>\n    <tr>\n      <td>1313</td>\n      <td>USC00438169</td>\n      <td>SUTTON, VT US</td>\n      <td>44.6122</td>\n      <td>-72.0481</td>\n      <td>Caledonia</td>\n      <td>457.2</td>\n      <td>2015</td>\n      <td>NaN</td>\n      <td>NaN</td>\n      <td>201.0</td>\n      <td>...</td>\n      <td>NaN</td>\n      <td>NaN</td>\n      <td>NaN</td>\n      <td>NaN</td>\n      <td>NaN</td>\n      <td>NaN</td>\n      <td>NaN</td>\n      <td>NaN</td>\n      <td>NaN</td>\n      <td>NaN</td>\n    </tr>\n    <tr>\n      <td>1314</td>\n      <td>USC00438169</td>\n      <td>SUTTON, VT US</td>\n      <td>44.6122</td>\n      <td>-72.0481</td>\n      <td>Caledonia</td>\n      <td>457.2</td>\n      <td>2016</td>\n      <td>NaN</td>\n      <td>NaN</td>\n      <td>247.0</td>\n      <td>...</td>\n      <td>NaN</td>\n      <td>NaN</td>\n      <td>NaN</td>\n      <td>NaN</td>\n      <td>NaN</td>\n      <td>NaN</td>\n      <td>NaN</td>\n      <td>NaN</td>\n      <td>NaN</td>\n      <td>NaN</td>\n    </tr>\n    <tr>\n      <td>1315</td>\n      <td>USC00438169</td>\n      <td>SUTTON, VT US</td>\n      <td>44.6122</td>\n      <td>-72.0481</td>\n      <td>Caledonia</td>\n      <td>457.2</td>\n      <td>2017</td>\n      <td>NaN</td>\n      <td>NaN</td>\n      <td>195.0</td>\n      <td>...</td>\n      <td>NaN</td>\n      <td>NaN</td>\n      <td>NaN</td>\n      <td>NaN</td>\n      <td>NaN</td>\n      <td>NaN</td>\n      <td>NaN</td>\n      <td>NaN</td>\n      <td>NaN</td>\n      <td>NaN</td>\n    </tr>\n    <tr>\n      <td>1316</td>\n      <td>USC00438169</td>\n      <td>SUTTON, VT US</td>\n      <td>44.6122</td>\n      <td>-72.0481</td>\n      <td>Caledonia</td>\n      <td>457.2</td>\n      <td>2018</td>\n      <td>NaN</td>\n      <td>NaN</td>\n      <td>NaN</td>\n      <td>...</td>\n      <td>NaN</td>\n      <td>NaN</td>\n      <td>NaN</td>\n      <td>NaN</td>\n      <td>NaN</td>\n      <td>NaN</td>\n      <td>NaN</td>\n      <td>NaN</td>\n      <td>NaN</td>\n      <td>NaN</td>\n    </tr>\n    <tr>\n      <td>1317</td>\n      <td>USC00438169</td>\n      <td>SUTTON, VT US</td>\n      <td>44.6122</td>\n      <td>-72.0481</td>\n      <td>Caledonia</td>\n      <td>457.2</td>\n      <td>2019</td>\n      <td>NaN</td>\n      <td>NaN</td>\n      <td>180.0</td>\n      <td>...</td>\n      <td>NaN</td>\n      <td>NaN</td>\n      <td>NaN</td>\n      <td>NaN</td>\n      <td>NaN</td>\n      <td>NaN</td>\n      <td>NaN</td>\n      <td>NaN</td>\n      <td>NaN</td>\n      <td>NaN</td>\n    </tr>\n  </tbody>\n</table>\n<p>1318 rows × 95 columns</p>\n</div>",
      "text/plain": "          STATION                  NAME  LATITUDE  LONGITUDE     COUNTY  \\\n0     USC00437612  SOUTH LINCOLN, VT US   44.0725   -72.9736    Addison   \n1     USC00437612  SOUTH LINCOLN, VT US   44.0725   -72.9736    Addison   \n2     USC00437612  SOUTH LINCOLN, VT US   44.0725   -72.9736    Addison   \n3     USC00437612  SOUTH LINCOLN, VT US   44.0725   -72.9736    Addison   \n4     USC00437612  SOUTH LINCOLN, VT US   44.0725   -72.9736    Addison   \n...           ...                   ...       ...        ...        ...   \n1313  USC00438169         SUTTON, VT US   44.6122   -72.0481  Caledonia   \n1314  USC00438169         SUTTON, VT US   44.6122   -72.0481  Caledonia   \n1315  USC00438169         SUTTON, VT US   44.6122   -72.0481  Caledonia   \n1316  USC00438169         SUTTON, VT US   44.6122   -72.0481  Caledonia   \n1317  USC00438169         SUTTON, VT US   44.6122   -72.0481  Caledonia   \n\n      ELEVATION  DATE  AWND AWND_ATTRIBUTES   CDSD  ...  WSFG  \\\n0         408.7  1990   NaN             NaN    NaN  ...   NaN   \n1         408.7  1991   NaN             NaN    NaN  ...   NaN   \n2         408.7  1992   NaN             NaN   66.0  ...   NaN   \n3         408.7  1993   NaN             NaN  142.0  ...   NaN   \n4         408.7  1994   NaN             NaN  144.0  ...   NaN   \n...         ...   ...   ...             ...    ...  ...   ...   \n1313      457.2  2015   NaN             NaN  201.0  ...   NaN   \n1314      457.2  2016   NaN             NaN  247.0  ...   NaN   \n1315      457.2  2017   NaN             NaN  195.0  ...   NaN   \n1316      457.2  2018   NaN             NaN    NaN  ...   NaN   \n1317      457.2  2019   NaN             NaN  180.0  ...   NaN   \n\n      WSFG_ATTRIBUTES Unnamed: 86  Unnamed: 87 Unnamed: 88  Unnamed: 89  \\\n0                 NaN         NaN          NaN         NaN          NaN   \n1                 NaN         NaN          NaN         NaN          NaN   \n2                 NaN         NaN          NaN         NaN          NaN   \n3                 NaN         NaN          NaN         NaN          NaN   \n4                 NaN         NaN          NaN         NaN          NaN   \n...               ...         ...          ...         ...          ...   \n1313              NaN         NaN          NaN         NaN          NaN   \n1314              NaN         NaN          NaN         NaN          NaN   \n1315              NaN         NaN          NaN         NaN          NaN   \n1316              NaN         NaN          NaN         NaN          NaN   \n1317              NaN         NaN          NaN         NaN          NaN   \n\n     Unnamed: 90  Unnamed: 91  Unnamed: 92  Unnamed: 93  \n0            NaN          NaN          NaN          NaN  \n1            NaN          NaN          NaN          NaN  \n2            NaN          NaN          NaN          NaN  \n3            NaN          NaN          NaN          NaN  \n4            NaN          NaN          NaN          NaN  \n...          ...          ...          ...          ...  \n1313         NaN          NaN          NaN          NaN  \n1314         NaN          NaN          NaN          NaN  \n1315         NaN          NaN          NaN          NaN  \n1316         NaN          NaN          NaN          NaN  \n1317         NaN          NaN          NaN          NaN  \n\n[1318 rows x 95 columns]"
     },
     "metadata": {},
     "output_type": "display_data"
    }
   ],
   "source": [
    "display(new_data)"
   ]
  },
  {
   "cell_type": "code",
   "execution_count": 11,
   "metadata": {},
   "outputs": [],
   "source": [
    "new_data.to_csv(\"../../data/raw/environment data - with counties.csv\", index=False)"
   ]
  },
  {
   "cell_type": "code",
   "execution_count": null,
   "metadata": {},
   "outputs": [],
   "source": []
  }
 ],
 "metadata": {
  "file_extension": ".py",
  "kernelspec": {
   "display_name": "system",
   "language": "python",
   "name": "system"
  },
  "language_info": {
   "codemirror_mode": {
    "name": "ipython",
    "version": 3
   },
   "file_extension": ".py",
   "mimetype": "text/x-python",
   "name": "python",
   "nbconvert_exporter": "python",
   "pygments_lexer": "ipython3",
   "version": "3.7.6-final"
  },
  "mimetype": "text/x-python",
  "name": "python",
  "npconvert_exporter": "python",
  "pygments_lexer": "ipython3",
  "version": 3
 },
 "nbformat": 4,
 "nbformat_minor": 2
}