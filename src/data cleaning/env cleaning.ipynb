{
 "cells": [
  {
   "cell_type": "code",
   "execution_count": 1,
   "metadata": {},
   "outputs": [],
   "source": [
    "import pandas as pd\n",
    "import numpy as np\n",
    "import altair as alt\n",
    "import time\n",
    "import requests"
   ]
  },
  {
   "cell_type": "code",
   "execution_count": 2,
   "metadata": {},
   "outputs": [],
   "source": [
    "data = pd.read_csv(\"../../data/raw/environment data.csv\")"
   ]
  },
  {
   "cell_type": "code",
   "execution_count": 3,
   "metadata": {},
   "outputs": [
    {
     "data": {
      "text/plain": "(1318, 94)"
     },
     "metadata": {},
     "output_type": "display_data"
    },
    {
     "data": {
      "text/html": "<div>\n<style scoped>\n    .dataframe tbody tr th:only-of-type {\n        vertical-align: middle;\n    }\n\n    .dataframe tbody tr th {\n        vertical-align: top;\n    }\n\n    .dataframe thead th {\n        text-align: right;\n    }\n</style>\n<table border=\"1\" class=\"dataframe\">\n  <thead>\n    <tr style=\"text-align: right;\">\n      <th></th>\n      <th>STATION</th>\n      <th>NAME</th>\n      <th>LATITUDE</th>\n      <th>LONGITUDE</th>\n      <th>ELEVATION</th>\n      <th>DATE</th>\n      <th>AWND</th>\n      <th>AWND_ATTRIBUTES</th>\n      <th>CDSD</th>\n      <th>CDSD_ATTRIBUTES</th>\n      <th>...</th>\n      <th>WSFG</th>\n      <th>WSFG_ATTRIBUTES</th>\n      <th></th>\n      <th></th>\n      <th>.1</th>\n      <th>.1</th>\n      <th>.2</th>\n      <th>.2</th>\n      <th>.3</th>\n      <th>Unnamed: 93</th>\n    </tr>\n  </thead>\n  <tbody>\n    <tr>\n      <th>0</th>\n      <td>USC00437612</td>\n      <td>SOUTH LINCOLN, VT US</td>\n      <td>44.0725</td>\n      <td>-72.9736</td>\n      <td>408.7</td>\n      <td>1990</td>\n      <td></td>\n      <td></td>\n      <td></td>\n      <td></td>\n      <td>...</td>\n      <td></td>\n      <td></td>\n      <td></td>\n      <td></td>\n      <td></td>\n      <td></td>\n      <td></td>\n      <td></td>\n      <td></td>\n      <td>NaN</td>\n    </tr>\n    <tr>\n      <th>1</th>\n      <td>USC00437612</td>\n      <td>SOUTH LINCOLN, VT US</td>\n      <td>44.0725</td>\n      <td>-72.9736</td>\n      <td>408.7</td>\n      <td>1991</td>\n      <td></td>\n      <td></td>\n      <td></td>\n      <td></td>\n      <td>...</td>\n      <td></td>\n      <td></td>\n      <td></td>\n      <td></td>\n      <td></td>\n      <td></td>\n      <td></td>\n      <td></td>\n      <td></td>\n      <td>NaN</td>\n    </tr>\n    <tr>\n      <th>2</th>\n      <td>USC00437612</td>\n      <td>SOUTH LINCOLN, VT US</td>\n      <td>44.0725</td>\n      <td>-72.9736</td>\n      <td>408.7</td>\n      <td>1992</td>\n      <td></td>\n      <td></td>\n      <td>66</td>\n      <td></td>\n      <td>...</td>\n      <td></td>\n      <td></td>\n      <td></td>\n      <td></td>\n      <td></td>\n      <td></td>\n      <td></td>\n      <td></td>\n      <td></td>\n      <td>NaN</td>\n    </tr>\n    <tr>\n      <th>3</th>\n      <td>USC00437612</td>\n      <td>SOUTH LINCOLN, VT US</td>\n      <td>44.0725</td>\n      <td>-72.9736</td>\n      <td>408.7</td>\n      <td>1993</td>\n      <td></td>\n      <td></td>\n      <td>142</td>\n      <td></td>\n      <td>...</td>\n      <td></td>\n      <td></td>\n      <td></td>\n      <td></td>\n      <td></td>\n      <td></td>\n      <td></td>\n      <td></td>\n      <td></td>\n      <td>NaN</td>\n    </tr>\n    <tr>\n      <th>4</th>\n      <td>USC00437612</td>\n      <td>SOUTH LINCOLN, VT US</td>\n      <td>44.0725</td>\n      <td>-72.9736</td>\n      <td>408.7</td>\n      <td>1994</td>\n      <td></td>\n      <td></td>\n      <td>144</td>\n      <td></td>\n      <td>...</td>\n      <td></td>\n      <td></td>\n      <td></td>\n      <td></td>\n      <td></td>\n      <td></td>\n      <td></td>\n      <td></td>\n      <td></td>\n      <td>NaN</td>\n    </tr>\n  </tbody>\n</table>\n<p>5 rows × 94 columns</p>\n</div>",
      "text/plain": "   STATION      NAME                                            LATITUDE      \\\n0  USC00437612    SOUTH LINCOLN, VT US                               44.0725   \n1  USC00437612    SOUTH LINCOLN, VT US                               44.0725   \n2  USC00437612    SOUTH LINCOLN, VT US                               44.0725   \n3  USC00437612    SOUTH LINCOLN, VT US                               44.0725   \n4  USC00437612    SOUTH LINCOLN, VT US                               44.0725   \n\n   LONGITUDE      ELEVATION   DATE   AWND   AWND_ATTRIBUTES   CDSD   \\\n0       -72.9736       408.7   1990                                   \n1       -72.9736       408.7   1991                                   \n2       -72.9736       408.7   1992                           66      \n3       -72.9736       408.7   1993                           142     \n4       -72.9736       408.7   1994                           144     \n\n   CDSD_ATTRIBUTES   ...  WSFG   WSFG_ATTRIBUTES                  .1   .1  \\\n0                    ...                                                    \n1                    ...                                                    \n2                    ...                                                    \n3                    ...                                                    \n4                    ...                                                    \n\n       .2   .2      .3 Unnamed: 93  \n0                              NaN  \n1                              NaN  \n2                              NaN  \n3                              NaN  \n4                              NaN  \n\n[5 rows x 94 columns]"
     },
     "execution_count": 3,
     "metadata": {},
     "output_type": "execute_result"
    }
   ],
   "source": [
    "display(data.shape)\n",
    "data.head()"
   ]
  },
  {
   "cell_type": "code",
   "execution_count": 4,
   "metadata": {},
   "outputs": [],
   "source": [
    "data.rename(columns=lambda x: x.strip(), inplace=True)"
   ]
  },
  {
   "cell_type": "markdown",
   "metadata": {},
   "source": [
    "- STATION (11 characters) is the station identification code. \n",
    "- STATION_NAME (max 50 characters) is the name of the station (usually city/airport name). This is an optional output field.\n",
    "- LATITUDE (8 characters) is the latitude (decimated degrees w/Northern Hemisphere values > 0). This is an optional output field.\n",
    "- LONGITUDE (9 characters) is the longitude (decimated degrees w/Western Hemisphere values < 0 and Eastern Hemisphere values > 0). This is an optional output field.\n",
    "- ELEVATION (13 characters) is the elevation above mean sea level in meters (to nearest thousandth of a meter). This is an optional output field.\n",
    "- DATE is the year of the record (4 digits). \n"
   ]
  },
  {
   "cell_type": "code",
   "execution_count": 5,
   "metadata": {},
   "outputs": [
    {
     "data": {
      "text/html": "<div>\n<style scoped>\n    .dataframe tbody tr th:only-of-type {\n        vertical-align: middle;\n    }\n\n    .dataframe tbody tr th {\n        vertical-align: top;\n    }\n\n    .dataframe thead th {\n        text-align: right;\n    }\n</style>\n<table border=\"1\" class=\"dataframe\">\n  <thead>\n    <tr style=\"text-align: right;\">\n      <th></th>\n      <th>STATION</th>\n      <th>NAME</th>\n      <th>LATITUDE</th>\n      <th>LONGITUDE</th>\n      <th>COUNTY</th>\n      <th>ELEVATION</th>\n      <th>DATE</th>\n      <th>AWND</th>\n      <th>AWND_ATTRIBUTES</th>\n      <th>CDSD</th>\n      <th>...</th>\n      <th>WSFG</th>\n      <th>WSFG_ATTRIBUTES</th>\n      <th></th>\n      <th></th>\n      <th>.1</th>\n      <th>.1</th>\n      <th>.2</th>\n      <th>.2</th>\n      <th>.3</th>\n      <th>Unnamed: 93</th>\n    </tr>\n  </thead>\n  <tbody>\n    <tr>\n      <th>0</th>\n      <td>USC00437612</td>\n      <td>SOUTH LINCOLN, VT US</td>\n      <td>44.0725</td>\n      <td>-72.9736</td>\n      <td>None</td>\n      <td>408.7</td>\n      <td>1990</td>\n      <td></td>\n      <td></td>\n      <td></td>\n      <td>...</td>\n      <td></td>\n      <td></td>\n      <td></td>\n      <td></td>\n      <td></td>\n      <td></td>\n      <td></td>\n      <td></td>\n      <td></td>\n      <td>NaN</td>\n    </tr>\n    <tr>\n      <th>1</th>\n      <td>USC00437612</td>\n      <td>SOUTH LINCOLN, VT US</td>\n      <td>44.0725</td>\n      <td>-72.9736</td>\n      <td>None</td>\n      <td>408.7</td>\n      <td>1991</td>\n      <td></td>\n      <td></td>\n      <td></td>\n      <td>...</td>\n      <td></td>\n      <td></td>\n      <td></td>\n      <td></td>\n      <td></td>\n      <td></td>\n      <td></td>\n      <td></td>\n      <td></td>\n      <td>NaN</td>\n    </tr>\n    <tr>\n      <th>2</th>\n      <td>USC00437612</td>\n      <td>SOUTH LINCOLN, VT US</td>\n      <td>44.0725</td>\n      <td>-72.9736</td>\n      <td>None</td>\n      <td>408.7</td>\n      <td>1992</td>\n      <td></td>\n      <td></td>\n      <td>66</td>\n      <td>...</td>\n      <td></td>\n      <td></td>\n      <td></td>\n      <td></td>\n      <td></td>\n      <td></td>\n      <td></td>\n      <td></td>\n      <td></td>\n      <td>NaN</td>\n    </tr>\n    <tr>\n      <th>3</th>\n      <td>USC00437612</td>\n      <td>SOUTH LINCOLN, VT US</td>\n      <td>44.0725</td>\n      <td>-72.9736</td>\n      <td>None</td>\n      <td>408.7</td>\n      <td>1993</td>\n      <td></td>\n      <td></td>\n      <td>142</td>\n      <td>...</td>\n      <td></td>\n      <td></td>\n      <td></td>\n      <td></td>\n      <td></td>\n      <td></td>\n      <td></td>\n      <td></td>\n      <td></td>\n      <td>NaN</td>\n    </tr>\n    <tr>\n      <th>4</th>\n      <td>USC00437612</td>\n      <td>SOUTH LINCOLN, VT US</td>\n      <td>44.0725</td>\n      <td>-72.9736</td>\n      <td>None</td>\n      <td>408.7</td>\n      <td>1994</td>\n      <td></td>\n      <td></td>\n      <td>144</td>\n      <td>...</td>\n      <td></td>\n      <td></td>\n      <td></td>\n      <td></td>\n      <td></td>\n      <td></td>\n      <td></td>\n      <td></td>\n      <td></td>\n      <td>NaN</td>\n    </tr>\n  </tbody>\n</table>\n<p>5 rows × 95 columns</p>\n</div>",
      "text/plain": "        STATION                                          NAME  LATITUDE  \\\n0  USC00437612   SOUTH LINCOLN, VT US                           44.0725   \n1  USC00437612   SOUTH LINCOLN, VT US                           44.0725   \n2  USC00437612   SOUTH LINCOLN, VT US                           44.0725   \n3  USC00437612   SOUTH LINCOLN, VT US                           44.0725   \n4  USC00437612   SOUTH LINCOLN, VT US                           44.0725   \n\n   LONGITUDE COUNTY  ELEVATION  DATE   AWND   AWND_ATTRIBUTES   CDSD  ...  \\\n0   -72.9736   None      408.7  1990                                  ...   \n1   -72.9736   None      408.7  1991                                  ...   \n2   -72.9736   None      408.7  1992                           66     ...   \n3   -72.9736   None      408.7  1993                           142    ...   \n4   -72.9736   None      408.7  1994                           144    ...   \n\n    WSFG   WSFG_ATTRIBUTES                .1  .1     .2  .2     .3 Unnamed: 93  \n0                                                                          NaN  \n1                                                                          NaN  \n2                                                                          NaN  \n3                                                                          NaN  \n4                                                                          NaN  \n\n[5 rows x 95 columns]"
     },
     "execution_count": 5,
     "metadata": {},
     "output_type": "execute_result"
    }
   ],
   "source": [
    "new_data = data.copy(deep=True)\n",
    "new_data.insert(4, \"COUNTY\", None, True)\n",
    "new_data.head()"
   ]
  },
  {
   "cell_type": "code",
   "execution_count": 6,
   "metadata": {},
   "outputs": [
    {
     "data": {
      "text/plain": "16.88070797920227"
     },
     "metadata": {},
     "output_type": "display_data"
    }
   ],
   "source": [
    "stations = new_data.STATION.unique()\n",
    "start = time.time()\n",
    "for station in stations:\n",
    "    latitude, longitude = new_data[new_data['STATION'] == station].values[0][2:4]\n",
    "    payload = { 'latitude': latitude, 'longitude': longitude, 'format': 'json' }\n",
    "    r = requests.get('https://geo.fcc.gov/api/census/area', params=payload).json()\n",
    "    county = r['County']['name']\n",
    "    new_data.loc[new_data['STATION'] == station, 'COUNTY'] = county\n",
    "display(time.time() - start)"
   ]
  },
  {
   "cell_type": "code",
   "execution_count": 7,
   "metadata": {},
   "outputs": [
    {
     "data": {
      "text/html": "<div>\n<style scoped>\n    .dataframe tbody tr th:only-of-type {\n        vertical-align: middle;\n    }\n\n    .dataframe tbody tr th {\n        vertical-align: top;\n    }\n\n    .dataframe thead th {\n        text-align: right;\n    }\n</style>\n<table border=\"1\" class=\"dataframe\">\n  <thead>\n    <tr style=\"text-align: right;\">\n      <th></th>\n      <th>STATION</th>\n      <th>NAME</th>\n      <th>LATITUDE</th>\n      <th>LONGITUDE</th>\n      <th>COUNTY</th>\n      <th>ELEVATION</th>\n      <th>DATE</th>\n      <th>AWND</th>\n      <th>AWND_ATTRIBUTES</th>\n      <th>CDSD</th>\n      <th>...</th>\n      <th>WSFG</th>\n      <th>WSFG_ATTRIBUTES</th>\n      <th></th>\n      <th></th>\n      <th>.1</th>\n      <th>.1</th>\n      <th>.2</th>\n      <th>.2</th>\n      <th>.3</th>\n      <th>Unnamed: 93</th>\n    </tr>\n  </thead>\n  <tbody>\n    <tr>\n      <th>0</th>\n      <td>USC00437612</td>\n      <td>SOUTH LINCOLN, VT US</td>\n      <td>44.0725</td>\n      <td>-72.9736</td>\n      <td>Addison</td>\n      <td>408.7</td>\n      <td>1990</td>\n      <td></td>\n      <td></td>\n      <td></td>\n      <td>...</td>\n      <td></td>\n      <td></td>\n      <td></td>\n      <td></td>\n      <td></td>\n      <td></td>\n      <td></td>\n      <td></td>\n      <td></td>\n      <td>NaN</td>\n    </tr>\n    <tr>\n      <th>1</th>\n      <td>USC00437612</td>\n      <td>SOUTH LINCOLN, VT US</td>\n      <td>44.0725</td>\n      <td>-72.9736</td>\n      <td>Addison</td>\n      <td>408.7</td>\n      <td>1991</td>\n      <td></td>\n      <td></td>\n      <td></td>\n      <td>...</td>\n      <td></td>\n      <td></td>\n      <td></td>\n      <td></td>\n      <td></td>\n      <td></td>\n      <td></td>\n      <td></td>\n      <td></td>\n      <td>NaN</td>\n    </tr>\n    <tr>\n      <th>2</th>\n      <td>USC00437612</td>\n      <td>SOUTH LINCOLN, VT US</td>\n      <td>44.0725</td>\n      <td>-72.9736</td>\n      <td>Addison</td>\n      <td>408.7</td>\n      <td>1992</td>\n      <td></td>\n      <td></td>\n      <td>66</td>\n      <td>...</td>\n      <td></td>\n      <td></td>\n      <td></td>\n      <td></td>\n      <td></td>\n      <td></td>\n      <td></td>\n      <td></td>\n      <td></td>\n      <td>NaN</td>\n    </tr>\n    <tr>\n      <th>3</th>\n      <td>USC00437612</td>\n      <td>SOUTH LINCOLN, VT US</td>\n      <td>44.0725</td>\n      <td>-72.9736</td>\n      <td>Addison</td>\n      <td>408.7</td>\n      <td>1993</td>\n      <td></td>\n      <td></td>\n      <td>142</td>\n      <td>...</td>\n      <td></td>\n      <td></td>\n      <td></td>\n      <td></td>\n      <td></td>\n      <td></td>\n      <td></td>\n      <td></td>\n      <td></td>\n      <td>NaN</td>\n    </tr>\n    <tr>\n      <th>4</th>\n      <td>USC00437612</td>\n      <td>SOUTH LINCOLN, VT US</td>\n      <td>44.0725</td>\n      <td>-72.9736</td>\n      <td>Addison</td>\n      <td>408.7</td>\n      <td>1994</td>\n      <td></td>\n      <td></td>\n      <td>144</td>\n      <td>...</td>\n      <td></td>\n      <td></td>\n      <td></td>\n      <td></td>\n      <td></td>\n      <td></td>\n      <td></td>\n      <td></td>\n      <td></td>\n      <td>NaN</td>\n    </tr>\n    <tr>\n      <th>...</th>\n      <td>...</td>\n      <td>...</td>\n      <td>...</td>\n      <td>...</td>\n      <td>...</td>\n      <td>...</td>\n      <td>...</td>\n      <td>...</td>\n      <td>...</td>\n      <td>...</td>\n      <td>...</td>\n      <td>...</td>\n      <td>...</td>\n      <td>...</td>\n      <td>...</td>\n      <td>...</td>\n      <td>...</td>\n      <td>...</td>\n      <td>...</td>\n      <td>...</td>\n      <td>...</td>\n    </tr>\n    <tr>\n      <th>1313</th>\n      <td>USC00438169</td>\n      <td>SUTTON, VT US</td>\n      <td>44.6122</td>\n      <td>-72.0481</td>\n      <td>Caledonia</td>\n      <td>457.2</td>\n      <td>2015</td>\n      <td></td>\n      <td></td>\n      <td>201</td>\n      <td>...</td>\n      <td></td>\n      <td></td>\n      <td></td>\n      <td></td>\n      <td></td>\n      <td></td>\n      <td></td>\n      <td></td>\n      <td></td>\n      <td>NaN</td>\n    </tr>\n    <tr>\n      <th>1314</th>\n      <td>USC00438169</td>\n      <td>SUTTON, VT US</td>\n      <td>44.6122</td>\n      <td>-72.0481</td>\n      <td>Caledonia</td>\n      <td>457.2</td>\n      <td>2016</td>\n      <td></td>\n      <td></td>\n      <td>247</td>\n      <td>...</td>\n      <td></td>\n      <td></td>\n      <td></td>\n      <td></td>\n      <td></td>\n      <td></td>\n      <td></td>\n      <td></td>\n      <td></td>\n      <td>NaN</td>\n    </tr>\n    <tr>\n      <th>1315</th>\n      <td>USC00438169</td>\n      <td>SUTTON, VT US</td>\n      <td>44.6122</td>\n      <td>-72.0481</td>\n      <td>Caledonia</td>\n      <td>457.2</td>\n      <td>2017</td>\n      <td></td>\n      <td></td>\n      <td>195</td>\n      <td>...</td>\n      <td></td>\n      <td></td>\n      <td></td>\n      <td></td>\n      <td></td>\n      <td></td>\n      <td></td>\n      <td></td>\n      <td></td>\n      <td>NaN</td>\n    </tr>\n    <tr>\n      <th>1316</th>\n      <td>USC00438169</td>\n      <td>SUTTON, VT US</td>\n      <td>44.6122</td>\n      <td>-72.0481</td>\n      <td>Caledonia</td>\n      <td>457.2</td>\n      <td>2018</td>\n      <td></td>\n      <td></td>\n      <td></td>\n      <td>...</td>\n      <td></td>\n      <td></td>\n      <td></td>\n      <td></td>\n      <td></td>\n      <td></td>\n      <td></td>\n      <td></td>\n      <td></td>\n      <td>NaN</td>\n    </tr>\n    <tr>\n      <th>1317</th>\n      <td>USC00438169</td>\n      <td>SUTTON, VT US</td>\n      <td>44.6122</td>\n      <td>-72.0481</td>\n      <td>Caledonia</td>\n      <td>457.2</td>\n      <td>2019</td>\n      <td></td>\n      <td></td>\n      <td>180</td>\n      <td>...</td>\n      <td></td>\n      <td></td>\n      <td></td>\n      <td></td>\n      <td></td>\n      <td></td>\n      <td></td>\n      <td></td>\n      <td></td>\n      <td>NaN</td>\n    </tr>\n  </tbody>\n</table>\n<p>1318 rows × 95 columns</p>\n</div>",
      "text/plain": "           STATION                                          NAME  LATITUDE  \\\n0     USC00437612   SOUTH LINCOLN, VT US                           44.0725   \n1     USC00437612   SOUTH LINCOLN, VT US                           44.0725   \n2     USC00437612   SOUTH LINCOLN, VT US                           44.0725   \n3     USC00437612   SOUTH LINCOLN, VT US                           44.0725   \n4     USC00437612   SOUTH LINCOLN, VT US                           44.0725   \n...            ...                                           ...       ...   \n1313  USC00438169   SUTTON, VT US                                  44.6122   \n1314  USC00438169   SUTTON, VT US                                  44.6122   \n1315  USC00438169   SUTTON, VT US                                  44.6122   \n1316  USC00438169   SUTTON, VT US                                  44.6122   \n1317  USC00438169   SUTTON, VT US                                  44.6122   \n\n      LONGITUDE     COUNTY  ELEVATION  DATE   AWND   AWND_ATTRIBUTES   CDSD  \\\n0      -72.9736    Addison      408.7  1990                                   \n1      -72.9736    Addison      408.7  1991                                   \n2      -72.9736    Addison      408.7  1992                           66      \n3      -72.9736    Addison      408.7  1993                           142     \n4      -72.9736    Addison      408.7  1994                           144     \n...         ...        ...        ...   ...    ...               ...    ...   \n1313   -72.0481  Caledonia      457.2  2015                           201     \n1314   -72.0481  Caledonia      457.2  2016                           247     \n1315   -72.0481  Caledonia      457.2  2017                           195     \n1316   -72.0481  Caledonia      457.2  2018                                   \n1317   -72.0481  Caledonia      457.2  2019                           180     \n\n      ...   WSFG   WSFG_ATTRIBUTES                .1  .1     .2  .2     .3  \\\n0     ...                                                                    \n1     ...                                                                    \n2     ...                                                                    \n3     ...                                                                    \n4     ...                                                                    \n...   ...    ...               ...    ...  ..    ...  ..    ...  ..    ...   \n1313  ...                                                                    \n1314  ...                                                                    \n1315  ...                                                                    \n1316  ...                                                                    \n1317  ...                                                                    \n\n     Unnamed: 93  \n0            NaN  \n1            NaN  \n2            NaN  \n3            NaN  \n4            NaN  \n...          ...  \n1313         NaN  \n1314         NaN  \n1315         NaN  \n1316         NaN  \n1317         NaN  \n\n[1318 rows x 95 columns]"
     },
     "metadata": {},
     "output_type": "display_data"
    }
   ],
   "source": [
    "display(new_data)"
   ]
  },
  {
   "cell_type": "code",
   "execution_count": 8,
   "metadata": {},
   "outputs": [],
   "source": [
    "new_data.to_csv(\"../../data/raw/environment data - with counties.csv\", index=False)"
   ]
  }
 ],
 "metadata": {
  "file_extension": ".py",
  "kernelspec": {
   "display_name": "Python 3.7.0 64-bit ('Capstone': conda)",
   "language": "python",
   "name": "python37064bitcapstoneconda4c011bf3812e465f9a235200dba099ea"
  },
  "language_info": {
   "codemirror_mode": {
    "name": "ipython",
    "version": 3
   },
   "file_extension": ".py",
   "mimetype": "text/x-python",
   "name": "python",
   "nbconvert_exporter": "python",
   "pygments_lexer": "ipython3",
   "version": "3.7.0-final"
  },
  "mimetype": "text/x-python",
  "name": "python",
  "npconvert_exporter": "python",
  "pygments_lexer": "ipython3",
  "version": 3
 },
 "nbformat": 4,
 "nbformat_minor": 2
}