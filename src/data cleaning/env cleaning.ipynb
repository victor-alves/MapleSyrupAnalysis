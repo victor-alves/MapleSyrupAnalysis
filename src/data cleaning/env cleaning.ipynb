{
 "nbformat": 4,
 "nbformat_minor": 2,
 "metadata": {
  "language_info": {
   "name": "python",
   "codemirror_mode": {
    "name": "ipython",
    "version": 3
   },
   "version": "3.6.5-final"
  },
  "orig_nbformat": 2,
  "file_extension": ".py",
  "mimetype": "text/x-python",
  "name": "python",
  "npconvert_exporter": "python",
  "pygments_lexer": "ipython3",
  "version": 3,
  "kernelspec": {
   "name": "python36564bitvirtualenve95f363536bf4bc0843e6c63fedee18f",
   "display_name": "Python 3.6.5 64-bit (virtualenv)"
  }
 },
 "cells": [
  {
   "cell_type": "code",
   "execution_count": 1,
   "metadata": {},
   "outputs": [],
   "source": [
    "import pandas as pd\n",
    "import numpy as np\n",
    "import altair as alt"
   ]
  },
  {
   "cell_type": "code",
   "execution_count": 2,
   "metadata": {},
   "outputs": [],
   "source": [
    "data = pd.read_csv(\"../../data/raw/environment data.csv\")"
   ]
  },
  {
   "cell_type": "code",
   "execution_count": 5,
   "metadata": {},
   "outputs": [
    {
     "data": {
      "text/plain": "(1318, 94)"
     },
     "metadata": {},
     "output_type": "display_data"
    },
    {
     "data": {
      "text/html": "<div>\n<style scoped>\n    .dataframe tbody tr th:only-of-type {\n        vertical-align: middle;\n    }\n\n    .dataframe tbody tr th {\n        vertical-align: top;\n    }\n\n    .dataframe thead th {\n        text-align: right;\n    }\n</style>\n<table border=\"1\" class=\"dataframe\">\n  <thead>\n    <tr style=\"text-align: right;\">\n      <th></th>\n      <th>STATION</th>\n      <th>NAME</th>\n      <th>LATITUDE</th>\n      <th>LONGITUDE</th>\n      <th>ELEVATION</th>\n      <th>DATE</th>\n      <th>AWND</th>\n      <th>AWND_ATTRIBUTES</th>\n      <th>CDSD</th>\n      <th>CDSD_ATTRIBUTES</th>\n      <th>...</th>\n      <th>WSFG</th>\n      <th>WSFG_ATTRIBUTES</th>\n      <th>Unnamed: 86</th>\n      <th>Unnamed: 87</th>\n      <th>Unnamed: 88</th>\n      <th>Unnamed: 89</th>\n      <th>Unnamed: 90</th>\n      <th>Unnamed: 91</th>\n      <th>Unnamed: 92</th>\n      <th>Unnamed: 93</th>\n    </tr>\n  </thead>\n  <tbody>\n    <tr>\n      <th>0</th>\n      <td>USC00437612</td>\n      <td>SOUTH LINCOLN, VT US</td>\n      <td>44.0725</td>\n      <td>-72.9736</td>\n      <td>408.7</td>\n      <td>1990</td>\n      <td>NaN</td>\n      <td>NaN</td>\n      <td>NaN</td>\n      <td>NaN</td>\n      <td>...</td>\n      <td>NaN</td>\n      <td>NaN</td>\n      <td>NaN</td>\n      <td>NaN</td>\n      <td>NaN</td>\n      <td>NaN</td>\n      <td>NaN</td>\n      <td>NaN</td>\n      <td>NaN</td>\n      <td>NaN</td>\n    </tr>\n    <tr>\n      <th>1</th>\n      <td>USC00437612</td>\n      <td>SOUTH LINCOLN, VT US</td>\n      <td>44.0725</td>\n      <td>-72.9736</td>\n      <td>408.7</td>\n      <td>1991</td>\n      <td>NaN</td>\n      <td>NaN</td>\n      <td>NaN</td>\n      <td>NaN</td>\n      <td>...</td>\n      <td>NaN</td>\n      <td>NaN</td>\n      <td>NaN</td>\n      <td>NaN</td>\n      <td>NaN</td>\n      <td>NaN</td>\n      <td>NaN</td>\n      <td>NaN</td>\n      <td>NaN</td>\n      <td>NaN</td>\n    </tr>\n    <tr>\n      <th>2</th>\n      <td>USC00437612</td>\n      <td>SOUTH LINCOLN, VT US</td>\n      <td>44.0725</td>\n      <td>-72.9736</td>\n      <td>408.7</td>\n      <td>1992</td>\n      <td>NaN</td>\n      <td>NaN</td>\n      <td>66.0</td>\n      <td>NaN</td>\n      <td>...</td>\n      <td>NaN</td>\n      <td>NaN</td>\n      <td>NaN</td>\n      <td>NaN</td>\n      <td>NaN</td>\n      <td>NaN</td>\n      <td>NaN</td>\n      <td>NaN</td>\n      <td>NaN</td>\n      <td>NaN</td>\n    </tr>\n    <tr>\n      <th>3</th>\n      <td>USC00437612</td>\n      <td>SOUTH LINCOLN, VT US</td>\n      <td>44.0725</td>\n      <td>-72.9736</td>\n      <td>408.7</td>\n      <td>1993</td>\n      <td>NaN</td>\n      <td>NaN</td>\n      <td>142.0</td>\n      <td>NaN</td>\n      <td>...</td>\n      <td>NaN</td>\n      <td>NaN</td>\n      <td>NaN</td>\n      <td>NaN</td>\n      <td>NaN</td>\n      <td>NaN</td>\n      <td>NaN</td>\n      <td>NaN</td>\n      <td>NaN</td>\n      <td>NaN</td>\n    </tr>\n    <tr>\n      <th>4</th>\n      <td>USC00437612</td>\n      <td>SOUTH LINCOLN, VT US</td>\n      <td>44.0725</td>\n      <td>-72.9736</td>\n      <td>408.7</td>\n      <td>1994</td>\n      <td>NaN</td>\n      <td>NaN</td>\n      <td>144.0</td>\n      <td>NaN</td>\n      <td>...</td>\n      <td>NaN</td>\n      <td>NaN</td>\n      <td>NaN</td>\n      <td>NaN</td>\n      <td>NaN</td>\n      <td>NaN</td>\n      <td>NaN</td>\n      <td>NaN</td>\n      <td>NaN</td>\n      <td>NaN</td>\n    </tr>\n  </tbody>\n</table>\n<p>5 rows × 94 columns</p>\n</div>",
      "text/plain": "       STATION                  NAME  LATITUDE  LONGITUDE  ELEVATION  DATE  \\\n0  USC00437612  SOUTH LINCOLN, VT US   44.0725   -72.9736      408.7  1990   \n1  USC00437612  SOUTH LINCOLN, VT US   44.0725   -72.9736      408.7  1991   \n2  USC00437612  SOUTH LINCOLN, VT US   44.0725   -72.9736      408.7  1992   \n3  USC00437612  SOUTH LINCOLN, VT US   44.0725   -72.9736      408.7  1993   \n4  USC00437612  SOUTH LINCOLN, VT US   44.0725   -72.9736      408.7  1994   \n\n   AWND AWND_ATTRIBUTES   CDSD  CDSD_ATTRIBUTES     ...      WSFG  \\\n0   NaN             NaN    NaN              NaN     ...       NaN   \n1   NaN             NaN    NaN              NaN     ...       NaN   \n2   NaN             NaN   66.0              NaN     ...       NaN   \n3   NaN             NaN  142.0              NaN     ...       NaN   \n4   NaN             NaN  144.0              NaN     ...       NaN   \n\n  WSFG_ATTRIBUTES  Unnamed: 86 Unnamed: 87  Unnamed: 88 Unnamed: 89  \\\n0             NaN          NaN         NaN          NaN         NaN   \n1             NaN          NaN         NaN          NaN         NaN   \n2             NaN          NaN         NaN          NaN         NaN   \n3             NaN          NaN         NaN          NaN         NaN   \n4             NaN          NaN         NaN          NaN         NaN   \n\n   Unnamed: 90  Unnamed: 91  Unnamed: 92 Unnamed: 93  \n0          NaN          NaN          NaN         NaN  \n1          NaN          NaN          NaN         NaN  \n2          NaN          NaN          NaN         NaN  \n3          NaN          NaN          NaN         NaN  \n4          NaN          NaN          NaN         NaN  \n\n[5 rows x 94 columns]"
     },
     "execution_count": 5,
     "metadata": {},
     "output_type": "execute_result"
    }
   ],
   "source": [
    "display(data.shape)\n",
    "data.head()"
   ]
  },
  {
   "cell_type": "markdown",
   "execution_count": null,
   "metadata": {},
   "outputs": [],
   "source": [
    "- STATION (11 characters) is the station identification code. \n",
    "- STATION_NAME (max 50 characters) is the name of the station (usually city/airport name). This is an optional output field.\n",
    "- LATITUDE (8 characters) is the latitude (decimated degrees w/Northern Hemisphere values > 0). This is an optional output field.\n",
    "- LONGITUDE (9 characters) is the longitude (decimated degrees w/Western Hemisphere values < 0 and Eastern Hemisphere values > 0). This is an optional output field.\n",
    "- ELEVATION (13 characters) is the elevation above mean sea level in meters (to nearest thousandth of a meter). This is an optional output field.\n",
    "- DATE is the year of the record (4 digits). \n"
   ]
  }
 ]
}